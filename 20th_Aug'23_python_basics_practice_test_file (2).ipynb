{
 "cells": [
  {
   "cell_type": "markdown",
   "id": "06130c12-bc23-4e6f-81bf-9da74a4dee2f",
   "metadata": {
    "tags": []
   },
   "source": [
    "# String Based Assignment Problem\n",
    "\n"
   ]
  },
  {
   "cell_type": "code",
   "execution_count": 7,
   "id": "99d95eaa-a07a-46b6-bae6-7eb5657f2fba",
   "metadata": {},
   "outputs": [
    {
     "data": {
      "text/plain": [
       "'ituraM'"
      ]
     },
     "execution_count": 7,
     "metadata": {},
     "output_type": "execute_result"
    }
   ],
   "source": [
    "#  1. Write a program to reverse a string.\n",
    "# Using slice i have reversed the String\n",
    "\n",
    "str1=\"Maruti\"\n",
    "str2=str1[::-1]\n",
    "str2"
   ]
  },
  {
   "cell_type": "code",
   "execution_count": 13,
   "id": "63fd1965-286f-44d7-ba54-cd919c2a8782",
   "metadata": {},
   "outputs": [
    {
     "data": {
      "text/plain": [
       "True"
      ]
     },
     "execution_count": 13,
     "metadata": {},
     "output_type": "execute_result"
    }
   ],
   "source": [
    "#  2. Check if a string is a palindrome.\n",
    "str2=\"Level\".\n",
    "str3=str2.lower()\n",
    "newStr=''.join(e for e in str3 if (e.isalnum))\n",
    "str5=str3==newStr[::-1]\n",
    "str5"
   ]
  },
  {
   "cell_type": "code",
   "execution_count": 18,
   "id": "0a745c71-7d72-46c2-8fea-56e38a2f082f",
   "metadata": {},
   "outputs": [
    {
     "data": {
      "text/plain": [
       "'MARUTI'"
      ]
     },
     "execution_count": 18,
     "metadata": {},
     "output_type": "execute_result"
    }
   ],
   "source": [
    "#   3. Convert a string to uppercase.\n",
    "str1=\"maruti\"\n",
    "str1.upper()"
   ]
  },
  {
   "cell_type": "code",
   "execution_count": 20,
   "id": "64c09550-67fe-441b-a358-06e6da158de2",
   "metadata": {},
   "outputs": [
    {
     "data": {
      "text/plain": [
       "'panchal'"
      ]
     },
     "execution_count": 20,
     "metadata": {},
     "output_type": "execute_result"
    }
   ],
   "source": [
    "#   4. Convert a string to lowercase.\n",
    "str1=\"PANCHAL\"\n",
    "str1.lower()"
   ]
  },
  {
   "cell_type": "code",
   "execution_count": 35,
   "id": "177a38d8-ff71-40e4-b9fa-855c5ca64217",
   "metadata": {},
   "outputs": [
    {
     "data": {
      "text/plain": [
       "7"
      ]
     },
     "execution_count": 35,
     "metadata": {},
     "output_type": "execute_result"
    }
   ],
   "source": [
    "#  5. Count the number of vowels in a string.\n",
    "str1=\"Hello, how are you?\"\n",
    "cnt=0\n",
    "for char in str1:\n",
    "    if(char=='a' or char=='e' or char=='i' or char=='o' or char=='u'):\n",
    "        cnt+=1\n",
    "cnt"
   ]
  },
  {
   "cell_type": "code",
   "execution_count": 38,
   "id": "ba9b66f4-176f-4508-845a-95d708d3b7d8",
   "metadata": {},
   "outputs": [
    {
     "data": {
      "text/plain": [
       "12"
      ]
     },
     "execution_count": 38,
     "metadata": {},
     "output_type": "execute_result"
    }
   ],
   "source": [
    "#  6. Count the number of consonants in a string.\n",
    "str1=\"Hello, how are you?\"\n",
    "cnt=0\n",
    "for char in str1:\n",
    "    if(char=='a' or char=='e' or char=='i' or char=='o' or char=='u'):\n",
    "        continue\n",
    "    else:\n",
    "        cnt+=1\n",
    "cnt"
   ]
  },
  {
   "cell_type": "code",
   "execution_count": 46,
   "id": "873a2b97-b2fe-445d-86ec-9eeb75a0962b",
   "metadata": {},
   "outputs": [
    {
     "data": {
      "text/plain": [
       "'Hello,howareyou?'"
      ]
     },
     "execution_count": 46,
     "metadata": {},
     "output_type": "execute_result"
    }
   ],
   "source": [
    "#  7. Remove all whitespaces from a string.\n",
    "str1=\"Hello, how are you?\"\n",
    "result=\"\";\n",
    "for char in str1:\n",
    "    if(char!=' '):\n",
    "         result=result+char;\n",
    "result"
   ]
  },
  {
   "cell_type": "code",
   "execution_count": 47,
   "id": "1dc94511-4794-4998-99ef-0d584b3cc0dc",
   "metadata": {},
   "outputs": [
    {
     "data": {
      "text/plain": [
       "19"
      ]
     },
     "execution_count": 47,
     "metadata": {},
     "output_type": "execute_result"
    }
   ],
   "source": [
    "#  8. Find the length of a string without using the `len()` function.\n",
    "str1=\"Hello, how are you?\"\n",
    "cnt=0;\n",
    "for ch in str1:\n",
    "    cnt+=1\n",
    "cnt"
   ]
  },
  {
   "cell_type": "code",
   "execution_count": 48,
   "id": "766c0379-3dcd-4873-bc18-c137b9748961",
   "metadata": {},
   "outputs": [
    {
     "data": {
      "text/plain": [
       "11"
      ]
     },
     "execution_count": 48,
     "metadata": {},
     "output_type": "execute_result"
    }
   ],
   "source": [
    "#  9. Check if a string contains a specific word.\n",
    "str1=\"Hello, how are you?\"    # Using find()  gives -1 if word not found\n",
    "str1.find('a')"
   ]
  },
  {
   "cell_type": "code",
   "execution_count": 50,
   "id": "dd424c86-1d58-466c-9f66-660af74b928b",
   "metadata": {},
   "outputs": [
    {
     "name": "stdout",
     "output_type": "stream",
     "text": [
      "Not Found\n"
     ]
    }
   ],
   "source": [
    "str1=\"Hello, how are you?\"\n",
    "str3=str1.find('z')\n",
    "if(str3==-1):\n",
    "    print(\"Not Found\")\n",
    "else:\n",
    "    print(\"Word Found\")\n",
    "    "
   ]
  },
  {
   "cell_type": "code",
   "execution_count": 55,
   "id": "38ad4e29-57b3-46fb-88d4-6f725a1d8b23",
   "metadata": {},
   "outputs": [
    {
     "name": "stdout",
     "output_type": "stream",
     "text": [
      "Word Found\n"
     ]
    }
   ],
   "source": [
    "str1=\"Hello, how are you?\"    # Using index  Error Means not found\n",
    "str3=str1.index('a')\n",
    "if(str3>0):\n",
    "    print(\"Word Found\")\n"
   ]
  },
  {
   "cell_type": "code",
   "execution_count": 1,
   "id": "20d1035b-8368-4f4f-94de-c05039d42c10",
   "metadata": {},
   "outputs": [
    {
     "data": {
      "text/plain": [
       "'aaruti'"
      ]
     },
     "execution_count": 1,
     "metadata": {},
     "output_type": "execute_result"
    }
   ],
   "source": [
    "#  10. Replace a word in a string with another word.\n",
    "str1=\"maruti\"\n",
    "str1.replace('m','a')"
   ]
  },
  {
   "cell_type": "code",
   "execution_count": 10,
   "id": "f63e45d5-8fbc-4cec-b64a-5f1840534b31",
   "metadata": {},
   "outputs": [
    {
     "name": "stdout",
     "output_type": "stream",
     "text": [
      "Number of Occurences is :  2\n"
     ]
    }
   ],
   "source": [
    "#  11. Count the occurrences of a word in a string.\n",
    "str1=\"Hello how are how you?\"  \n",
    "targetWord='how'\n",
    "cnt=0;\n",
    "convertedList=str1.split()\n",
    "for ch in convertedList:\n",
    "    if ch=='how':\n",
    "        cnt+=1\n",
    "print(\"Number of Occurences is : \",cnt) "
   ]
  },
  {
   "cell_type": "code",
   "execution_count": 13,
   "id": "377f177c-e757-4807-ac72-5fe7d60ce458",
   "metadata": {},
   "outputs": [
    {
     "name": "stdout",
     "output_type": "stream",
     "text": [
      " Th First Occurences Of a Word in String is :  Hello\n"
     ]
    }
   ],
   "source": [
    "#  12. Find the first occurrence of a word in a string.\n",
    "str1=\"Hello how are how you?\"  \n",
    "convertedList=str1.split()\n",
    "for ch in convertedList:\n",
    "    print(\" Th First Occurences Of a Word in String is : \",ch) \n",
    "    break;\n"
   ]
  },
  {
   "cell_type": "code",
   "execution_count": 24,
   "id": "a418fc75-a2ad-4ac1-a17e-e2144bd7f806",
   "metadata": {},
   "outputs": [
    {
     "name": "stdout",
     "output_type": "stream",
     "text": [
      " Th Last Occurences Of a Word in String is :  you\n"
     ]
    }
   ],
   "source": [
    "#  13. Find the last occurrence of a word in a string.\n",
    "str1=\"Hello how are how you\" \n",
    "print(\" Th Last Occurences Of a Word in String is : \",str1.split()[-1]) "
   ]
  },
  {
   "cell_type": "code",
   "execution_count": 26,
   "id": "eb4bcce2-f300-4f97-b431-c6c78266a036",
   "metadata": {},
   "outputs": [
    {
     "name": "stdout",
     "output_type": "stream",
     "text": [
      "Splited List is :  ['Hello', 'how', 'are', 'how', 'you']\n"
     ]
    }
   ],
   "source": [
    "#  14. Split a string into a list of words.\n",
    "str1=\"Hello how are how you\" \n",
    "print(\"Splited List is : \",str1.split())"
   ]
  },
  {
   "cell_type": "code",
   "execution_count": 28,
   "id": "5ee8e702-9fa8-472b-9eab-311c5cf4f189",
   "metadata": {},
   "outputs": [
    {
     "data": {
      "text/plain": [
       "list"
      ]
     },
     "execution_count": 28,
     "metadata": {},
     "output_type": "execute_result"
    }
   ],
   "source": [
    "#  15. Join a list of words into a string.\n",
    "str1=\"Hello how are how you\" \n",
    "str2=str1.split()\n",
    "type(str2)"
   ]
  },
  {
   "cell_type": "code",
   "execution_count": 35,
   "id": "d474d6a2-4a3c-4f6a-8c52-318c30bf800a",
   "metadata": {},
   "outputs": [
    {
     "name": "stdout",
     "output_type": "stream",
     "text": [
      "Before Join :  ['Hello', 'how', 'are', 'how', 'you']\n",
      "After join :  Hello how are how you\n"
     ]
    }
   ],
   "source": [
    "# Now will join a list\n",
    "str4=' '.join(e for e in str2)\n",
    "print(\"Before Join : \",str2)\n",
    "print(\"After join : \",str4)"
   ]
  },
  {
   "cell_type": "code",
   "execution_count": 5,
   "id": "bf440978-fe23-465a-9ed6-2b4c1cde488b",
   "metadata": {},
   "outputs": [
    {
     "name": "stdout",
     "output_type": "stream",
     "text": [
      "Before Converting :  Hello this is maruti panchal\n",
      "After Converting :  Hello_this_is_maruti_panchal\n"
     ]
    }
   ],
   "source": [
    "# 16. Convert a string where words are separated by spaces to one where wordsare separated by underscores.\n",
    "letString=\"Hello this is maruti panchal\";\n",
    "print(\"Before Converting : \",letString);\n",
    "newString=letString.replace(\" \",\"_\");\n",
    "print(\"After Converting : \",newString);"
   ]
  },
  {
   "cell_type": "code",
   "execution_count": 8,
   "id": "377ee540-6dad-4bc1-a006-5163a34c84ff",
   "metadata": {},
   "outputs": [
    {
     "name": "stdout",
     "output_type": "stream",
     "text": [
      "True\n"
     ]
    }
   ],
   "source": [
    "# 17. Check if a string starts with a specific word or phrase.\n",
    "letString=\"Hello this is maruti panchal\";\n",
    "print(letString.startswith(\"Hello\"));"
   ]
  },
  {
   "cell_type": "code",
   "execution_count": 9,
   "id": "6627f17e-dede-4dc0-940b-be2b152f59dd",
   "metadata": {},
   "outputs": [
    {
     "name": "stdout",
     "output_type": "stream",
     "text": [
      "False\n"
     ]
    }
   ],
   "source": [
    "# 18. Check if a string ends with a specific word or phrase.\n",
    "letString=\"Hello this is maruti panchal\";\n",
    "print(letString.endswith(\"maruti\"));"
   ]
  },
  {
   "cell_type": "code",
   "execution_count": 19,
   "id": "a341fcb9-cd98-4b19-955f-0100ed930629",
   "metadata": {},
   "outputs": [
    {
     "name": "stdout",
     "output_type": "stream",
     "text": [
      "Method 1 :  Hello World\n",
      "Method 2 :  Hello World\n"
     ]
    }
   ],
   "source": [
    "# 19. Convert a string to title case (e.g., \"hello world\" to \"Hello World\").\n",
    "letString=\"hello world\";\n",
    "print(\"Method 1 : \",letString.replace('h','H').replace('w','W'));\n",
    "print(\"Method 2 : \",letString.title());"
   ]
  },
  {
   "cell_type": "code",
   "execution_count": 2,
   "id": "a1bcc8f4-1874-44ce-a5df-0e459f714ac4",
   "metadata": {},
   "outputs": [
    {
     "name": "stdout",
     "output_type": "stream",
     "text": [
      "maruti_panchal\n"
     ]
    }
   ],
   "source": [
    "# 20. Find the longest word in a string.\n",
    "letString=\"hello world my name is maruti_panchal\";\n",
    "convString=letString.split(\" \");\n",
    "result=\"\";\n",
    "for ch in convString:\n",
    "    if len(ch)>len(result):\n",
    "        result=ch;\n",
    "print(result);"
   ]
  },
  {
   "cell_type": "code",
   "execution_count": 5,
   "id": "93c35840-2296-4ab4-9330-73e1568c51b5",
   "metadata": {},
   "outputs": [
    {
     "name": "stdout",
     "output_type": "stream",
     "text": [
      "my\n"
     ]
    }
   ],
   "source": [
    "# 21. Find the shortest word in a string.\n",
    "letString=\"hello world my name is maruti_panchal\";\n",
    "convString=letString.split(\" \");\n",
    "result=('inf');\n",
    "for ch in convString:\n",
    "    if len(ch)<len(result):\n",
    "        result=ch;\n",
    "print(result);"
   ]
  },
  {
   "cell_type": "code",
   "execution_count": 30,
   "id": "3fd012ed-daee-4ad8-a92e-d561ea361b48",
   "metadata": {},
   "outputs": [
    {
     "name": "stdout",
     "output_type": "stream",
     "text": [
      "hello world my name is maruti_panchal\n",
      " olleh dlrow ym eman si lahcnap_ituram \n"
     ]
    }
   ],
   "source": [
    "# 22. Reverse the order of words in a string.\n",
    "letString=\"hello world my name is maruti_panchal\";\n",
    "print(letString)\n",
    "reverseString=' ';\n",
    "arrayString=letString.split(' ');\n",
    "for ch in arrayString:\n",
    "    reverseString+=ch[::-1]+\" \";\n",
    "print(reverseString)\n",
    "    \n"
   ]
  },
  {
   "cell_type": "code",
   "execution_count": 36,
   "id": "b2801df8-7292-4ebd-b361-e8e04cc51394",
   "metadata": {},
   "outputs": [
    {
     "name": "stdout",
     "output_type": "stream",
     "text": [
      "String 1 is alphanumeric: False\n",
      "String 2 is alphanumeric: True\n"
     ]
    }
   ],
   "source": [
    "# 23. Check if a string is alphanumeric.\n",
    "letString=\"hello world my name is maruti_panchal\";\n",
    "letString2='nannvn18u8u8';\n",
    "is_alphanumeric_1 = letString.isalnum()\n",
    "is_alphanumeric_2 = letString2.isalnum()\n",
    "\n",
    "print(f\"String 1 is alphanumeric: {is_alphanumeric_1}\")\n",
    "print(f\"String 2 is alphanumeric: {is_alphanumeric_2}\")\n"
   ]
  },
  {
   "cell_type": "code",
   "execution_count": 38,
   "id": "5c818083-9132-4cd3-a9f9-4a8915168ef6",
   "metadata": {},
   "outputs": [
    {
     "name": "stdout",
     "output_type": "stream",
     "text": [
      "Extracted Digits are :  71231888\n"
     ]
    }
   ],
   "source": [
    "# 24. Extract all digits from a string.\n",
    "def extractDigit(letString2):\n",
    "    digit=\" \";\n",
    "    for ch in letString2:\n",
    "        if ch.isdigit():\n",
    "            digit+=ch;\n",
    "    return digit;\n",
    "letString2='jsjjj7cnan123nvn18u8u8sgdh';\n",
    "print(\"Extracted Digits are : \"+extractDigit(letString2));"
   ]
  },
  {
   "cell_type": "code",
   "execution_count": 40,
   "id": "205d7a1f-d50b-49e4-8a58-a4c4aeaad024",
   "metadata": {},
   "outputs": [
    {
     "name": "stdout",
     "output_type": "stream",
     "text": [
      "Extracted Alphabates are :  jsjjjcnannvnuusgdh\n"
     ]
    }
   ],
   "source": [
    "# 25. Extract all alphabets from a string.\n",
    "def extractAlphabte(letString2):\n",
    "    alpha=\" \";\n",
    "    for ch in letString2:\n",
    "        if ch.isalpha():\n",
    "            alpha+=ch;\n",
    "    return alpha;\n",
    "letString2='jsjjj7cnan123nvn18u8u8sgdh';\n",
    "print(\"Extracted Alphabates are : \"+extractAlphabte(letString2));"
   ]
  },
  {
   "cell_type": "code",
   "execution_count": 45,
   "id": "ad49c7ae-6282-405f-a6b3-c01290caac32",
   "metadata": {},
   "outputs": [
    {
     "name": "stdout",
     "output_type": "stream",
     "text": [
      "A\n",
      "B\n",
      "C\n",
      "D\n",
      "E\n",
      "Uppercase Count is :  5\n"
     ]
    }
   ],
   "source": [
    "# 26. Count the number of uppercase letters in a string.\n",
    "def upperCaseCount(demoString):\n",
    "    cnt=0;\n",
    "    for ch in demoString:\n",
    "        if ch.isupper():\n",
    "            cnt+=1;\n",
    "            print(ch)\n",
    "    return cnt;\n",
    "demoString='123ABCDEfghsi';\n",
    "print('Uppercase Count is : ',+upperCaseCount(demoString));"
   ]
  },
  {
   "cell_type": "code",
   "execution_count": 47,
   "id": "c4639eca-bec2-4c90-b42c-6739a3a68f3f",
   "metadata": {},
   "outputs": [
    {
     "name": "stdout",
     "output_type": "stream",
     "text": [
      "f\n",
      "g\n",
      "h\n",
      "s\n",
      "k\n",
      "d\n",
      "j\n",
      "d\n",
      "i\n",
      "Uppercase Count is :  9\n"
     ]
    }
   ],
   "source": [
    "# 27. Count the number of lowercase letters in a string.\n",
    "def lowerCaseCount(demoString):\n",
    "    cnt=0;\n",
    "    for ch in demoString:\n",
    "        if ch.islower():\n",
    "            cnt+=1;\n",
    "            print(ch)\n",
    "    return cnt;\n",
    "demoString='123ABCDEfghskdjdi';\n",
    "print('Uppercase Count is : ',+lowerCaseCount(demoString));"
   ]
  },
  {
   "cell_type": "code",
   "execution_count": 51,
   "id": "c8365904-fcae-4f52-8abe-c4dcfeb9632e",
   "metadata": {},
   "outputs": [
    {
     "name": "stdout",
     "output_type": "stream",
     "text": [
      "Swap case is :  abcdeFGHSKDJDI\n"
     ]
    }
   ],
   "source": [
    "# 28. Swap the case of each character in a stringd.\n",
    "def swapCase(demoString):\n",
    "    return demoString.swapcase();\n",
    "demoString='ABCDEfghskdjdi';\n",
    "print('Swap case is : ',  swapCase(demoString));"
   ]
  },
  {
   "cell_type": "code",
   "execution_count": 65,
   "id": "9a3345f4-5763-4ef6-8d2b-43525eb2fb67",
   "metadata": {},
   "outputs": [
    {
     "name": "stdout",
     "output_type": "stream",
     "text": [
      "Before Removing :  hello world my name is maruti_panchal\n",
      "After Removed :  hello my name is maruti_panchal \n"
     ]
    }
   ],
   "source": [
    "# 29. Remove a specific word from a string.\n",
    "def removeWord(demoString,word):\n",
    "    arrayWord=demoString.split(' ');\n",
    "    newString='';\n",
    "    for ch in arrayWord:\n",
    "        if ch!=word:\n",
    "            newString+=ch+' ';\n",
    "    return newString;\n",
    "letString=\"hello world my name is maruti_panchal\";\n",
    "print('Before Removing : ',letString);\n",
    "print('After Removed : ',  removeWord(letString,'world'));"
   ]
  },
  {
   "cell_type": "code",
   "execution_count": 3,
   "id": "5b49f97d-5461-4ad5-8627-8277c981350c",
   "metadata": {},
   "outputs": [
    {
     "name": "stdin",
     "output_type": "stream",
     "text": [
      "Enter an email address:  panchal.maruti70@gmail.com\n"
     ]
    },
    {
     "name": "stdout",
     "output_type": "stream",
     "text": [
      "Valid email address\n"
     ]
    }
   ],
   "source": [
    "import re\n",
    "\n",
    "# 30. Check if a string is a valid email address.\n",
    "def is_valid_email(email):\n",
    "    pattern = r'^[a-zA-Z0-9._%+-]+@[a-zA-Z0-9.-]+\\.[a-zA-Z]{2,}$'\n",
    "    return re.match(pattern, email) is not None\n",
    "\n",
    "\n",
    "email = input(\"Enter an email address: \")\n",
    "if is_valid_email(email):\n",
    "    print(\"Valid email address\")\n",
    "else:\n",
    "    print(\"Invalid email address\")"
   ]
  },
  {
   "cell_type": "code",
   "execution_count": 4,
   "id": "f7f193d0-f679-4e29-a2ac-a78baedcc3bb",
   "metadata": {},
   "outputs": [
    {
     "name": "stdout",
     "output_type": "stream",
     "text": [
      "Username: example.user\n"
     ]
    }
   ],
   "source": [
    "# 31. Extract the username from an email address string.\n",
    "import re\n",
    "\n",
    "def extract_username(email):\n",
    "    return re.match(r'^([a-zA-Z0-9._%+-]+)@', email).group(1)\n",
    "\n",
    "\n",
    "email = \"example.user@example.com\"\n",
    "print(\"Username:\", extract_username(email))"
   ]
  },
  {
   "cell_type": "code",
   "execution_count": 8,
   "id": "9ce981ba-7dbd-4cbf-888d-97aa62f508e4",
   "metadata": {},
   "outputs": [
    {
     "name": "stdout",
     "output_type": "stream",
     "text": [
      "Domain: example.com\n"
     ]
    }
   ],
   "source": [
    "# 32. Extract the domain name from an email address string.\n",
    "def extract_domain(email):\n",
    "    return re.search(r'@(.+)$', email).group(1)\n",
    "\n",
    "\n",
    "email = \"example.user@example.com\"\n",
    "print(\"Domain:\", extract_domain(email))"
   ]
  },
  {
   "cell_type": "code",
   "execution_count": 9,
   "id": "b0224be1-4350-4bb3-880f-aebbdf5fe371",
   "metadata": {},
   "outputs": [
    {
     "name": "stdout",
     "output_type": "stream",
     "text": [
      "Original string: This   is   a   sentence   with   multiple   spaces.\n",
      "After replacement: This is a sentence with multiple spaces.\n"
     ]
    }
   ],
   "source": [
    "# 33. Replace multiple spaces in a string with a single space.\n",
    "def replace_multiple_spaces(string):\n",
    "    return re.sub(r'\\s+', ' ', string)\n",
    "\n",
    "\n",
    "string = \"This   is   a   sentence   with   multiple   spaces.\"\n",
    "print(\"Original string:\", string)\n",
    "print(\"After replacement:\", replace_multiple_spaces(string))"
   ]
  },
  {
   "cell_type": "code",
   "execution_count": 12,
   "id": "bd566744-27da-4df9-b656-5f4d96611931",
   "metadata": {},
   "outputs": [
    {
     "name": "stdin",
     "output_type": "stream",
     "text": [
      "Enter a URL:  https:\\\\www.google.com\n"
     ]
    },
    {
     "name": "stdout",
     "output_type": "stream",
     "text": [
      "Invalid URL\n"
     ]
    }
   ],
   "source": [
    "# 34. Check if a string is a valid URL.\n",
    "import re\n",
    "def is_valid_url(url):\n",
    "    pattern = r'^(http|https):\\/\\/[a-zA-Z0-9\\-\\.]+\\.[a-zA-Z]{2,}(\\/\\S*)?$'\n",
    "    return re.match(pattern, url) is not None\n",
    "\n",
    "url = input(\"Enter a URL: \")\n",
    "if is_valid_url(url):\n",
    "    print(\"Valid URL\")\n",
    "else:\n",
    "    print(\"Invalid URL\")"
   ]
  },
  {
   "cell_type": "code",
   "execution_count": 14,
   "id": "d83ae0e2-f7de-4a24-98e5-dd04d2633dfc",
   "metadata": {},
   "outputs": [
    {
     "name": "stdout",
     "output_type": "stream",
     "text": [
      "Protocol: http\n"
     ]
    }
   ],
   "source": [
    "# 35. Extract the protocol (http or https) from a URL string.\n",
    "def extract_protocol(url):\n",
    "    return re.match(r'^(http|https)', url).group(1)\n",
    "\n",
    "\n",
    "url = \"https://www.example.com\"\n",
    "print(\"Protocol:\", extract_protocol(url))"
   ]
  },
  {
   "cell_type": "code",
   "execution_count": 15,
   "id": "629d7e76-e689-42eb-899b-eb2e6c872ef6",
   "metadata": {},
   "outputs": [
    {
     "name": "stdout",
     "output_type": "stream",
     "text": [
      "Character frequency: {'h': 1, 'e': 1, 'l': 3, 'o': 2, ' ': 1, 'w': 1, 'r': 1, 'd': 1}\n"
     ]
    }
   ],
   "source": [
    "# 36. Find the frequency of each character in a string.\n",
    "def character_frequency(string):\n",
    "    frequency = {}\n",
    "    for char in string:\n",
    "        frequency[char] = frequency.get(char, 0) + 1\n",
    "    return frequency\n",
    "\n",
    "\n",
    "string = \"hello world\"\n",
    "print(\"Character frequency:\", character_frequency(string))"
   ]
  },
  {
   "cell_type": "code",
   "execution_count": 16,
   "id": "933a56d5-2818-4ad9-8f72-aeddee884196",
   "metadata": {},
   "outputs": [
    {
     "name": "stdout",
     "output_type": "stream",
     "text": [
      "Original string: Hello, world! This is a test.\n",
      "After removing punctuation: Hello world This is a test\n"
     ]
    }
   ],
   "source": [
    "# 37. Remove all punctuation from a string.\n",
    "def remove_punctuation(string):\n",
    "    return re.sub(r'[^\\w\\s]', '', string)\n",
    "\n",
    "string = \"Hello, world! This is a test.\"\n",
    "print(\"Original string:\", string)\n",
    "print(\"After removing punctuation:\", remove_punctuation(string))"
   ]
  },
  {
   "cell_type": "code",
   "execution_count": 17,
   "id": "79fbfd29-7632-40da-ae30-226100916b7e",
   "metadata": {},
   "outputs": [
    {
     "name": "stdin",
     "output_type": "stream",
     "text": [
      "Enter a string:  maruti\n"
     ]
    },
    {
     "name": "stdout",
     "output_type": "stream",
     "text": [
      "Does not contain only digits\n"
     ]
    }
   ],
   "source": [
    "# 38. Check if a string contains only digits.\n",
    "def contains_only_digits(string):\n",
    "    return re.match(r'^\\d+$', string) is not None\n",
    "\n",
    "string = input(\"Enter a string: \")\n",
    "if contains_only_digits(string):\n",
    "    print(\"Contains only digits\")\n",
    "else:\n",
    "    print(\"Does not contain only digits\")"
   ]
  },
  {
   "cell_type": "code",
   "execution_count": 18,
   "id": "5dd9f1c1-ef2c-47bf-a6bf-7d01dc473b0c",
   "metadata": {},
   "outputs": [
    {
     "name": "stdin",
     "output_type": "stream",
     "text": [
      "Enter a string:  maruti90\n"
     ]
    },
    {
     "name": "stdout",
     "output_type": "stream",
     "text": [
      "Does not contain only alphabets\n"
     ]
    }
   ],
   "source": [
    "# 39. Check if a string contains only alphabets.\n",
    "def contains_only_alphabets(string):\n",
    "    return re.match(r'^[a-zA-Z]+$', string) is not None\n",
    "\n",
    "\n",
    "string = input(\"Enter a string: \")\n",
    "if contains_only_alphabets(string):\n",
    "    print(\"Contains only alphabets\")\n",
    "else:\n",
    "    print(\"Does not contain only alphabets\")"
   ]
  },
  {
   "cell_type": "code",
   "execution_count": 19,
   "id": "5415cdca-8e8b-437b-8dc2-60e052718c2b",
   "metadata": {},
   "outputs": [
    {
     "name": "stdout",
     "output_type": "stream",
     "text": [
      "String: hello\n",
      "List of characters: ['h', 'e', 'l', 'l', 'o']\n"
     ]
    }
   ],
   "source": [
    "# 40. Convert a string to a list of characters.\n",
    "def string_to_characters(string):\n",
    "    return list(string)\n",
    "\n",
    "string = \"hello\"\n",
    "print(\"String:\", string)\n",
    "print(\"List of characters:\", string_to_characters(string))"
   ]
  },
  {
   "cell_type": "code",
   "execution_count": 21,
   "id": "7775e9fd-5c3a-4472-a930-91099ef499a5",
   "metadata": {},
   "outputs": [
    {
     "name": "stdin",
     "output_type": "stream",
     "text": [
      "Enter the first string:  abcd\n",
      "Enter the second string:  dabc\n"
     ]
    },
    {
     "name": "stdout",
     "output_type": "stream",
     "text": [
      "The strings are anagrams.\n"
     ]
    }
   ],
   "source": [
    "# 41. Check if two strings are anagrams.\n",
    "import string\n",
    "from collections import Counter\n",
    "\n",
    "def are_anagrams(string1, string2):\n",
    "    return Counter(string1.lower()) == Counter(string2.lower())\n",
    "\n",
    "\n",
    "string1 = input(\"Enter the first string: \")\n",
    "string2 = input(\"Enter the second string: \")\n",
    "if are_anagrams(string1, string2):\n",
    "    print(\"The strings are anagrams.\")\n",
    "else:\n",
    "    print(\"The strings are not anagrams.\")"
   ]
  },
  {
   "cell_type": "code",
   "execution_count": null,
   "id": "a5b55c9f-4144-4332-94f2-1c8a125270a9",
   "metadata": {},
   "outputs": [],
   "source": [
    "# 42. Encode a string using a Caesar cipher.\n",
    "def caesar_cipher_encode(string, shift):\n",
    "    alphabet = string.ascii_lowercase\n",
    "    shifted_alphabet = alphabet[shift:] + alphabet[:shift]\n",
    "    translation_table = str.maketrans(alphabet + alphabet.upper(), shifted_alphabet + shifted_alphabet.upper())\n",
    "    return string.translate(translation_table)\n",
    "\n",
    "\n",
    "string = input(\"Enter a string to encode: \")\n",
    "shift = int(input(\"Enter the shift value: \"))\n",
    "encoded_string = caesar_cipher_encode(string, shift)\n",
    "print(\"Encoded string:\", encoded_string)"
   ]
  },
  {
   "cell_type": "code",
   "execution_count": null,
   "id": "ad7144a4-a639-499a-ab9f-fc40d60db1f4",
   "metadata": {},
   "outputs": [],
   "source": [
    "# 43. Decode a Caesar cipher encoded string.\n",
    "def caesar_cipher_decode(string, shift):\n",
    "    return caesar_cipher_encode(string, -shift)\n",
    "\n",
    "\n",
    "encoded_string = input(\"Enter a string to decode: \")\n",
    "shift = int(input(\"Enter the shift value: \"))\n",
    "decoded_string = caesar_cipher_decode(encoded_string, shift)\n",
    "print(\"Decoded string:\", decoded_string)"
   ]
  },
  {
   "cell_type": "code",
   "execution_count": 26,
   "id": "d0740829-33ff-47d0-bc6e-c9ef4dd98bb2",
   "metadata": {},
   "outputs": [
    {
     "name": "stdout",
     "output_type": "stream",
     "text": [
      "Most frequent word: test\n"
     ]
    }
   ],
   "source": [
    "# 44. Find the most frequent word in a string.\n",
    "def most_frequent_word(string):\n",
    "    words = string.split()\n",
    "    word_count = Counter(words)\n",
    "    return word_count.most_common(1)[0][0]\n",
    "\n",
    "\n",
    "string = \"This is a test string to test the most frequent word.\"\n",
    "print(\"Most frequent word:\", most_frequent_word(string))"
   ]
  },
  {
   "cell_type": "code",
   "execution_count": 30,
   "id": "5f184918-efbb-4a4a-9b7d-793c1c39ccba",
   "metadata": {},
   "outputs": [
    {
     "name": "stdout",
     "output_type": "stream",
     "text": [
      "Unique words: {'words', 'string', 'a', 'repeated', 'is', 'some', 'with', 'This', 'test', 'test.'}\n"
     ]
    }
   ],
   "source": [
    "# 45. Find all unique words in a string.\n",
    "def unique_words(string):\n",
    "    return set(string.split())\n",
    "\n",
    "string = \"This is a test string with some repeated words test test.\"\n",
    "print(\"Unique words:\", unique_words(string))"
   ]
  },
  {
   "cell_type": "code",
   "execution_count": 29,
   "id": "4e1720d2-4774-4e97-a619-2521cd81fc12",
   "metadata": {},
   "outputs": [
    {
     "name": "stdout",
     "output_type": "stream",
     "text": [
      "Number of syllables: 8\n"
     ]
    }
   ],
   "source": [
    "# 46. Count the number of syllables in a string.\n",
    "def count_syllables(string):\n",
    "    vowels = \"aeiouAEIOU\"\n",
    "    count = 0\n",
    "    for i in range(len(string)):\n",
    "        if string[i] in vowels and (i == 0 or string[i-1] not in vowels):\n",
    "            count += 1\n",
    "    return count\n",
    "\n",
    "string = \"Hello world, this is a test string.\"\n",
    "print(\"Number of syllables:\", count_syllables(string))"
   ]
  },
  {
   "cell_type": "code",
   "execution_count": null,
   "id": "9e5d6b6b-19c5-4c00-b7a1-1854604eb251",
   "metadata": {},
   "outputs": [],
   "source": [
    "# 47. Check if a string contains any special characters.\n",
    "def contains_special_characters(string):\n",
    "    return any(char for char in string if char in string.punctuation)\n",
    "\n",
    "\n",
    "string = input(\"Enter a string: \")\n",
    "if contains_special_characters(string):\n",
    "    print(\"The string contains special characters.\")\n",
    "else:\n",
    "    print(\"The string does not contain special characters.\")"
   ]
  },
  {
   "cell_type": "code",
   "execution_count": 35,
   "id": "5f986a6d-fc53-4dae-8deb-82b4cc91f66e",
   "metadata": {},
   "outputs": [
    {
     "name": "stdin",
     "output_type": "stream",
     "text": [
      "Enter the index of the word to remove:  2\n"
     ]
    },
    {
     "name": "stdout",
     "output_type": "stream",
     "text": [
      "String after removing the nth word: This is test string.\n"
     ]
    }
   ],
   "source": [
    "# 48. Remove the nth word from a string.\n",
    "\n",
    "def remove_nth_word(string, n):\n",
    "    words = string.split()\n",
    "    if 0 <= n < len(words):\n",
    "        del words[n]\n",
    "    return \" \".join(words)\n",
    "\n",
    "\n",
    "string = \"This is a test string.\"\n",
    "n = int(input(\"Enter the index of the word to remove: \"))\n",
    "print(\"String after removing the nth word:\", remove_nth_word(string, n))"
   ]
  },
  {
   "cell_type": "code",
   "execution_count": 36,
   "id": "0c2024aa-9d14-4dce-afb2-4e6d02ee0d89",
   "metadata": {},
   "outputs": [
    {
     "name": "stdin",
     "output_type": "stream",
     "text": [
      "Enter a word to insert:  maruti\n",
      "Enter the index where the word should be inserted:  3\n"
     ]
    },
    {
     "name": "stdout",
     "output_type": "stream",
     "text": [
      "String after inserting the word: This is a maruti test string.\n"
     ]
    }
   ],
   "source": [
    "# 49. Insert a word at the nth position in a string.\n",
    "def insert_word(string, word, n):\n",
    "    words = string.split()\n",
    "    words.insert(n, word)\n",
    "    return \" \".join(words)\n",
    "\n",
    "\n",
    "string = \"This is a test string.\"\n",
    "word = input(\"Enter a word to insert: \")\n",
    "n = int(input(\"Enter the index where the word should be inserted: \"))\n",
    "print(\"String after inserting the word:\", insert_word(string, word, n))"
   ]
  },
  {
   "cell_type": "code",
   "execution_count": 37,
   "id": "474472ec-45a9-4734-bceb-4015b3351025",
   "metadata": {},
   "outputs": [
    {
     "name": "stdout",
     "output_type": "stream",
     "text": [
      "List of lists: [['Name', ' Age', ' Country'], ['John', ' 25', ' USA'], ['Alice', ' 30', ' UK'], ['Bob', ' 28', ' Canada']]\n"
     ]
    }
   ],
   "source": [
    "# 50. Convert a CSV string to a list of lists.\n",
    "def csv_string_to_list(csv_string):\n",
    "    return [row.split(\",\") for row in csv_string.split(\"\\n\")]\n",
    "\n",
    "csv_string = \"\"\"Name, Age, Country\n",
    "John, 25, USA\n",
    "Alice, 30, UK\n",
    "Bob, 28, Canada\"\"\"\n",
    "print(\"List of lists:\", csv_string_to_list(csv_string))"
   ]
  },
  {
   "cell_type": "markdown",
   "id": "a4ed538a-14b3-4e07-8e33-7d97dc27a043",
   "metadata": {
    "jp-MarkdownHeadingCollapsed": true,
    "tags": []
   },
   "source": [
    "#   List Based Practice Problem :"
   ]
  },
  {
   "cell_type": "code",
   "execution_count": 1,
   "id": "9a360817-4771-4af8-8ef0-a14481b779c7",
   "metadata": {},
   "outputs": [
    {
     "data": {
      "text/plain": [
       "[1, 2, 3, 4, 5, 6, 7, 8, 9, 10]"
      ]
     },
     "execution_count": 1,
     "metadata": {},
     "output_type": "execute_result"
    }
   ],
   "source": [
    "# 1. Create a list with integers from 1 to 10.\n",
    "\n",
    "l=[]\n",
    "size=10;\n",
    "for i in range(1,11):\n",
    "    l.append(i)\n",
    "l"
   ]
  },
  {
   "cell_type": "code",
   "execution_count": 2,
   "id": "9e3fe2ed-db9e-482a-90a4-e8042deae776",
   "metadata": {},
   "outputs": [
    {
     "name": "stdout",
     "output_type": "stream",
     "text": [
      "<class 'list'>\n",
      "Length of List is :  10\n"
     ]
    }
   ],
   "source": [
    "# 2. Find the length of a list without using the `len()` function.\n",
    "l=[1, 2, 3, 4, 5, 6, 7, 8, 9, 10]\n",
    "cnt=0;\n",
    "for i in l:\n",
    "    cnt+=1\n",
    "print(type(l))\n",
    "print(\"Length of List is : \",cnt)\n"
   ]
  },
  {
   "cell_type": "code",
   "execution_count": 17,
   "id": "c574208b-74e4-4bf5-ba8a-495bc23144de",
   "metadata": {},
   "outputs": [
    {
     "name": "stdout",
     "output_type": "stream",
     "text": [
      "Before Appends :  [1, 2, 3, 4, 5, 6, 7, 8, 9, 10]\n",
      "After Appends :  [1, 2, 3, 4, 5, 6, 7, 8, 9, 10, 11, 12, 13, 14, 15]\n"
     ]
    }
   ],
   "source": [
    "#  3. Append an element to the end of a list.\n",
    "l=[1, 2, 3, 4, 5, 6, 7, 8, 9, 10]\n",
    "print(\"Before Appends : \",l)\n",
    "l.append(11);\n",
    "l.append(12);\n",
    "l.append(13);\n",
    "l.append(14);\n",
    "l.append(15);\n",
    "print(\"After Appends : \",l) "
   ]
  },
  {
   "cell_type": "code",
   "execution_count": 3,
   "id": "5c3ebb8d-fad9-4e63-9baa-42543808556c",
   "metadata": {},
   "outputs": [
    {
     "name": "stdout",
     "output_type": "stream",
     "text": [
      "Before Insert :  [1, 2, 3, 4, 5, 6, 7, 8, 9, 10]\n",
      "After Insert :  ['A', 'B', 'C', 'D', 'E', 1, 2, 3, 4, 5, 6, 7, 8, 9, 10]\n"
     ]
    }
   ],
   "source": [
    "# 4. Insert an element at a specific index in a list.\n",
    "l=[1, 2, 3, 4, 5, 6, 7, 8, 9, 10]\n",
    "print(\"Before Insert : \",l)\n",
    "l.insert(0,'A');\n",
    "l.insert(1,'B');\n",
    "l.insert(2,'C');\n",
    "l.insert(3,'D');\n",
    "l.insert(4,'E');\n",
    "print(\"After Insert : \",l)"
   ]
  },
  {
   "cell_type": "code",
   "execution_count": 4,
   "id": "d941d560-7d8d-4563-84b8-a447a7cbaf9a",
   "metadata": {},
   "outputs": [
    {
     "name": "stdout",
     "output_type": "stream",
     "text": [
      "Before Removing List is :  ['A', 'B', 'C', 'D', 'E', 1, 2, 3, 4, 5, 6, 7, 8, 9, 10]\n",
      "After removing List is :  ['A', 'C', 'D', 'E', 1, 2, 3, 4, 5, 6, 7, 10]\n"
     ]
    }
   ],
   "source": [
    "#  5. Remove an element from a list by its value.\n",
    "print(\"Before Removing List is : \",l)\n",
    "l.remove(9)\n",
    "l.remove(8)\n",
    "l.remove('B')\n",
    "print(\"After removing List is : \",l)"
   ]
  },
  {
   "cell_type": "code",
   "execution_count": 7,
   "id": "cac0a7ce-1753-49b8-ad49-15806c994318",
   "metadata": {},
   "outputs": [
    {
     "name": "stdout",
     "output_type": "stream",
     "text": [
      "Before Removing List is :  ['C', 'D', 'E', 1, 2, 3, 4, 5, 6, 7, 10]\n",
      "After removing List is :  ['D', 'E', 2, 4, 5, 6, 7, 10]\n"
     ]
    }
   ],
   "source": [
    "# 6. Remove an element from a list by its index.\n",
    "print(\"Before Removing List is : \",l)\n",
    "l.pop(0);\n",
    "l.pop(4);\n",
    "l.pop(2);\n",
    "print(\"After removing List is : \",l)"
   ]
  },
  {
   "cell_type": "code",
   "execution_count": 17,
   "id": "5daba222-e1a9-4d3c-9ec4-2a42c646ec38",
   "metadata": {},
   "outputs": [
    {
     "name": "stdout",
     "output_type": "stream",
     "text": [
      "['D', 'E', 2, 4, 5, 6, 7, 10]\n",
      "Number is Exists in list  6\n",
      "Number is Exists in list  0\n",
      "Number is Exists in list  1\n"
     ]
    }
   ],
   "source": [
    "#  7. Check if an element exists in a list.\n",
    "print(l)\n",
    "print(\"Number is Exists in list \",l.index(7))\n",
    "print(\"Number is Exists in list \",l.index('D'))\n",
    "print(\"Number is Exists in list \",l.index('E'))\n",
    "#print(\"Number is Not Exists in list \",l.index(9))     33 if number is not available then it gives error"
   ]
  },
  {
   "cell_type": "code",
   "execution_count": 21,
   "id": "900fe04f-c98d-4364-aa3f-6044abc65825",
   "metadata": {},
   "outputs": [
    {
     "name": "stdout",
     "output_type": "stream",
     "text": [
      "['D', 'E', 2, 4, 5, 6, 7, 10]\n",
      "The first Occurence is :  D\n"
     ]
    }
   ],
   "source": [
    "# 8. Find the index of the first occurrence of an element in a list.\n",
    "print(l)\n",
    "for ele in l:\n",
    "    print(\"The first Occurence is : \",ele);\n",
    "    break;\n"
   ]
  },
  {
   "cell_type": "code",
   "execution_count": 25,
   "id": "9488d0e5-7444-4ecb-906b-408f9d712c48",
   "metadata": {},
   "outputs": [
    {
     "name": "stdout",
     "output_type": "stream",
     "text": [
      "['D', 'E', 2, 4, 5, 6, 7, 10]\n",
      "The first Occurence is :  8\n"
     ]
    }
   ],
   "source": [
    "# 9. Count the occurrences of an element in a list.\n",
    "print(l)\n",
    "cnt=0;\n",
    "for ele in l:\n",
    "       cnt=cnt+1;\n",
    "print(\"The first Occurence is : \",cnt);"
   ]
  },
  {
   "cell_type": "code",
   "execution_count": 26,
   "id": "d5f5b0c1-fbf7-4e46-bb52-7a95c253061f",
   "metadata": {},
   "outputs": [
    {
     "name": "stdout",
     "output_type": "stream",
     "text": [
      "Before Reversing :  ['D', 'E', 2, 4, 5, 6, 7, 10]\n",
      "After Reversing :  [10, 7, 6, 5, 4, 2, 'E', 'D']\n"
     ]
    }
   ],
   "source": [
    "# 10. Reverse the order of elements in a list.\n",
    "print(\"Before Reversing : \",l)\n",
    "l.reverse()\n",
    "print(\"After Reversing : \",l)"
   ]
  },
  {
   "cell_type": "code",
   "execution_count": 31,
   "id": "75dcb337-28ac-44b8-9b5a-9d4d35d410d5",
   "metadata": {},
   "outputs": [
    {
     "name": "stdout",
     "output_type": "stream",
     "text": [
      "List Before Sorting :  [3, 1, 5, 4, 7, 3, 2, 6, 0, 9, 10]\n",
      "List After Sorted in Ascending Order :  [0, 1, 2, 3, 3, 4, 5, 6, 7, 9, 10]\n"
     ]
    }
   ],
   "source": [
    "# 11. Sort a list in ascending order.\n",
    "l2=[3,1,5,4,7,3,2,6,0,9,10]\n",
    "print(\"List Before Sorting : \",l2)\n",
    "l2.sort();\n",
    "print(\"List After Sorted in Ascending Order : \",l2)"
   ]
  },
  {
   "cell_type": "code",
   "execution_count": 32,
   "id": "39950d99-1916-4938-8496-dec0e73d32e4",
   "metadata": {},
   "outputs": [
    {
     "name": "stdout",
     "output_type": "stream",
     "text": [
      "List Before Sorting :  [3, 1, 5, 4, 7, 3, 2, 6, 0, 9, 10]\n",
      "List After Sorted in Descending Order :  [10, 9, 7, 6, 5, 4, 3, 3, 2, 1, 0]\n"
     ]
    }
   ],
   "source": [
    "# 12. Sort a list in descending order.\n",
    "l2=[3,1,5,4,7,3,2,6,0,9,10]\n",
    "print(\"List Before Sorting : \",l2)\n",
    "l2.sort();\n",
    "l2.reverse();\n",
    "print(\"List After Sorted in Descending Order : \",l2)"
   ]
  },
  {
   "cell_type": "code",
   "execution_count": 38,
   "id": "232014e0-8c6d-4473-8d68-0bd99d1b6bca",
   "metadata": {},
   "outputs": [
    {
     "name": "stdout",
     "output_type": "stream",
     "text": [
      "List of Even Numbers is :  [2, 4, 6, 8, 10, 12, 14, 16, 18, 20]\n",
      "List of Odd Number is :  [1, 3, 5, 7, 9, 11, 13, 15, 17, 19]\n"
     ]
    }
   ],
   "source": [
    "#  13. Create a list of even numbers from 1 to 20.\n",
    "# 14. Create a list of odd numbers from 1 to 20.\n",
    "evenList=[]\n",
    "oddList=[]\n",
    "for i in range (1,20+1):\n",
    "    if(i%2==0):\n",
    "        evenList.append(i);\n",
    "    else:\n",
    "        oddList.append(i);\n",
    "print(\"List of Even Numbers is : \",evenList)\n",
    "print(\"List of Odd Number is : \",oddList)"
   ]
  },
  {
   "cell_type": "code",
   "execution_count": 39,
   "id": "8f4a408d-4160-462a-b34f-495b881d6974",
   "metadata": {},
   "outputs": [
    {
     "name": "stdout",
     "output_type": "stream",
     "text": [
      "[2, 4, 6, 8, 10, 12, 14, 16, 18, 20]\n",
      "Total Sum :  110\n"
     ]
    }
   ],
   "source": [
    "# 15. Find the sum of all elements in a list.\n",
    "print(evenList)\n",
    "sum=0;\n",
    "for ele in evenList:\n",
    "    sum+=ele;\n",
    "print(\"Total Sum : \",sum) "
   ]
  },
  {
   "cell_type": "code",
   "execution_count": 66,
   "id": "dee1edc4-3c07-4c60-91e3-fde47a4279c0",
   "metadata": {},
   "outputs": [
    {
     "name": "stdout",
     "output_type": "stream",
     "text": [
      "20\n"
     ]
    }
   ],
   "source": [
    "# 16. Find the maximum value in a list.\n",
    "demoList=[2, 4, 6, 8, 10, 12, 14, 16, 18, 20]\n",
    "max=0;\n",
    "for ch in demoList:\n",
    "    if ch>max:\n",
    "        max=ch;\n",
    "print(\"Maximum Value is : \",max)"
   ]
  },
  {
   "cell_type": "code",
   "execution_count": 70,
   "id": "fd72b572-daff-4d07-be3a-88a36332b5e5",
   "metadata": {},
   "outputs": [
    {
     "name": "stdout",
     "output_type": "stream",
     "text": [
      "Minimum Value is :  2\n"
     ]
    }
   ],
   "source": [
    "# 17. Find the minimum value in a list.\n",
    "demoList=[2, 4, 6, 8, 10, 12, 14, 16, 18, 20]\n",
    "min=1000000;\n",
    "for ch in demoList:\n",
    "    if ch<min:\n",
    "        min=ch;\n",
    "print(\"Minimum Value is : \",min)"
   ]
  },
  {
   "cell_type": "code",
   "execution_count": 74,
   "id": "3311f1c4-367d-4e51-88e2-22725e4351f7",
   "metadata": {},
   "outputs": [
    {
     "name": "stdout",
     "output_type": "stream",
     "text": [
      "Square List :  [1, 4, 9, 16, 25, 36, 49, 64, 81, 100]\n"
     ]
    }
   ],
   "source": [
    "# 18. Create a list of squares of numbers from 1 to 10.\n",
    "squareList=[];\n",
    "for i in range(1,11):\n",
    "    squareList.append(i*i);\n",
    "print(\"Square List : \",squareList);"
   ]
  },
  {
   "cell_type": "code",
   "execution_count": 81,
   "id": "d148746d-6ab4-4da7-af27-099a500a18fa",
   "metadata": {},
   "outputs": [
    {
     "name": "stdout",
     "output_type": "stream",
     "text": [
      "[30, 93, 4, 76, 67, 60, 72, 78, 65, 87]\n"
     ]
    }
   ],
   "source": [
    "# 19. Create a list of random numbers.\n",
    "import random\n",
    "randomNumber=[random.randint(1, 100) for _ in range(10)]\n",
    "print(randomNumber)"
   ]
  },
  {
   "cell_type": "code",
   "execution_count": 84,
   "id": "be057ddb-a63e-42a0-a960-8cae988c4ae5",
   "metadata": {},
   "outputs": [
    {
     "name": "stdout",
     "output_type": "stream",
     "text": [
      "Old List :  [30, 93, 30, 4, 4, 76, 67, 67, 60, 72, 72, 72, 78, 65, 65, 87, 87]\n",
      "New List :  [65, 67, 4, 72, 76, 78, 87, 60, 93, 30]\n"
     ]
    }
   ],
   "source": [
    "# 20. Remove duplicates from a list.\n",
    "duplicateList=[30, 93,30,4, 4, 76,67, 67, 60, 72,72,72, 78, 65,65, 87,87];\n",
    "print(\"Old List : \",duplicateList);\n",
    "print(\"New List : \",list(set(duplicateList)))"
   ]
  },
  {
   "cell_type": "code",
   "execution_count": 86,
   "id": "4eb84982-8064-4b2d-8cef-b8e0e26f3e16",
   "metadata": {},
   "outputs": [
    {
     "name": "stdout",
     "output_type": "stream",
     "text": [
      "Common elelments are :  [65, 67, 4, 72, 76, 78, 87, 60, 93, 30]\n"
     ]
    }
   ],
   "source": [
    "# 21. Find the common elements between two lists.\n",
    "OldList =[30, 93, 30, 4, 4, 76, 67, 67, 60, 72, 72, 72, 78, 65, 65, 87, 87]\n",
    "NewList = [65, 67, 4, 72, 76, 78, 87, 60, 93, 30]\n",
    "print(\"Common elelments are : \",list(set(OldList).union(NewList)));"
   ]
  },
  {
   "cell_type": "code",
   "execution_count": 90,
   "id": "945fd734-8644-428c-bb2c-7a18e4362aeb",
   "metadata": {},
   "outputs": [
    {
     "name": "stdout",
     "output_type": "stream",
     "text": [
      "Difference is :  [65, 72, 78, 87, 60]\n"
     ]
    }
   ],
   "source": [
    "# 22. Find the difference between two lists.\n",
    "OldList =[30, 93, 30, 4, 4, 76, 67, 67]\n",
    "NewList = [65, 67, 4, 72, 76, 78, 87, 60, 93, 30]\n",
    "print(\"Difference is : \",list(set(NewList).difference(OldList)));"
   ]
  },
  {
   "cell_type": "code",
   "execution_count": 97,
   "id": "db44fd48-6ca9-4b48-ad34-de125d9450b0",
   "metadata": {},
   "outputs": [
    {
     "name": "stdout",
     "output_type": "stream",
     "text": [
      "Merged List is :  [30, 93, 30, 4, 4, 76, 67, 67, 65, 67, 4, 72, 76, 78, 87, 60, 93, 30]\n"
     ]
    }
   ],
   "source": [
    "# 23. Merge two lists.\n",
    "OldList =[30, 93, 30, 4, 4, 76, 67, 67]\n",
    "NewList = [65, 67, 4, 72, 76, 78, 87, 60, 93, 30]\n",
    "\n",
    "print(\"Merged List is : \",OldList+NewList);\n"
   ]
  },
  {
   "cell_type": "code",
   "execution_count": 99,
   "id": "bd1f217b-3381-4395-9393-dcac8c35e4f9",
   "metadata": {},
   "outputs": [
    {
     "name": "stdout",
     "output_type": "stream",
     "text": [
      "Multiple :  [2, 4, 6, 8, 10, 12, 14, 16, 18, 20]\n"
     ]
    }
   ],
   "source": [
    "# 24. Multiply all elements in a list by 2.\n",
    "multiple=[ch*2 for ch in range(1,11)]\n",
    "print(\"Multiple : \",multiple)"
   ]
  },
  {
   "cell_type": "code",
   "execution_count": 104,
   "id": "ef5fc805-08b6-4100-b11b-4a0245179b49",
   "metadata": {},
   "outputs": [
    {
     "name": "stdout",
     "output_type": "stream",
     "text": [
      "[30, 30, 4, 4, 76, 4, 72, 76, 78, 60, 30]\n"
     ]
    }
   ],
   "source": [
    "# 25. Filter out all even numbers from a list.\n",
    "mergedList=[30, 93, 30, 4, 4, 76, 67, 67, 65, 67, 4, 72, 76, 78, 87, 60, 93, 30];\n",
    "evenNumberList=[x for x in mergedList if x%2==0];\n",
    "print(evenNumberList)"
   ]
  },
  {
   "cell_type": "code",
   "execution_count": 107,
   "id": "9b594241-0746-4667-b048-f2d6445258d9",
   "metadata": {},
   "outputs": [
    {
     "name": "stdout",
     "output_type": "stream",
     "text": [
      "List of String :  ['1', '2', '3', '4', '5']\n",
      "List of Integer :  [1, 2, 3, 4, 5]\n"
     ]
    }
   ],
   "source": [
    "# 26. Convert a list of strings to a list of integers.\n",
    "listOfString=['1','2','3','4','5'];\n",
    "listOfInteger=[int(x) for x in listOfString]\n",
    "print(\"List of String : \", listOfString)\n",
    "print(\"List of Integer : \", listOfInteger)"
   ]
  },
  {
   "cell_type": "code",
   "execution_count": 110,
   "id": "36d11f52-dc0d-443b-980f-3595b9c7f353",
   "metadata": {},
   "outputs": [
    {
     "name": "stdout",
     "output_type": "stream",
     "text": [
      "List of Integer :  [1, 2, 3, 4, 5]\n",
      "List of String :  ['1', '2', '3', '4', '5']\n"
     ]
    }
   ],
   "source": [
    "# 27. Convert a list of integers to a list of strings.\n",
    "listOfInteger=[1, 2, 3, 4, 5]\n",
    "listOfString=[str(x) for x in listOfInteger]\n",
    "print(\"List of Integer : \", listOfInteger)\n",
    "print(\"List of String : \", listOfString)"
   ]
  },
  {
   "cell_type": "code",
   "execution_count": 2,
   "id": "d0d50b60-89ab-4d0b-9b55-1f3f1cb1ef9c",
   "metadata": {},
   "outputs": [
    {
     "name": "stdout",
     "output_type": "stream",
     "text": [
      "Flatten List :  [1, 2, 1, 4, 15, 6, 7, 10, 8, 4, 0, 2, 7, 3]\n"
     ]
    }
   ],
   "source": [
    "# 28. Flatten a nested list.\n",
    "def flattenList(nested_list):\n",
    "    flatten_list=[];\n",
    "    for ele in nested_list:\n",
    "        if isinstance(ele,list):\n",
    "            flatten_list.extend(flattenList(ele));\n",
    "        else:\n",
    "            flatten_list.append(ele);\n",
    "    return flatten_list;\n",
    "nested_list=[1,2,1,4,[15,6,7],10,[8,4,0,2],7,3];\n",
    "print(\"Flatten List : \",flattenList(nested_list));"
   ]
  },
  {
   "cell_type": "code",
   "execution_count": 8,
   "id": "1007eef4-f7ae-4ac7-929e-27cd17d1510c",
   "metadata": {},
   "outputs": [
    {
     "name": "stdout",
     "output_type": "stream",
     "text": [
      "[0, 1, 1, 2, 3, 5, 8, 13, 21, 34]\n"
     ]
    }
   ],
   "source": [
    "# 29. Create a list of the first 10 Fibonacci numbers.\n",
    "def finbonacci(n):\n",
    "    if n<=1:\n",
    "        return n;\n",
    "    else:\n",
    "        return finbonacci(n-1)+finbonacci(n-2);\n",
    "newList=[];\n",
    "for _ in range(10):\n",
    "    newList.append(finbonacci(_));\n",
    "print(\"Fibonnci List : \",newList)"
   ]
  },
  {
   "cell_type": "code",
   "execution_count": 15,
   "id": "0759463a-6811-4d33-95ad-7ea2edb411d1",
   "metadata": {},
   "outputs": [
    {
     "name": "stdout",
     "output_type": "stream",
     "text": [
      "Sorted\n"
     ]
    }
   ],
   "source": [
    "# 30. Check if a list is sorted\n",
    "newList=[1,2,3,4,5,6,7];\n",
    "flag=True;\n",
    "for ele in range(len(newList)-1):\n",
    "    if newList[ele]>newList[ele+1]:\n",
    "        flag=False;\n",
    "if flag:\n",
    "    print(\"Sorted\");\n",
    "else:\n",
    "    print(\"Not Sorted\")\n",
    "    \n",
    " \n",
    "    \n"
   ]
  },
  {
   "cell_type": "code",
   "execution_count": 2,
   "id": "14e3d1de-e07e-4589-bf62-28f959a6e803",
   "metadata": {},
   "outputs": [
    {
     "name": "stdout",
     "output_type": "stream",
     "text": [
      "Before Rotation :  [1, 2, 3, 4, 5, 6, 7]\n",
      "After Rotation :  [4, 5, 6, 7, 1, 2, 3]\n"
     ]
    }
   ],
   "source": [
    "# 31. Rotate a list to the left by `n` positions.\n",
    "def rotateLeft(newList,n):\n",
    "    return newList[n:]+newList[:n]\n",
    "newList=[1,2,3,4,5,6,7];\n",
    "print(\"Before Rotation : \",newList);\n",
    "print(\"After Rotation : \",rotateLeft(newList,3))\n"
   ]
  },
  {
   "cell_type": "code",
   "execution_count": 4,
   "id": "2ba312d7-6a6f-4a7d-b883-135eafca6dc9",
   "metadata": {},
   "outputs": [
    {
     "name": "stdout",
     "output_type": "stream",
     "text": [
      "Before Rotation :  [1, 2, 3, 4, 5, 6, 7]\n",
      "After Rotation :  [4, 5, 6, 7, 1, 2, 3]\n"
     ]
    }
   ],
   "source": [
    "# 32. Rotate a list to the right by `n` positions.\n",
    "def rotateRight(newList):\n",
    "    return newList[:-n]+newList[-n:]\n",
    "\n",
    "    \n",
    "    \n",
    "newList=[1,2,3,4,5,6,7];\n",
    "print(\"Before Rotation : \",newList);\n",
    "print(\"After Rotation : \",rotateLeft(newList,3));"
   ]
  },
  {
   "cell_type": "code",
   "execution_count": 15,
   "id": "9866c607-361d-4ff0-ae88-ff5488c19754",
   "metadata": {},
   "outputs": [
    {
     "name": "stdout",
     "output_type": "stream",
     "text": [
      "Prime Numbers :  [3, 4, 5, 6, 7, 8, 9, 10, 11, 12, 13, 14, 15, 16, 17, 18, 19, 20, 21, 22, 23, 24, 25, 26, 27, 28, 29, 30, 31, 32, 33, 34, 35, 36, 37, 38, 39, 40, 41, 42, 43, 44, 45, 46, 47, 48, 49]\n"
     ]
    }
   ],
   "source": [
    "# 33. Create a list of prime numbers up to 50.\n",
    "def isPrime(num):\n",
    "    if num<2:\n",
    "        return False;\n",
    "    for i in range(2,num+1):\n",
    "        if num%i==0:\n",
    "            return i;\n",
    "primeNumberList=[i for i in range(3,50) if isPrime(i)]\n",
    "print(\"Prime Numbers : \",primeNumberList)"
   ]
  },
  {
   "cell_type": "code",
   "execution_count": 19,
   "id": "d87dd9c8-8767-47b8-a013-cc0608cab4ac",
   "metadata": {},
   "outputs": [
    {
     "name": "stdout",
     "output_type": "stream",
     "text": [
      "Splited List :  [[1, 2], [3, 4], [5, 6], [7]]\n"
     ]
    }
   ],
   "source": [
    "# 34. Split a list into chunks of size `n`.\n",
    "newList=[1,2,3,4,5,6,7];\n",
    "chunkSize=2;\n",
    "splitedList=[newList[i:chunkSize+i] for i in range(0,len(newList),chunkSize)];\n",
    "print(\"Splited List : \",splitedList)"
   ]
  },
  {
   "cell_type": "code",
   "execution_count": 22,
   "id": "a890c3cd-caaa-47f2-a6fd-2df8a52b118f",
   "metadata": {},
   "outputs": [
    {
     "name": "stdout",
     "output_type": "stream",
     "text": [
      "Second Largest Number is :  30\n"
     ]
    }
   ],
   "source": [
    "# 35. Find the second largest number in a list.\n",
    "newList=[9,4,1,7,4,9,5,0,33,1,6,30];\n",
    "secondLargest=sorted(newList)\n",
    "print(\"Second Largest Number is : \",secondLargest[len(secondLargest)-2])"
   ]
  },
  {
   "cell_type": "code",
   "execution_count": 27,
   "id": "32a6419d-4083-4636-8152-4afd3571a64f",
   "metadata": {},
   "outputs": [
    {
     "name": "stdout",
     "output_type": "stream",
     "text": [
      "Square List :  [1, 4, 9, 16, 25, 36, 49]\n"
     ]
    }
   ],
   "source": [
    "# 36. Replace every element in a list with its square.\n",
    "newList=[1,2,3,4,5,6,7];\n",
    "print(\"Square List : \",[ele*ele for ele in newList]);"
   ]
  },
  {
   "cell_type": "code",
   "execution_count": 31,
   "id": "7252dde4-484d-47d5-919d-033b5823e15d",
   "metadata": {},
   "outputs": [
    {
     "name": "stdout",
     "output_type": "stream",
     "text": [
      "List to SET :  {0: 'Maruti', 1: 'Ram', 2: 'Lakhan', 3: 'Vaibhav'}\n"
     ]
    }
   ],
   "source": [
    "# 37. Convert a list to a dictionary where list elements become keys and their indices become values.\n",
    "dataList=['Maruti','Ram','Lakhan','Vaibhav'];\n",
    "print(\"List to SET : \",{index:ele for index,ele in enumerate(dataList)})"
   ]
  },
  {
   "cell_type": "code",
   "execution_count": 36,
   "id": "257bdeb7-433a-4e5a-9394-5c29479682e6",
   "metadata": {},
   "outputs": [
    {
     "name": "stdout",
     "output_type": "stream",
     "text": [
      "Befor Shuffling :  [1, 2, 3, 4, 5, 6, 7]\n",
      "After Shuffling :  [7, 6, 5, 4, 3, 2, 1]\n"
     ]
    }
   ],
   "source": [
    "# 38. Shuffle the elements of a list randomly.\n",
    "import random\n",
    "newList=[1,2,3,4,5,6,7];\n",
    "print(\"Befor Shuffling : \",newList);\n",
    "random.shuffle(newList);\n",
    "print(\"After Shuffling : \",newList);"
   ]
  },
  {
   "cell_type": "code",
   "execution_count": 40,
   "id": "8b22f9a6-7a21-4ec7-8562-db728c87a5ff",
   "metadata": {},
   "outputs": [
    {
     "name": "stdout",
     "output_type": "stream",
     "text": [
      "First 10 factorial numbers: [1, 1, 2, 6, 24, 120, 720, 5040, 40320, 362880]\n"
     ]
    }
   ],
   "source": [
    "# 39. Create a list of the first 10 factorial numbers.\n",
    "factorial_numbers = [1]  \n",
    "current_factorial = 1\n",
    "for i in range(1, 10):\n",
    "    current_factorial *= i\n",
    "    factorial_numbers.append(current_factorial)\n",
    "\n",
    "print(\"First 10 factorial numbers:\", factorial_numbers)\n",
    "\n"
   ]
  },
  {
   "cell_type": "code",
   "execution_count": 45,
   "id": "8ef581ba-7d28-4c1f-9b03-2396f846f3a3",
   "metadata": {},
   "outputs": [
    {
     "name": "stdout",
     "output_type": "stream",
     "text": [
      "List have a common elements in list 2\n"
     ]
    }
   ],
   "source": [
    "# 40. Check if two lists have at least one element in common\n",
    "l1=[11,2,3,4,5,6,7];\n",
    "l2=[12,22,2,3,4,5,6,7];\n",
    "for ele in l1:\n",
    "    if ele in l2:\n",
    "        print(\"List have a common elements in list\",ele);\n",
    "        break;\n"
   ]
  },
  {
   "cell_type": "code",
   "execution_count": 50,
   "id": "9171158c-ed01-4337-882d-519bd226cf14",
   "metadata": {},
   "outputs": [
    {
     "name": "stdout",
     "output_type": "stream",
     "text": [
      "List Elements are :  [12, 22, 2, 3, 4, 5, 6, 7]\n",
      "Element 7 Removed from Lis.\n",
      "Element 6 Removed from Lis.\n",
      "Element 5 Removed from Lis.\n",
      "Element 4 Removed from Lis.\n",
      "Element 3 Removed from Lis.\n",
      "Element 2 Removed from Lis.\n",
      "Element 22 Removed from Lis.\n",
      "Element 12 Removed from Lis.\n"
     ]
    }
   ],
   "source": [
    "# 41. Remove all elements from a list.\n",
    "l2=[12,22,2,3,4,5,6,7];\n",
    "print(\"List Elements are : \",l2)\n",
    "while l2:\n",
    "    print(\"Element\",l2.pop() ,\"Removed from Lis.\")"
   ]
  },
  {
   "cell_type": "code",
   "execution_count": 54,
   "id": "646be2f7-4212-402a-b0fa-2cd8ef518060",
   "metadata": {},
   "outputs": [
    {
     "name": "stdout",
     "output_type": "stream",
     "text": [
      "Before replacement :  [12, -22, -2, 3, -4, -5, 6, 7]\n",
      "After Replacement :  [12, 0, 0, 3, 0, 0, 6, 7]\n"
     ]
    }
   ],
   "source": [
    "# 42. Replace negative numbers in a list with 0.\n",
    "l2=[12,-22,-2,3,-4,-5,6,7];\n",
    "print(\"Before replacement : \",l2);\n",
    "for ele in range(len(l2)):\n",
    "    if l2[ele]<0:\n",
    "        l2[ele]=0;\n",
    "print(\"After Replacement : \",l2)"
   ]
  },
  {
   "cell_type": "code",
   "execution_count": 61,
   "id": "9bd2392e-b635-40b1-bd35-c623e37ef787",
   "metadata": {},
   "outputs": [
    {
     "name": "stdout",
     "output_type": "stream",
     "text": [
      "String to List of Words :  ['Hello', 'maruti', 'how', 'are', 'you']\n"
     ]
    }
   ],
   "source": [
    "# 43. Convert a string into a list of words.\n",
    "string=\"Hello maruti how are you\";\n",
    "print(\"String to List of Words : \",string.split(' '))"
   ]
  },
  {
   "cell_type": "code",
   "execution_count": 66,
   "id": "e82294fd-0444-4ca7-82aa-904aa313d66d",
   "metadata": {},
   "outputs": [
    {
     "name": "stdout",
     "output_type": "stream",
     "text": [
      "list to String :  Hello maruti how are you\n"
     ]
    }
   ],
   "source": [
    "# 44. Convert a list of words into a string.\n",
    "string=['Hello', 'maruti', 'how', 'are', 'you'];\n",
    "print(\"list to String : \",\" \".join(string))"
   ]
  },
  {
   "cell_type": "code",
   "execution_count": 76,
   "id": "e0d40b45-65c9-4fb7-8387-39175907225c",
   "metadata": {},
   "outputs": [
    {
     "name": "stdout",
     "output_type": "stream",
     "text": [
      "First power of given number is :  [1, 2, 4, 8, 16]\n"
     ]
    }
   ],
   "source": [
    "# 45. Create a list of the first `n` powers of 2.\n",
    "powerList=[2**_ for _ in range(0,5)];\n",
    "print(\"First power of given number is : \",powerList)"
   ]
  },
  {
   "cell_type": "code",
   "execution_count": 83,
   "id": "017fc359-e4a1-4ef0-9dd3-ce54ecf7877e",
   "metadata": {},
   "outputs": [
    {
     "name": "stdout",
     "output_type": "stream",
     "text": [
      "Longets String is :  maruti_panchal\n"
     ]
    }
   ],
   "source": [
    "# 46. Find the longest string in a list of strings.\n",
    "string=['Hello', 'maruti_panchal', 'how', 'are', 'you'];\n",
    "longestStr='';\n",
    "for _ in string:\n",
    "    if len(_)>len(longestStr):\n",
    "        longestStr=_;\n",
    "print(\"Longets String is : \",longestStr);"
   ]
  },
  {
   "cell_type": "code",
   "execution_count": 88,
   "id": "52a7ebeb-2cd4-4973-9206-7c9c43cd75f4",
   "metadata": {},
   "outputs": [
    {
     "name": "stdout",
     "output_type": "stream",
     "text": [
      "Shortest String is: how\n"
     ]
    }
   ],
   "source": [
    "# 47. Find the shortest string in a list of strings.\n",
    "\n",
    "string = ['Hello', 'maruti_panchal', 'how', 'are', 'you']\n",
    "shortestStr = string[0] \n",
    "for s in string:\n",
    "    if len(s) < len(shortestStr):\n",
    "        shortestStr = s\n",
    "print(\"Shortest String is:\", shortestStr)"
   ]
  },
  {
   "cell_type": "code",
   "execution_count": 94,
   "id": "b53cabfb-eb31-4816-a8b6-1b17dc532f19",
   "metadata": {},
   "outputs": [
    {
     "name": "stdout",
     "output_type": "stream",
     "text": [
      "First 5 triangular numbers: [1, 3, 6, 10, 15]\n"
     ]
    }
   ],
   "source": [
    "# 48. Create a list of the first `n` triangular numbers.\n",
    "\n",
    "def triangular_number(n):\n",
    "    return (n * (n + 1)) // 2\n",
    "\n",
    "def first_n_triangular_numbers(n):\n",
    "    return [triangular_number(i) for i in range(1, n + 1)]\n",
    "\n",
    "n = 5\n",
    "triangular_numbers = first_n_triangular_numbers(n)\n",
    "print(\"First\", n, \"triangular numbers:\", triangular_numbers)\n"
   ]
  },
  {
   "cell_type": "code",
   "execution_count": 93,
   "id": "7a0a834a-0a85-4416-bd93-c9fbecbaa896",
   "metadata": {},
   "outputs": [
    {
     "name": "stdout",
     "output_type": "stream",
     "text": [
      "Is [3, 4, 5] a subsequence of [1, 2, 3, 4, 5, 6] : True\n"
     ]
    }
   ],
   "source": [
    "# 49. Check if a list contains another list as a subsequence.\n",
    "\n",
    "def is_subsequence(sub, lst):\n",
    "    n = len(sub)\n",
    "    for i in range(len(lst) - n + 1):\n",
    "        if lst[i:i+n] == sub:\n",
    "            return True\n",
    "    return False\n",
    "\n",
    "\n",
    "lst = [1, 2, 3, 4, 5, 6]\n",
    "subsequence = [3, 4, 5]\n",
    "print(\"Is\", subsequence, \"a subsequence of\", lst, \":\", is_subsequence(subsequence, lst))\n"
   ]
  },
  {
   "cell_type": "code",
   "execution_count": 92,
   "id": "6cf33162-8179-49d4-8c25-568c78525595",
   "metadata": {},
   "outputs": [
    {
     "name": "stdout",
     "output_type": "stream",
     "text": [
      "List after swapping: [1, 4, 3, 2, 5]\n"
     ]
    }
   ],
   "source": [
    "# 50. Swap two elements in a list by their indices.\n",
    "\n",
    "def swap_elements(lst, idx1, idx2):\n",
    "    lst[idx1], lst[idx2] = lst[idx2], lst[idx1]\n",
    "\n",
    "\n",
    "lst = [1, 2, 3, 4, 5]\n",
    "swap_elements(lst, 1, 3)\n",
    "print(\"List after swapping:\", lst)\n"
   ]
  },
  {
   "cell_type": "markdown",
   "id": "7e7338e8-34af-4e21-b787-b2352144b25b",
   "metadata": {
    "jp-MarkdownHeadingCollapsed": true,
    "tags": []
   },
   "source": [
    "# Tuple Based Practice Problem :"
   ]
  },
  {
   "cell_type": "code",
   "execution_count": 4,
   "id": "f418f5b5-a0a2-44d1-97c3-5e8566ab0fec",
   "metadata": {},
   "outputs": [
    {
     "name": "stdout",
     "output_type": "stream",
     "text": [
      "Methood 1 :  (1, 2, 3, 4, 5)\n",
      "Method 2 : \n",
      "Coverted into List :  [1, 2, 3, 4, 5, 1, 2, 3, 4, 5]\n",
      "Coverted back in Tuple :  (1, 2, 3, 4, 5, 1, 2, 3, 4, 5)\n"
     ]
    }
   ],
   "source": [
    "# 1. Create a tuple with integers from 1 to 5.\n",
    "tup1=(1,2,3,4,5)\n",
    "print(\"Methood 1 : \", tup1)\n",
    "print(\"Method 2 : \")\n",
    "convertedTuple=list(tup1)\n",
    "convertedTuple.append(1)\n",
    "convertedTuple.append(2)\n",
    "convertedTuple.append(3)\n",
    "convertedTuple.append(4)\n",
    "convertedTuple.append(5)\n",
    "newTuple=tuple(convertedTuple)\n",
    "print(\"Coverted into List : \",convertedTuple)\n",
    "print(\"Coverted back in Tuple : \",newTuple)"
   ]
  },
  {
   "cell_type": "code",
   "execution_count": 5,
   "id": "b4b00b13-98ed-4274-bfa3-a589751f5729",
   "metadata": {},
   "outputs": [
    {
     "name": "stdout",
     "output_type": "stream",
     "text": [
      "(1, 2, 3, 4, 5, 1, 2, 3, 4, 5)\n",
      "4\n",
      "2\n",
      "5\n"
     ]
    }
   ],
   "source": [
    "# 2. Access the third element of a tuple.\n",
    "print(newTuple)\n",
    "print(newTuple[3])\n",
    "print(newTuple[1])\n",
    "print(newTuple[4])"
   ]
  },
  {
   "cell_type": "code",
   "execution_count": 6,
   "id": "df8c2104-8725-4c3b-b95b-8b29d826fb7a",
   "metadata": {},
   "outputs": [
    {
     "name": "stdout",
     "output_type": "stream",
     "text": [
      "(1, 2, 3, 4, 5, 1, 2, 3, 4, 5)\n",
      "[1, 2, 3, 4, 5, 1, 2, 3, 4, 5]\n",
      "Length of Tuple is :  10\n"
     ]
    }
   ],
   "source": [
    "# 3. Find the length of a tuple without using the `len()` function.\n",
    "print(newTuple)\n",
    "convTup=list(newTuple);\n",
    "length=0;\n",
    "for ele in convTup:\n",
    "    length+=1\n",
    "print(convTup)\n",
    "print(\"Length of Tuple is : \",length)\n"
   ]
  },
  {
   "cell_type": "code",
   "execution_count": 7,
   "id": "d519de85-eb8b-4499-a840-ae2d03229a68",
   "metadata": {},
   "outputs": [
    {
     "name": "stdout",
     "output_type": "stream",
     "text": [
      "Toatal Occurrences of 5 is :  5\n"
     ]
    }
   ],
   "source": [
    "# 4. Count the occurrences of an element in a tuple.\n",
    "new_tup=(3,1,4,2,5,6,3,2,1,5,5,7,7,32,1,5,5,7)\n",
    "print(\"Toatal Occurrences of 5 is : \", new_tup.count(5))"
   ]
  },
  {
   "cell_type": "code",
   "execution_count": 8,
   "id": "fd2d040d-48ea-474e-9bf9-c5a6225d11f9",
   "metadata": {},
   "outputs": [
    {
     "name": "stdout",
     "output_type": "stream",
     "text": [
      "(3, 1, 4, 2, 5, 6, 3, 2, 1, 5, 5, 7, 7, 32, 1, 5, 5, 7)\n",
      "First Occurence of 5 at index :  4\n"
     ]
    }
   ],
   "source": [
    "# 5. Find the index of the first occurrence of an element in a tuple.\n",
    "print(new_tup)\n",
    "print(\"First Occurence of 5 at index : \",new_tup.index(5))"
   ]
  },
  {
   "cell_type": "code",
   "execution_count": 9,
   "id": "3d2607e9-8aa3-4766-9332-42275c5b3bd4",
   "metadata": {},
   "outputs": [
    {
     "name": "stdout",
     "output_type": "stream",
     "text": [
      "(3, 1, 4, 2, 5, 6, 3, 2, 1, 5, 5, 7, 7, 32, 1, 5, 5, 7)\n",
      "5 is Available in Tuple at Index : 4\n"
     ]
    }
   ],
   "source": [
    "# 6. Check if an element exists in a tuple.\n",
    "print(new_tup)\n",
    "for ele in new_tup:\n",
    "    if(ele==5):\n",
    "        print(\"5 is Available in Tuple at Index :\",new_tup.index(5));\n",
    "        break;"
   ]
  },
  {
   "cell_type": "code",
   "execution_count": 13,
   "id": "d4bec704-c2db-4c6b-9c3e-4e73596f35ce",
   "metadata": {},
   "outputs": [
    {
     "name": "stdout",
     "output_type": "stream",
     "text": [
      "Tuple :  (3, 1, 4, 2, 5, 6, 3, 2, 1, 5, 5, 7, 7, 32, 1, 5, 5, 7)\n",
      "List :  [3, 1, 4, 2, 5, 6, 3, 2, 1, 5, 5, 7, 7, 32, 1, 5, 5, 7]\n"
     ]
    }
   ],
   "source": [
    "# 7. Convert a tuple to a list.\n",
    "print(\"Tuple : \",new_tup)\n",
    "convList=list(new_tup)\n",
    "print(\"List : \",convList)"
   ]
  },
  {
   "cell_type": "code",
   "execution_count": 14,
   "id": "7681ca4c-2ea2-462b-961c-cc479a9978c7",
   "metadata": {},
   "outputs": [
    {
     "name": "stdout",
     "output_type": "stream",
     "text": [
      "List :  [3, 1, 4, 2, 5, 6, 3, 2, 1, 5, 5, 7, 7, 32, 1, 5, 5, 7]\n",
      "Tuple :  (3, 1, 4, 2, 5, 6, 3, 2, 1, 5, 5, 7, 7, 32, 1, 5, 5, 7)\n"
     ]
    }
   ],
   "source": [
    "# 8. Convert a list to a tuple.\n",
    "print(\"List : \",convList)\n",
    "convTup=tuple(convList)\n",
    "print(\"Tuple : \",convTup)"
   ]
  },
  {
   "cell_type": "code",
   "execution_count": 15,
   "id": "2e9807c2-c82a-4e67-8969-4856ce05bdd1",
   "metadata": {},
   "outputs": [
    {
     "name": "stdout",
     "output_type": "stream",
     "text": [
      "1\n",
      "2\n",
      "3\n",
      "A\n",
      "B\n",
      "C\n"
     ]
    }
   ],
   "source": [
    "# 9. Unpack the elements of a tuple into variables.\n",
    "n_tup=(1,2,3,'A','B','C')\n",
    "(a,b,c,d,e,f)=n_tup;\n",
    "print(a)\n",
    "print(b)\n",
    "print(c)\n",
    "print(d)\n",
    "print(e)\n",
    "print(f)"
   ]
  },
  {
   "cell_type": "code",
   "execution_count": 17,
   "id": "65a64e90-5433-4a70-aa2a-c860dc941884",
   "metadata": {},
   "outputs": [
    {
     "name": "stdout",
     "output_type": "stream",
     "text": [
      "Tuple of Even Numbers is :  (2, 4, 6, 8, 10, 12, 14, 16, 18, 20)\n",
      "Tuple of Odd Number is :  (1, 3, 5, 7, 9, 11, 13, 15, 17, 19)\n"
     ]
    }
   ],
   "source": [
    "#10. Create a tuple of even numbers from 1 to 10.\n",
    "#11. Create a tuple of odd numbers from 1 to 10.\n",
    "evenTuple=[]\n",
    "oddTuple=[]\n",
    "for i in range (1,20+1):\n",
    "    if(i%2==0):\n",
    "        evenTuple.append(i);\n",
    "    else:\n",
    "        oddTuple.append(i);\n",
    "print(\"Tuple of Even Numbers is : \",tuple(evenTuple))\n",
    "print(\"Tuple of Odd Number is : \",tuple(oddTuple))"
   ]
  },
  {
   "cell_type": "code",
   "execution_count": 20,
   "id": "04fb124f-453c-48ef-87f0-dc6bd74d1485",
   "metadata": {},
   "outputs": [
    {
     "name": "stdout",
     "output_type": "stream",
     "text": [
      "Concatination of Two Tuple :  (2, 4, 6, 8, 10, 12, 14, 16, 18, 20, 1, 3, 5, 7, 9, 11, 13, 15, 17, 19)\n"
     ]
    }
   ],
   "source": [
    "# 12. Concatenate two tuples.\n",
    "concatinate_tuple=tuple(evenTuple)+ tuple(oddTuple)\n",
    "print(\"Concatination of Two Tuple : \",concatinate_tuple)"
   ]
  },
  {
   "cell_type": "code",
   "execution_count": 21,
   "id": "2fbdd052-5c3b-4a6c-9bfc-d3c86c7c228b",
   "metadata": {},
   "outputs": [
    {
     "name": "stdout",
     "output_type": "stream",
     "text": [
      "First Time Repeating :  (2, 4, 6, 8, 10, 12, 14, 16, 18, 20, 1, 3, 5, 7, 9, 11, 13, 15, 17, 19)\n",
      "Secod Time Repeating :  (2, 4, 6, 8, 10, 12, 14, 16, 18, 20, 1, 3, 5, 7, 9, 11, 13, 15, 17, 19)\n",
      "Third Time Repeating :  (2, 4, 6, 8, 10, 12, 14, 16, 18, 20, 1, 3, 5, 7, 9, 11, 13, 15, 17, 19)\n"
     ]
    }
   ],
   "source": [
    "# 13. Repeat a tuple three times.\n",
    "print(\"First Time Repeating : \",concatinate_tuple)\n",
    "print(\"Secod Time Repeating : \",concatinate_tuple)\n",
    "print(\"Third Time Repeating : \",concatinate_tuple)"
   ]
  },
  {
   "cell_type": "code",
   "execution_count": 30,
   "id": "81d75e74-e87c-4302-9304-cfc03e6f8970",
   "metadata": {},
   "outputs": [
    {
     "name": "stdout",
     "output_type": "stream",
     "text": [
      "Yes! Tuple is Empty\n"
     ]
    }
   ],
   "source": [
    "# 14. Check if a tuple is empty.\n",
    "empty_tup=()\n",
    "if(len(empty_tup)==0):\n",
    "    print(\"Yes! Tuple is Empty\")\n",
    "else:\n",
    "    print(\"No! Tuple is not Empty\")"
   ]
  },
  {
   "cell_type": "code",
   "execution_count": 35,
   "id": "5326fbf8-227e-4ea8-bbee-a8fab835e685",
   "metadata": {},
   "outputs": [
    {
     "name": "stdout",
     "output_type": "stream",
     "text": [
      "Nested Tuple :  (('a', 'v', 'd'), 2, 4, 6, 8, 10, 12, 14, 16, 18, 20, (1, 3, 5, 7, 9, 11, 13, 15, 17, 19))\n"
     ]
    }
   ],
   "source": [
    "# 15. Create a nested tuple.\n",
    "nested_tuple=(('a','v','d'),2, 4, 6, 8, 10, 12, 14, 16, 18, 20, (1, 3, 5, 7, 9, 11, 13, 15, 17, 19))\n",
    "print(\"Nested Tuple : \",nested_tuple)\n"
   ]
  },
  {
   "cell_type": "code",
   "execution_count": 36,
   "id": "a15726fb-a9eb-4cc3-80f7-eba8c8013165",
   "metadata": {},
   "outputs": [
    {
     "name": "stdout",
     "output_type": "stream",
     "text": [
      "First element in Nested tuple :  ('a', 'v', 'd')\n"
     ]
    }
   ],
   "source": [
    "# 16. Access the first element of a nested tuple.\n",
    "print(\"First element in Nested tuple : \",nested_tuple[0])"
   ]
  },
  {
   "cell_type": "code",
   "execution_count": 45,
   "id": "623e66eb-c060-4b62-87aa-4e64e4715384",
   "metadata": {},
   "outputs": [
    {
     "name": "stdout",
     "output_type": "stream",
     "text": [
      "<class 'tuple'>\n",
      "Tuple with Single Element :  (1,)\n"
     ]
    }
   ],
   "source": [
    "# 17. Create a tuple with a single element.\n",
    "single_ele_tup=(1,)\n",
    "print(type(single_ele_tup))\n",
    "print(\"Tuple with Single Element : \",single_ele_tup)"
   ]
  },
  {
   "cell_type": "code",
   "execution_count": 47,
   "id": "017f49d2-0731-495f-afee-3e4e2d49c41f",
   "metadata": {},
   "outputs": [
    {
     "name": "stdout",
     "output_type": "stream",
     "text": [
      "comp_tup1==commp_tup2 :  False\n",
      "comp_tup1!=commp_tup2 :  True\n",
      "comp_tup1>commp_tup2  :  False\n",
      "comp_tup1<commp_tup2  :  True\n",
      "comp_tup1>=commp_tup2 :  False\n",
      "comp_tup1<=commp_tup2 :  True\n"
     ]
    }
   ],
   "source": [
    "# 18. Compare two tuples.\n",
    "comp_tup1=(1,2,3)\n",
    "commp_tup2=(1,6,3)\n",
    "print(\"comp_tup1==commp_tup2 : \",comp_tup1==commp_tup2)\n",
    "print(\"comp_tup1!=commp_tup2 : \",comp_tup1!=commp_tup2)\n",
    "print(\"comp_tup1>commp_tup2  : \",comp_tup1>commp_tup2)\n",
    "print(\"comp_tup1<commp_tup2  : \",comp_tup1<commp_tup2)\n",
    "print(\"comp_tup1>=commp_tup2 : \",comp_tup1>=commp_tup2)\n",
    "print(\"comp_tup1<=commp_tup2 : \",comp_tup1<=commp_tup2)"
   ]
  },
  {
   "cell_type": "code",
   "execution_count": 54,
   "id": "31a4350f-932f-4293-b5e1-0cfe3fc12f12",
   "metadata": {},
   "outputs": [
    {
     "ename": "NameError",
     "evalue": "name 'comp_tup1' is not defined",
     "output_type": "error",
     "traceback": [
      "\u001b[0;31m---------------------------------------------------------------------------\u001b[0m",
      "\u001b[0;31mNameError\u001b[0m                                 Traceback (most recent call last)",
      "Cell \u001b[0;32mIn[54], line 2\u001b[0m\n\u001b[1;32m      1\u001b[0m \u001b[38;5;66;03m# 19. Delete a tuple.\u001b[39;00m\n\u001b[0;32m----> 2\u001b[0m \u001b[38;5;28mprint\u001b[39m(\u001b[43mcomp_tup1\u001b[49m)\n\u001b[1;32m      3\u001b[0m \u001b[38;5;28;01mdel\u001b[39;00m comp_tup1\n\u001b[1;32m      4\u001b[0m \u001b[38;5;28mprint\u001b[39m(comp_tup1)\n",
      "\u001b[0;31mNameError\u001b[0m: name 'comp_tup1' is not defined"
     ]
    }
   ],
   "source": [
    "# 19. Delete a tuple.\n",
    "print(comp_tup1)\n",
    "del comp_tup1\n",
    "print(comp_tup1)"
   ]
  },
  {
   "cell_type": "code",
   "execution_count": 58,
   "id": "c3b72dc7-ee5e-4ab2-a902-bc2486ca8706",
   "metadata": {},
   "outputs": [
    {
     "name": "stdout",
     "output_type": "stream",
     "text": [
      "(('a', 'v', 'd'), 2, 4, 6, 8, 10, 12, 14, 16, 18, 20, (1, 3, 5, 7, 9, 11, 13, 15, 17, 19))\n",
      "Sliced Part :  (('a', 'v', 'd'), 2, 4, 6, 8)\n"
     ]
    }
   ],
   "source": [
    "# 20. Slice a tuple.\n",
    "print(nested_tuple)\n",
    "sliced=nested_tuple[0:5]\n",
    "print(\"Sliced Part : \",sliced)"
   ]
  },
  {
   "cell_type": "code",
   "execution_count": 1,
   "id": "9f6b4a69-d4e1-4c69-99db-d1f30085d1d1",
   "metadata": {},
   "outputs": [
    {
     "name": "stdout",
     "output_type": "stream",
     "text": [
      "Max Value :  10\n"
     ]
    }
   ],
   "source": [
    "# 21. Find the maximum value in a tuple.is : \n",
    "newTup=(1,2,3,4,5,6,7,8,9,10)\n",
    "temp=0\n",
    "for ele in newTup:\n",
    "    if ele>temp:\n",
    "        temp=ele;\n",
    "print(\"Max Value : \",temp)"
   ]
  },
  {
   "cell_type": "code",
   "execution_count": 3,
   "id": "f914642e-6ca3-42d9-81d1-48ec1cf76b01",
   "metadata": {},
   "outputs": [
    {
     "name": "stdout",
     "output_type": "stream",
     "text": [
      "Min Value :  1\n"
     ]
    }
   ],
   "source": [
    "# 22. Find the minimum value in a tuple.\n",
    "newTup=(1,2,3,4,5,6,7,8,9,10)\n",
    "temp=float('inf')\n",
    "for ele in newTup:\n",
    "    if ele<temp:\n",
    "        temp=ele;\n",
    "print(\"Min Value : \",temp)"
   ]
  },
  {
   "cell_type": "code",
   "execution_count": 4,
   "id": "ba95cd00-ff57-4083-8315-a15474083aa6",
   "metadata": {},
   "outputs": [
    {
     "name": "stdout",
     "output_type": "stream",
     "text": [
      "('a', 'b', 'c', 'd', 'e')\n"
     ]
    }
   ],
   "source": [
    "# 23. Convert a string to a tuple of characters.\n",
    "string='abcde';\n",
    "print(tuple(string))"
   ]
  },
  {
   "cell_type": "code",
   "execution_count": 13,
   "id": "e840dfd3-101f-440e-8d1c-8f1882824e41",
   "metadata": {},
   "outputs": [
    {
     "name": "stdout",
     "output_type": "stream",
     "text": [
      "<class 'tuple'>\n",
      "('a', 'b', 'c', 'd', 'e')\n",
      "<class 'str'>\n"
     ]
    }
   ],
   "source": [
    "# 24. Convert a tuple of characters to a string.\n",
    "testTuple=('a', 'b', 'c', 'd', 'e');\n",
    "convstr=str(testTuple)\n",
    "print(type(testTuple))\n",
    "print(convstr)\n",
    "print(type(convstr))\n"
   ]
  },
  {
   "cell_type": "code",
   "execution_count": 15,
   "id": "9348386d-821e-4180-b1e9-b4a6b5ed5ab5",
   "metadata": {},
   "outputs": [
    {
     "name": "stdout",
     "output_type": "stream",
     "text": [
      "Multiple type Datatype :  (1, 2, 3, 4, 5, 'a', 'b', 'c', 'd', 'e', 'Maruti', 1.5, 2.4, [1, 2, 3, 4, 5], (10, 11, 12))\n"
     ]
    }
   ],
   "source": [
    "# 25. Create a tuple from multiple data types.\n",
    "multiData=(1,2,3,4,5,'a','b','c','d','e',\"Maruti\",1.5,2.4,[1,2,3,4,5],(10,11,12))\n",
    "print(\"Multiple type Datatype : \",multiData)"
   ]
  },
  {
   "cell_type": "code",
   "execution_count": 16,
   "id": "c973734b-41f8-4586-9791-42e07447b027",
   "metadata": {},
   "outputs": [
    {
     "name": "stdout",
     "output_type": "stream",
     "text": [
      "True\n",
      "False\n"
     ]
    }
   ],
   "source": [
    "# 26. Check if two tuples are identical.\n",
    "tuple_one=(1,2,3)\n",
    "tuple_two=(1,2,3)\n",
    "tuple_three=(2,3,4)\n",
    "result_one=tuple_one==tuple_two\n",
    "result_two=tuple_two==tuple_three\n",
    "print(result_one)\n",
    "print(result_two)"
   ]
  },
  {
   "cell_type": "code",
   "execution_count": 34,
   "id": "c644c64d-82bc-4a3e-8ea5-38344dd8f939",
   "metadata": {},
   "outputs": [
    {
     "ename": "TypeError",
     "evalue": "'list' object is not callable",
     "output_type": "error",
     "traceback": [
      "\u001b[0;31m---------------------------------------------------------------------------\u001b[0m",
      "\u001b[0;31mTypeError\u001b[0m                                 Traceback (most recent call last)",
      "Cell \u001b[0;32mIn[34], line 4\u001b[0m\n\u001b[1;32m      2\u001b[0m toSort\u001b[38;5;241m=\u001b[39m(\u001b[38;5;241m4\u001b[39m,\u001b[38;5;241m1\u001b[39m,\u001b[38;5;241m6\u001b[39m,\u001b[38;5;241m3\u001b[39m,\u001b[38;5;241m1\u001b[39m,\u001b[38;5;241m0\u001b[39m,\u001b[38;5;241m9\u001b[39m,\u001b[38;5;241m6\u001b[39m,\u001b[38;5;241m7\u001b[39m,\u001b[38;5;241m8\u001b[39m,\u001b[38;5;241m10\u001b[39m)\n\u001b[1;32m      3\u001b[0m newlist\u001b[38;5;241m=\u001b[39m\u001b[38;5;28mlist\u001b[39m(toSort)\n\u001b[0;32m----> 4\u001b[0m sorted_tuple\u001b[38;5;241m=\u001b[39m\u001b[38;5;28mtuple\u001b[39m(\u001b[38;5;28;43msorted\u001b[39;49m\u001b[43m(\u001b[49m\u001b[43mnewlist\u001b[49m\u001b[43m)\u001b[49m)\n\u001b[1;32m      5\u001b[0m \u001b[38;5;28mprint\u001b[39m(sorted_tuple)\n",
      "\u001b[0;31mTypeError\u001b[0m: 'list' object is not callable"
     ]
    }
   ],
   "source": [
    "# 27. Sort the elements of a tuple.  Getting error in this code\n",
    "toSort=(4,1,6,3,1,0,9,6,7,8,10)\n",
    "newlist=list(toSort)\n",
    "sorted_tuple=tuple(sorted(newlist))\n",
    "print(sorted_tuple)"
   ]
  },
  {
   "cell_type": "code",
   "execution_count": 46,
   "id": "d112d774-f4c0-4429-8b44-dbb8a4327fe5",
   "metadata": {},
   "outputs": [
    {
     "name": "stdout",
     "output_type": "stream",
     "text": [
      "('4', '1', '6', '3', '1', '0', '9', '6', '7', '8', '10')\n"
     ]
    }
   ],
   "source": [
    "# 28. Convert a tuple of integers to a tuple of strings.\n",
    "toString=(4,1,6,3,1,0,9,6,7,8,10)\n",
    "convtString=tuple(str(ele) for ele in toString)\n",
    "print(convtString)"
   ]
  },
  {
   "cell_type": "code",
   "execution_count": 50,
   "id": "feb05519-8832-42dd-89b2-f315744d2112",
   "metadata": {},
   "outputs": [
    {
     "name": "stdout",
     "output_type": "stream",
     "text": [
      "(4, 1, 6, 3, 1, 0, 9, 6, 7, 8, 10)\n"
     ]
    }
   ],
   "source": [
    "# 29. Convert a tuple of strings to a tuple of integers.\n",
    "toInteger=('4', '1', '6', '3', '1', '0', '9', '6', '7', '8', '10')\n",
    "convtoInteger=tuple(int(ele) for ele in toInteger)\n",
    "print(convtoInteger)"
   ]
  },
  {
   "cell_type": "code",
   "execution_count": 52,
   "id": "65528d67-500f-4d96-9da7-2fab0921d972",
   "metadata": {},
   "outputs": [
    {
     "name": "stdout",
     "output_type": "stream",
     "text": [
      "Merged Tuple :  (1, 2, 3, 4, 5, 7)\n"
     ]
    }
   ],
   "source": [
    "# 30. Merge two tuples.\n",
    "tup1=(1,2,3)\n",
    "tup2=(4,5,7)\n",
    "merged=tup1+tup2;\n",
    "print(\"Merged Tuple : \",merged)"
   ]
  },
  {
   "cell_type": "code",
   "execution_count": 5,
   "id": "b3dc8636-bf7c-4155-b96f-903121988e5e",
   "metadata": {},
   "outputs": [
    {
     "name": "stdout",
     "output_type": "stream",
     "text": [
      "Before :  (1, 2, (3, 4, 5), 6, 7, (8, 9, 10), (11, 12, 13), 14, 15)\n",
      "After :  (1, 2, 3, 4, 5, 6, 7, 8, 9, 10, 11, 12, 13, 14, 15)\n"
     ]
    }
   ],
   "source": [
    "# 31. Flatten a nested tuple\n",
    "def flatten(nested_tuple):\n",
    "    flattenList=[];\n",
    "    for ele in nested_tuple:\n",
    "        if isinstance(ele,tuple):\n",
    "            flattenList.extend(flatten(ele));\n",
    "        else:\n",
    "            flattenList.append(ele);\n",
    "    return flattenList;\n",
    "nested_tuple=(1,2,(3,4,5),6,7,(8,9,10),(11,12,13),14,15);\n",
    "fltten_result=flatten(nested_tuple);\n",
    "print(\"Before : \",nested_tuple);\n",
    "print(\"After : \",tuple(fltten_result));"
   ]
  },
  {
   "cell_type": "code",
   "execution_count": 17,
   "id": "70232676-26fc-43cd-9f63-2626ec5ebd87",
   "metadata": {
    "jp-MarkdownHeadingCollapsed": true,
    "tags": []
   },
   "outputs": [
    {
     "data": {
      "text/plain": [
       "True"
      ]
     },
     "execution_count": 17,
     "metadata": {},
     "output_type": "execute_result"
    }
   ],
   "source": [
    "# Set Based Practice Problem\n",
    "def isPrime(num):\n",
    "    if num<=2:\n",
    "         return False\n",
    "    else:\n",
    "        for i in range(2,num):\n",
    "            if num%i==0:\n",
    "                return False\n",
    "        else:\n",
    "            return True\n",
    "isPrime(7)"
   ]
  },
  {
   "cell_type": "code",
   "execution_count": 39,
   "id": "5bf3654c-330e-4b72-86fd-3dd86b160234",
   "metadata": {},
   "outputs": [
    {
     "name": "stdout",
     "output_type": "stream",
     "text": [
      "(1, 2, 2, 1) is Palindrom :  True\n"
     ]
    }
   ],
   "source": [
    "# 33. Check if a tuple is a palindrome.\n",
    "paliTuple=(1,2,2,1)\n",
    "print(paliTuple,\"is Palindrom : \",paliTuple==paliTuple[::-1])"
   ]
  },
  {
   "cell_type": "code",
   "execution_count": 40,
   "id": "ba11080e-cb13-43af-a2ef-52dc599a73e9",
   "metadata": {},
   "outputs": [
    {
     "name": "stdout",
     "output_type": "stream",
     "text": [
      "1 to 5 square is :  (1, 4, 9, 16, 25)\n"
     ]
    }
   ],
   "source": [
    "# 34. Create a tuple of squares of numbers from 1 to 5.\n",
    "print(\"1 to 5 square is : \",tuple(ele**2 for ele in range(1,6)))"
   ]
  },
  {
   "cell_type": "code",
   "execution_count": 44,
   "id": "9ead3426-4888-41da-8aee-95efab8171c5",
   "metadata": {},
   "outputs": [
    {
     "name": "stdout",
     "output_type": "stream",
     "text": [
      "All even Numbers :  (2, 4, 6, 8, 10)\n"
     ]
    }
   ],
   "source": [
    "# 35. Filter out all even numbers from a tuple.\n",
    "setTuple=(1,2,3,4,5,6,7,8,9,10)\n",
    "print(\"All even Numbers : \",tuple(ele for ele in setTuple if ele%2==0))\n"
   ]
  },
  {
   "cell_type": "code",
   "execution_count": 46,
   "id": "db00b6f6-ce2a-44a6-9c0e-3eb65fe96b9f",
   "metadata": {},
   "outputs": [
    {
     "name": "stdout",
     "output_type": "stream",
     "text": [
      "Mutliple by 2 : (1, 4, 9, 16, 25, 36, 49, 64, 81, 100)\n"
     ]
    }
   ],
   "source": [
    "# 36. Multiply all elements in a tuple by 2.\n",
    "print(\"Mutliple by 2 :\",tuple(ele**2 for ele in setTuple))"
   ]
  },
  {
   "cell_type": "code",
   "execution_count": 52,
   "id": "a4b832e0-260c-4e24-8daf-c8a1a4fdc764",
   "metadata": {},
   "outputs": [
    {
     "name": "stdout",
     "output_type": "stream",
     "text": [
      "(10, 25, 76, 15, 21, 64)\n"
     ]
    }
   ],
   "source": [
    "# 37. Create a tuple of random numbers.\n",
    "import random\n",
    "randomSet=tuple(random.randint(1,100) for _ in range(6));\n",
    "print(randomSet)\n"
   ]
  },
  {
   "cell_type": "code",
   "execution_count": 107,
   "id": "a9f99383-ee73-4a43-bc70-2dc7351d9bb0",
   "metadata": {},
   "outputs": [
    {
     "name": "stdout",
     "output_type": "stream",
     "text": [
      "(84, 68, 89, 28, 34, 19)\n"
     ]
    }
   ],
   "source": [
    "# 37. Create a tuple of random numbers.\n",
    "import random\n",
    "randomSet=tuple(random.randint(1,100) for _ in range(6));\n",
    "print(randomSet)"
   ]
  },
  {
   "cell_type": "code",
   "execution_count": 62,
   "id": "24097480-6f4f-42a9-b075-b750048b028a",
   "metadata": {},
   "outputs": [
    {
     "name": "stdout",
     "output_type": "stream",
     "text": [
      "Sorted\n"
     ]
    }
   ],
   "source": [
    "# 38. Check if a tuple is sorted.\n",
    "tup1=(1,2,3,4,5,6)\n",
    "for i in range(len(tup1)):\n",
    "    if tup1[i]>tup1[i+1]:\n",
    "        print(\"Not Sorted\");\n",
    "        break;\n",
    "    else:\n",
    "        print(\"Sorted\")\n",
    "        break;\n"
   ]
  },
  {
   "cell_type": "code",
   "execution_count": 65,
   "id": "651b0803-25fc-4bea-acfe-4695a3f50c69",
   "metadata": {},
   "outputs": [
    {
     "name": "stdout",
     "output_type": "stream",
     "text": [
      "Before Roatation :  (1, 2, 3, 4, 5, 6)\n",
      "After Rotation :  (3, 4, 5, 6, 1, 2)\n"
     ]
    }
   ],
   "source": [
    "# 39. Rotate a tuple to the left by `n` positions.\n",
    "tup1=(1,2,3,4,5,6)\n",
    "rotataionBy=2;\n",
    "rotataionBy=rotataionBy%len(tup1)\n",
    "rotated=tup1[rotataionBy:]+tup1[:rotataionBy]\n",
    "print(\"Before Roatation : \",tup1);\n",
    "print(\"After Rotation : \",rotated)"
   ]
  },
  {
   "cell_type": "code",
   "execution_count": 95,
   "id": "9fbdec13-17f8-4ddf-a685-ea85e0611edb",
   "metadata": {},
   "outputs": [
    {
     "name": "stdout",
     "output_type": "stream",
     "text": [
      "Before Roatation :  (1, 2, 3, 4, 5, 6)\n",
      "After Rotation :  (5, 6, 1, 2, 3, 4)\n"
     ]
    }
   ],
   "source": [
    "# 40. Rotate a tuple to the right by `n` positions.\n",
    "tup1=(1,2,3,4,5,6)\n",
    "rotataionBy=2;\n",
    "rotataionBy=rotataionBy%len(tup1)\n",
    "rotated=tup1[-rotataionBy:]+tup1[:-rotataionBy]\n",
    "print(\"Before Roatation : \",tup1);\n",
    "print(\"After Rotation : \",rotated)"
   ]
  },
  {
   "cell_type": "code",
   "execution_count": 96,
   "id": "85f994b3-f2d1-4cdb-9054-1703e43c3f52",
   "metadata": {},
   "outputs": [
    {
     "name": "stdout",
     "output_type": "stream",
     "text": [
      "First 5 Fibonacci numbers: (0, 1, 1, 2, 3)\n"
     ]
    }
   ],
   "source": [
    "# 41. Create a tuple of the first 5 Fibonacci numbers.\n",
    "def generate_fibonacci(n):\n",
    "    fibonacci_numbers = [0, 1]\n",
    "    while len(fibonacci_numbers) < n:\n",
    "        next_number = fibonacci_numbers[-1] + fibonacci_numbers[-2]\n",
    "        fibonacci_numbers.append(next_number)\n",
    "    return tuple(fibonacci_numbers)\n",
    "\n",
    "first_five_fibonacci = generate_fibonacci(5)\n",
    "\n",
    "print(\"First 5 Fibonacci numbers:\", first_five_fibonacci)\n",
    "\n",
    "    "
   ]
  },
  {
   "cell_type": "code",
   "execution_count": 97,
   "id": "ca7268b1-6660-409e-a295-9107203e5e60",
   "metadata": {},
   "outputs": [
    {
     "name": "stdin",
     "output_type": "stream",
     "text": [
      "Enter values separated by spaces:  1 2 3 4 5\n"
     ]
    },
    {
     "name": "stdout",
     "output_type": "stream",
     "text": [
      "Tuple created from user input: ('1', '2', '3', '4', '5')\n"
     ]
    }
   ],
   "source": [
    "# 42. Create a tuple from user input.\n",
    "data = tuple(input(\"Enter values separated by spaces: \").split())\n",
    "print(\"Tuple created from user input:\", data)\n"
   ]
  },
  {
   "cell_type": "code",
   "execution_count": 98,
   "id": "2543aa76-3f7d-4329-a063-652017f03baf",
   "metadata": {},
   "outputs": [
    {
     "name": "stdout",
     "output_type": "stream",
     "text": [
      "Original Tuple: (1, 2, 3, 4, 5)\n",
      "Swapped Tuple: (1, 4, 3, 2, 5)\n"
     ]
    }
   ],
   "source": [
    "# 43. Swap two elements in a tuple\n",
    "my_tuple = (1, 2, 3, 4, 5)\n",
    "new_tuple = list(my_tuple)\n",
    "new_tuple[1], new_tuple[3] = new_tuple[3], new_tuple[1]\n",
    "my_swapped_tuple = tuple(new_tuple)\n",
    "\n",
    "print(\"Original Tuple:\", my_tuple)\n",
    "print(\"Swapped Tuple:\", my_swapped_tuple)\n"
   ]
  },
  {
   "cell_type": "code",
   "execution_count": 99,
   "id": "646645f2-617b-438f-9fd4-0168ce3b08e0",
   "metadata": {},
   "outputs": [
    {
     "name": "stdout",
     "output_type": "stream",
     "text": [
      "Original Tuple: (1, 2, 3, 4, 5)\n",
      "Reversed Tuple: (5, 4, 3, 2, 1)\n"
     ]
    }
   ],
   "source": [
    "# 44. Reverse the elements of a tuple.\n",
    "my_tuple = (1, 2, 3, 4, 5)\n",
    "reversed_tuple = tuple(reversed(my_tuple))\n",
    "print(\"Original Tuple:\", my_tuple)\n",
    "print(\"Reversed Tuple:\", reversed_tuple)\n"
   ]
  },
  {
   "cell_type": "code",
   "execution_count": 100,
   "id": "ed99209e-8faa-4c61-8da7-b59520a12bae",
   "metadata": {},
   "outputs": [
    {
     "name": "stdout",
     "output_type": "stream",
     "text": [
      "Tuple of the first 5 powers of 2: (1, 2, 4, 8, 16)\n"
     ]
    }
   ],
   "source": [
    "# 45. Create a tuple of the first `n` powers of 2.\n",
    "n = 5\n",
    "powers_of_2 = tuple(2 ** i for i in range(n))\n",
    "print(\"Tuple of the first\", n, \"powers of 2:\", powers_of_2)\n"
   ]
  },
  {
   "cell_type": "code",
   "execution_count": 101,
   "id": "f5591237-6839-4eb3-8a32-0bc595a5556e",
   "metadata": {},
   "outputs": [
    {
     "name": "stdout",
     "output_type": "stream",
     "text": [
      "Longest string in the tuple: banana\n"
     ]
    }
   ],
   "source": [
    "# 46. Find the longest string in a tuple of strings\n",
    "string_tuple = ('apple', 'banana', 'kiwi', 'orange')\n",
    "longest_string = max(string_tuple, key=len)\n",
    "print(\"Longest string in the tuple:\", longest_string)\n"
   ]
  },
  {
   "cell_type": "code",
   "execution_count": 102,
   "id": "b62a02f0-6dc2-47aa-9d3b-108fed784093",
   "metadata": {},
   "outputs": [
    {
     "name": "stdout",
     "output_type": "stream",
     "text": [
      "Shortest string in the tuple: kiwi\n"
     ]
    }
   ],
   "source": [
    "# 47. Find the shortest string in a tuple of strings\n",
    "string_tuple = ('apple', 'banana', 'kiwi', 'orange')\n",
    "shortest_string = min(string_tuple, key=len)\n",
    "print(\"Shortest string in the tuple:\", shortest_string)\n"
   ]
  },
  {
   "cell_type": "code",
   "execution_count": 103,
   "id": "0e7ca805-8d9d-4a15-a138-9bfd5489fc82",
   "metadata": {},
   "outputs": [
    {
     "name": "stdout",
     "output_type": "stream",
     "text": [
      "Tuple of the first 5 triangular numbers: (1, 3, 6, 10, 15)\n"
     ]
    }
   ],
   "source": [
    "# 48. Create a tuple of the first `n` triangular numbers.\n",
    "\n",
    "n = 5\n",
    "triangular_numbers = tuple((i * (i + 1)) // 2 for i in range(1, n + 1))\n",
    "print(\"Tuple of the first\", n, \"triangular numbers:\", triangular_numbers)\n"
   ]
  },
  {
   "cell_type": "code",
   "execution_count": 104,
   "id": "450db357-7592-4be8-84fa-943332599b79",
   "metadata": {},
   "outputs": [
    {
     "name": "stdout",
     "output_type": "stream",
     "text": [
      "Does the main tuple contain the subsequence tuple? True\n"
     ]
    }
   ],
   "source": [
    "# 49. Check if a tuple contains another tuple as a subsequence.\n",
    "\n",
    "main_tuple = (1, 2, 3, 4, 5, 6)\n",
    "sub_tuple = (3, 4)\n",
    "\n",
    "contains_subsequence = all(item in main_tuple for item in sub_tuple)\n",
    "print(\"Does the main tuple contain the subsequence tuple?\", contains_subsequence)\n"
   ]
  },
  {
   "cell_type": "code",
   "execution_count": 105,
   "id": "082834b1-2f0a-40f0-9dfc-c15138f83fe6",
   "metadata": {},
   "outputs": [
    {
     "name": "stdout",
     "output_type": "stream",
     "text": [
      "Tuple of alternating 1s and 0s: (0, 1, 0, 1, 0, 1, 0, 1)\n"
     ]
    }
   ],
   "source": [
    "# 50. Create a tuple of alternating 1s and 0s of length `n`.\n",
    "n = 8\n",
    "alternating_tuple = tuple((i % 2) for i in range(n))\n",
    "print(\"Tuple of alternating 1s and 0s:\", alternating_tuple)\n"
   ]
  },
  {
   "cell_type": "markdown",
   "id": "f252eb5b-ec26-4dac-aa2f-64b303cf778c",
   "metadata": {
    "jp-MarkdownHeadingCollapsed": true,
    "tags": []
   },
   "source": [
    "# SET Based Assignment Problem"
   ]
  },
  {
   "cell_type": "code",
   "execution_count": 51,
   "id": "4a8c3863-3d04-4e98-8666-5901d756263c",
   "metadata": {},
   "outputs": [
    {
     "name": "stdout",
     "output_type": "stream",
     "text": [
      "{1, 2, 3, 4, 5}\n"
     ]
    }
   ],
   "source": [
    "# 1. Create a set with integers from 1 to 5.\n",
    "newSet={1,2,3,4,5}\n",
    "print(newSet)"
   ]
  },
  {
   "cell_type": "code",
   "execution_count": 21,
   "id": "201aa02e-b980-4437-b270-88a9d4b2b665",
   "metadata": {},
   "outputs": [
    {
     "name": "stdout",
     "output_type": "stream",
     "text": [
      "Before Adding :  {1, 2, 3, 4, 5}\n",
      "After Adding :  {1, 2, 3, 4, 5, 6, 7, 8, 9, 10}\n"
     ]
    }
   ],
   "source": [
    "# 2. Add an element to a set.\n",
    "print(\"Before Adding : \",newSet)\n",
    "newSet.add(4)\n",
    "newSet.add(5)\n",
    "newSet.add(6)\n",
    "newSet.add(7)\n",
    "newSet.add(8)\n",
    "newSet.add(9)\n",
    "newSet.add(10)\n",
    "print(\"After Adding : \",newSet)"
   ]
  },
  {
   "cell_type": "code",
   "execution_count": 22,
   "id": "ccac9c9e-a615-47c5-9499-3997331d5ffc",
   "metadata": {},
   "outputs": [
    {
     "name": "stdout",
     "output_type": "stream",
     "text": [
      "Before Removeing : {1, 2, 3, 4, 5, 6, 7, 8, 9, 10}\n",
      "After Removed : {3, 4, 5, 6, 7, 8, 9, 10}\n"
     ]
    }
   ],
   "source": [
    "# 3. Remove an element from a set.\n",
    "print(\"Before Removeing :\",newSet)\n",
    "newSet.pop()\n",
    "newSet.pop()\n",
    "print(\"After Removed :\",newSet)"
   ]
  },
  {
   "cell_type": "code",
   "execution_count": 23,
   "id": "6ed8e52c-c593-43c1-a5a3-a229d06db047",
   "metadata": {},
   "outputs": [
    {
     "name": "stdout",
     "output_type": "stream",
     "text": [
      "Before Removeing : {3, 4, 5, 6, 7, 8, 9, 10}\n",
      "After Removed : {5, 6, 7, 8, 9, 10}\n"
     ]
    }
   ],
   "source": [
    "print(\"Before Removeing :\",newSet)\n",
    "newSet.pop()\n",
    "newSet.pop()\n",
    "print(\"After Removed :\",newSet)"
   ]
  },
  {
   "cell_type": "code",
   "execution_count": 24,
   "id": "ab269841-5121-40de-bee4-7a6e988b4aad",
   "metadata": {},
   "outputs": [
    {
     "name": "stdout",
     "output_type": "stream",
     "text": [
      "Before Removeing : {5, 6, 7, 8, 9, 10}\n",
      "After Removed : {6, 7, 8, 9, 10}\n"
     ]
    }
   ],
   "source": [
    "print(\"Before Removeing :\",newSet)\n",
    "newSet.remove(5)\n",
    "print(\"After Removed :\",newSet)"
   ]
  },
  {
   "cell_type": "code",
   "execution_count": 36,
   "id": "1557ef49-eadb-4daf-8e51-f98876c5b3a6",
   "metadata": {},
   "outputs": [
    {
     "name": "stdout",
     "output_type": "stream",
     "text": [
      "SET :  {6, 7, 8, 9, 10}\n"
     ]
    },
    {
     "name": "stdin",
     "output_type": "stream",
     "text": [
      "Enter element tobe find :  6\n"
     ]
    },
    {
     "name": "stdout",
     "output_type": "stream",
     "text": [
      "Element 6  is found in Set.\n"
     ]
    }
   ],
   "source": [
    "# 4. Check if an element exists in a set.\n",
    "print(\"SET : \",newSet)\n",
    "ele=int(input(\"Enter element tobe find : \"))\n",
    "if ele in newSet:\n",
    "    print(f\"Element {ele}  is found in Set.\")\n",
    "else:\n",
    "    print(f\"Element {ele} is not found in Set. \")"
   ]
  },
  {
   "cell_type": "code",
   "execution_count": 37,
   "id": "ca52b39d-eaa2-4886-b30a-c2b63f703dd1",
   "metadata": {},
   "outputs": [
    {
     "name": "stdout",
     "output_type": "stream",
     "text": [
      "{6, 7, 8, 9, 10}\n",
      "Length oof Set is :  5\n"
     ]
    }
   ],
   "source": [
    "#  5. Find the length of a set without using the `len()` function.\n",
    "print(newSet)\n",
    "cnt=0\n",
    "for i in newSet:\n",
    "    cnt+=1\n",
    "print(\"Length oof Set is : \",cnt)"
   ]
  },
  {
   "cell_type": "code",
   "execution_count": 38,
   "id": "5b6b5338-f390-4271-9b99-355e62d31150",
   "metadata": {},
   "outputs": [
    {
     "name": "stdout",
     "output_type": "stream",
     "text": [
      "Before Clearing : {6, 7, 8, 9, 10}\n",
      "After Clearing : set()\n"
     ]
    }
   ],
   "source": [
    "# 6. Clear all elements from a set.\n",
    "print(\"Before Clearing :\",newSet)\n",
    "newSet.clear()\n",
    "print(\"After Clearing :\",newSet)"
   ]
  },
  {
   "cell_type": "code",
   "execution_count": 47,
   "id": "2521037e-e102-4fba-abcf-115f206192be",
   "metadata": {},
   "outputs": [
    {
     "name": "stdout",
     "output_type": "stream",
     "text": [
      "{2, 4, 6, 8, 10}\n",
      "{1, 3, 5, 7, 9}\n"
     ]
    }
   ],
   "source": [
    "# 7. Create a set of even numbers from 1 to 10.\n",
    "# 8. Create a set of odd numbers from 1 to 10.\n",
    "wholeSet={1,3,2,5,4,9,7,3,6,7,1,6,6,9,8,8,6,4,5,3,2,1,5,6,7,1,212,34,55,66,77,88,99}\n",
    "oddSet=set()\n",
    "evenSet=set()\n",
    "for i in range (1,10+1):\n",
    "    if(i%2==0):\n",
    "        evenSet.add(i)\n",
    "    else:\n",
    "        oddSet.add(i)\n",
    "print(evenSet)\n",
    "print(oddSet)"
   ]
  },
  {
   "cell_type": "code",
   "execution_count": 48,
   "id": "0a48e7ec-5696-445a-90b5-98d6ce2e48d0",
   "metadata": {},
   "outputs": [
    {
     "name": "stdout",
     "output_type": "stream",
     "text": [
      "{1, 2, 3, 4, 5, 6, 7, 8, 9, 66, 77, 212, 88, 34, 99, 55}\n",
      "{1, 3, 5, 7, 9}\n"
     ]
    },
    {
     "data": {
      "text/plain": [
       "{1, 2, 3, 4, 5, 6, 7, 8, 9, 34, 55, 66, 77, 88, 99, 212}"
      ]
     },
     "execution_count": 48,
     "metadata": {},
     "output_type": "execute_result"
    }
   ],
   "source": [
    "# 9. Find the union of two sets.\n",
    "print(wholeSet)\n",
    "print(oddSet)\n",
    "oddSet.union(wholeSet)\n"
   ]
  },
  {
   "cell_type": "code",
   "execution_count": 51,
   "id": "ba3e5ffc-afdf-4fea-a14d-763e6cbcdd67",
   "metadata": {},
   "outputs": [
    {
     "name": "stdout",
     "output_type": "stream",
     "text": [
      "{1, 2, 3, 4, 5, 6, 7, 8, 9, 66, 77, 212, 88, 34, 99, 55}\n",
      "{1, 3, 5, 7, 9}\n"
     ]
    },
    {
     "data": {
      "text/plain": [
       "{1, 3, 5, 7, 9}"
      ]
     },
     "execution_count": 51,
     "metadata": {},
     "output_type": "execute_result"
    }
   ],
   "source": [
    "# 10. Find the intersection of two sets.\n",
    "print(wholeSet)\n",
    "print(oddSet)\n",
    "wholeSet.intersection(oddSet)\n",
    "oddSet.intersection(wholeSet)"
   ]
  },
  {
   "cell_type": "code",
   "execution_count": 56,
   "id": "b3e71cbf-a4e2-44a2-abfa-2a24401b67a0",
   "metadata": {},
   "outputs": [
    {
     "name": "stdout",
     "output_type": "stream",
     "text": [
      "{2, 4, 6, 8, 66, 77, 212, 88, 34, 99, 55}\n",
      "{1, 3, 5, 7, 9}\n"
     ]
    },
    {
     "data": {
      "text/plain": [
       "{2, 4, 6, 8, 34, 55, 66, 77, 88, 99, 212}"
      ]
     },
     "execution_count": 56,
     "metadata": {},
     "output_type": "execute_result"
    }
   ],
   "source": [
    "# 11. Find the difference between two sets.\n",
    "print(wholeSet)\n",
    "print(oddSet)\n",
    "wholeSet.difference(oddSet)"
   ]
  },
  {
   "cell_type": "code",
   "execution_count": 65,
   "id": "f98675ae-0c35-4fe2-b340-c66133eea82a",
   "metadata": {},
   "outputs": [
    {
     "name": "stdout",
     "output_type": "stream",
     "text": [
      "setOne :  {2, 34, 4, 66, 6, 99, 8, 77, 212, 55, 88}\n",
      "setTwo :  {8, 2, 4, 6}\n",
      "Is setTwo subSet of setOne ?  True\n",
      "Is setOne Subset of setTwo ?  False\n",
      "Is setOne is a Super Set of setTwo  ?  True\n",
      "Is setTwo is a Super Set of setOne ?  False\n"
     ]
    }
   ],
   "source": [
    "# 12. Check if a set is a subset of another set.\n",
    "# 13. Check if a set is a superset of another set.\n",
    "setOne={2, 4, 6, 8, 66, 77, 212, 88, 34, 99, 55}\n",
    "setTwo={2,4,6,8}\n",
    "print(\"setOne : \",setOne)\n",
    "print(\"setTwo : \",setTwo)\n",
    "\n",
    "# checking for subSet\n",
    "print(\"Is setTwo subSet of setOne ? \",setTwo.issubset(setOne))\n",
    "print(\"Is setOne Subset of setTwo ? \",setOne.issubset(setTwo))\n",
    "\n",
    "# checkin for superSet\n",
    "print(\"Is setOne is a Super Set of setTwo  ? \",setOne.issuperset(setTwo))\n",
    "print(\"Is setTwo is a Super Set of setOne ? \",setTwo.issuperset(setOne))"
   ]
  },
  {
   "cell_type": "code",
   "execution_count": 70,
   "id": "3d1b6154-29cb-4873-bae5-dbbd327b29c6",
   "metadata": {},
   "outputs": [
    {
     "name": "stdout",
     "output_type": "stream",
     "text": [
      "Before Converting :[1, 2, 3, 4, 5, 6, 7, 8] and It's Type is :<class 'list'>\n",
      "After Converting :{1, 2, 3, 4, 5, 6, 7, 8} and It's Type is :<class 'set'>\n"
     ]
    }
   ],
   "source": [
    "# 14. Create a set from a list.\n",
    "listToConvert=[1,2,3,4,5,6,7,8]\n",
    "print(f\"Before Converting :{listToConvert} and It's Type is :{type(listToConvert)}\")\n",
    "convrtdSet=set(listToConvert)\n",
    "print(f\"After Converting :{convrtdSet} and It's Type is :{type(convrtdSet)}\")"
   ]
  },
  {
   "cell_type": "code",
   "execution_count": 71,
   "id": "ba9805ae-5710-4d50-980d-de05bba3bdd6",
   "metadata": {},
   "outputs": [
    {
     "name": "stdout",
     "output_type": "stream",
     "text": [
      "Before Converting :{1, 2, 3, 4, 5, 6, 7, 8} and It's Type is :<class 'set'>\n",
      "After Converting :[1, 2, 3, 4, 5, 6, 7, 8] and It's Type is :<class 'list'>\n"
     ]
    }
   ],
   "source": [
    "# 15. Convert a set to a list.\n",
    "print(f\"Before Converting :{convrtdSet} and It's Type is :{type(convrtdSet)}\")\n",
    "listToConvert=list(convrtdSet)\n",
    "print(f\"After Converting :{listToConvert} and It's Type is :{type(listToConvert)}\")\n"
   ]
  },
  {
   "cell_type": "code",
   "execution_count": 9,
   "id": "23302cb8-9320-461b-b04e-df526db57b7c",
   "metadata": {},
   "outputs": [
    {
     "name": "stdout",
     "output_type": "stream",
     "text": [
      "Before Deleting :  {1, 2, 3, 4, 5, 6, 7, 8, 9}\n",
      "After Deleting :  {2, 3, 4, 5, 6, 7, 8}\n"
     ]
    }
   ],
   "source": [
    "# 16. Remove a random element from a set.\n",
    "mySet1={1,2,3,4,5,6,7,8,9}\n",
    "print(\"Before Deleting : \",mySet1)\n",
    "mySet1.discard(1)\n",
    "mySet1.discard(9)\n",
    "print(\"After Deleting : \",mySet1)"
   ]
  },
  {
   "cell_type": "code",
   "execution_count": 6,
   "id": "a6b7aa2d-b5f0-44d4-b573-04ddf1656bd7",
   "metadata": {},
   "outputs": [
    {
     "name": "stdout",
     "output_type": "stream",
     "text": [
      "Before Deleting :  {1, 2, 3, 4, 5, 6, 7, 8, 9}\n",
      "After Deleting :  {3, 4, 5, 6, 7, 8, 9}\n"
     ]
    }
   ],
   "source": [
    "# 17. Pop an element from a set.\n",
    "mySet={1,2,3,4,5,6,7,8,9}\n",
    "print(\"Before Deleting : \",mySet)\n",
    "mySet.pop()\n",
    "mySet.pop()\n",
    "print(\"After Deleting : \",mySet)"
   ]
  },
  {
   "cell_type": "code",
   "execution_count": 16,
   "id": "f4e76436-afb6-4275-8a85-585d2a7cb14a",
   "metadata": {},
   "outputs": [
    {
     "name": "stdout",
     "output_type": "stream",
     "text": [
      "Common element is Available.\n"
     ]
    }
   ],
   "source": [
    "# 18. Check if two sets have no elements in common.\n",
    "mySet={1,2,3,4,5}\n",
    "mySet1={1,2,3,4,5,6,7,8}\n",
    "if len(mySet.intersection(mySet1))>0:\n",
    "    print(\"Common element is Available.\")\n",
    "else:\n",
    "    print(\"Common element is Not present.\")\n",
    "    \n"
   ]
  },
  {
   "cell_type": "code",
   "execution_count": 20,
   "id": "fd5b4b9f-af70-4ec8-9a65-1aac7b844b80",
   "metadata": {},
   "outputs": [
    {
     "name": "stdout",
     "output_type": "stream",
     "text": [
      "Symetric difference is :  {6, 7, 8}\n"
     ]
    }
   ],
   "source": [
    "# 19. Find the symmetric difference between two sets.\n",
    "mySet={1,2,3,4,5}\n",
    "mySet1={1,2,3,4,5,6,7,8}\n",
    "print(\"Symetric difference is : \",mySet^mySet1)"
   ]
  },
  {
   "cell_type": "code",
   "execution_count": 35,
   "id": "81d2b846-623e-46d6-8408-0a2d8d0f8317",
   "metadata": {},
   "outputs": [
    {
     "name": "stdout",
     "output_type": "stream",
     "text": [
      "{1, 2, 3, 4, 5}\n"
     ]
    }
   ],
   "source": [
    "#  Copy a set with elements from another set.\n",
    "mySet={1,2,3,4,5}\n",
    "upadatedSet=set()\n",
    "upadatedSet=mySet.copy()\n",
    "print(upadatedSet)\n"
   ]
  },
  {
   "cell_type": "code",
   "execution_count": 47,
   "id": "1c844756-16dc-4a2b-b87d-d42f77ba3f8d",
   "metadata": {},
   "outputs": [
    {
     "name": "stdout",
     "output_type": "stream",
     "text": [
      "Set 1 : {1, 2, 3, 4, 5}\n",
      "Set 2 :  {8, 6, 7}\n",
      "Updated Set :  {1, 2, 3, 4, 5, 6, 7, 8}\n"
     ]
    }
   ],
   "source": [
    "# 20. Update a set with elements from another set.\n",
    "mySet={1,2,3,4,5}\n",
    "print(\"Set 1 :\",mySet)\n",
    "mySet1={6,7,8}\n",
    "print(\"Set 2 : \",mySet1)\n",
    "mySet.update(mySet1)\n",
    "print(\"Updated Set : \",mySet)"
   ]
  },
  {
   "cell_type": "code",
   "execution_count": 63,
   "id": "b769f8e3-2ab0-41bc-8fd4-a5ced8aeefe1",
   "metadata": {},
   "outputs": [
    {
     "name": "stdout",
     "output_type": "stream",
     "text": [
      "{2, 4, 6, 8, 10, 12, 14, 16, 18, 20, 22, 24, 26, 28, 30, 32, 34, 36, 38, 40, 42, 44, 46, 48, 50, 52, 54, 56, 58, 60, 62, 64, 66, 68, 70, 72, 74, 76, 78, 80, 82, 84, 86, 88, 90, 92, 94, 96, 98}\n"
     ]
    }
   ],
   "source": [
    "# 21. Create a set of the first 5 prime numbers.\n",
    "newSet=set()\n",
    "while len(newSet)<6:\n",
    "    newSet=set(ele for ele in range(1,100) if ele%2==0)\n",
    "print(newSet)"
   ]
  },
  {
   "cell_type": "code",
   "execution_count": 3,
   "id": "89038f31-b33e-4e52-96f9-885292c21806",
   "metadata": {},
   "outputs": [
    {
     "name": "stdout",
     "output_type": "stream",
     "text": [
      "Set are Identical :  False\n"
     ]
    }
   ],
   "source": [
    "#  22. Check if two sets are identical.\n",
    "first={1,2,3}\n",
    "second={1,2,3}\n",
    "print(\"Set are Identical : \",first==second)"
   ]
  },
  {
   "cell_type": "code",
   "execution_count": 4,
   "id": "e04bd219-047c-4d7d-a10e-3a040b7480db",
   "metadata": {},
   "outputs": [
    {
     "name": "stdout",
     "output_type": "stream",
     "text": [
      "Set are Identical :  True\n"
     ]
    }
   ],
   "source": [
    "first={1,2,3}\n",
    "second={1,2,3}\n",
    "print(\"Set are Identical : \",first==second)"
   ]
  },
  {
   "cell_type": "code",
   "execution_count": 8,
   "id": "2de1d8dd-6abc-4eb8-8ba2-55a5046d41e4",
   "metadata": {},
   "outputs": [
    {
     "name": "stdout",
     "output_type": "stream",
     "text": [
      "Frozen set :  frozenset({10, 11, 12, 13, 14, 15})\n"
     ]
    },
    {
     "ename": "TypeError",
     "evalue": "'frozenset' object does not support item assignment",
     "output_type": "error",
     "traceback": [
      "\u001b[0;31m---------------------------------------------------------------------------\u001b[0m",
      "\u001b[0;31mTypeError\u001b[0m                                 Traceback (most recent call last)",
      "Cell \u001b[0;32mIn[8], line 5\u001b[0m\n\u001b[1;32m      3\u001b[0m create_frozee\u001b[38;5;241m=\u001b[39m\u001b[38;5;28mfrozenset\u001b[39m(data)\n\u001b[1;32m      4\u001b[0m \u001b[38;5;28mprint\u001b[39m(\u001b[38;5;124m\"\u001b[39m\u001b[38;5;124mFrozen set : \u001b[39m\u001b[38;5;124m\"\u001b[39m,create_frozee)\n\u001b[0;32m----> 5\u001b[0m \u001b[43mcreate_frozee\u001b[49m\u001b[43m[\u001b[49m\u001b[38;5;241;43m1\u001b[39;49m\u001b[43m]\u001b[49m\u001b[38;5;241m=\u001b[39m\u001b[38;5;241m100\u001b[39m;\n\u001b[1;32m      6\u001b[0m \u001b[38;5;28mprint\u001b[39m(create_frozee)\n",
      "\u001b[0;31mTypeError\u001b[0m: 'frozenset' object does not support item assignment"
     ]
    }
   ],
   "source": [
    "# 23. Create a frozen set.\n",
    "data=[10,11,12,13,14,15]\n",
    "create_frozee=frozenset(data)\n",
    "print(\"Frozen set : \",create_frozee)\n",
    "create_frozee[1]=100;\n",
    "print(create_frozee)   # we can not change the value of frozen set."
   ]
  },
  {
   "cell_type": "code",
   "execution_count": 10,
   "id": "6a6a8be2-9a3a-4618-8fe2-8cde98af7ff6",
   "metadata": {},
   "outputs": [
    {
     "name": "stdout",
     "output_type": "stream",
     "text": [
      "Is Disjoint :  True\n",
      "Is Disjoint :  False\n"
     ]
    }
   ],
   "source": [
    "# 24. Check if a set is disjoint with another set.\n",
    "first={1,2,3}\n",
    "second={4,5,6}\n",
    "print(\"Is Disjoint : \",first.isdisjoint(second))\n",
    "first={1,2,3}\n",
    "second={1,2,4,5,6}\n",
    "print(\"Is Disjoint : \",first.isdisjoint(second))"
   ]
  },
  {
   "cell_type": "code",
   "execution_count": 17,
   "id": "78aabb90-1396-4cbf-9e7b-933676e1a718",
   "metadata": {},
   "outputs": [
    {
     "name": "stdout",
     "output_type": "stream",
     "text": [
      "Square Numbers :  {1, 4, 9, 16, 25}\n"
     ]
    }
   ],
   "source": [
    "# 25. Create a set of squares of numbers from 1 to 5.\n",
    "print(\"Square Numbers : \",set(ele*ele for ele in range (1,6)))"
   ]
  },
  {
   "cell_type": "code",
   "execution_count": 18,
   "id": "9114b98c-cae9-4b84-be2e-b5c03ce1d27f",
   "metadata": {},
   "outputs": [
    {
     "name": "stdout",
     "output_type": "stream",
     "text": [
      "Even nunbers :  {2, 4, 6, 8, 10}\n"
     ]
    }
   ],
   "source": [
    "# 26. Filter out all even numbers from a set.\n",
    "totalNumber={1,2,3,4,5,6,7,8,9,10}\n",
    "print(\"Even nunbers : \",set(ele for ele in totalNumber if ele%2==0))"
   ]
  },
  {
   "cell_type": "code",
   "execution_count": 19,
   "id": "60616b7a-1743-45c0-b057-4f6f6776b1a0",
   "metadata": {},
   "outputs": [
    {
     "name": "stdout",
     "output_type": "stream",
     "text": [
      "Multiply by 2 :  {2, 4, 6, 8, 10, 12, 14, 16, 18, 20}\n"
     ]
    }
   ],
   "source": [
    "#  27. Multiply all elements in a set by 2.\n",
    "totalNumber={1,2,3,4,5,6,7,8,9,10}\n",
    "print(\"Multiply by 2 : \",set(ele*2 for ele in totalNumber))"
   ]
  },
  {
   "cell_type": "code",
   "execution_count": 31,
   "id": "335e584e-5f8e-4334-b116-8e3d1395a894",
   "metadata": {},
   "outputs": [
    {
     "name": "stdout",
     "output_type": "stream",
     "text": [
      "Random 5 Numbers  {48, 81, 82, 52, 29}\n"
     ]
    }
   ],
   "source": [
    "# 28. Create a set of random numbers.\n",
    "import random\n",
    "result=set();\n",
    "cnt=1;\n",
    "while cnt<=5:\n",
    "    result.add(random.randint(1,100));\n",
    "    cnt=cnt+1;\n",
    "print(\"Random 5 Numbers \",result)"
   ]
  },
  {
   "cell_type": "code",
   "execution_count": 33,
   "id": "ded2bae4-9364-4187-b3d0-c0d545b47c4d",
   "metadata": {},
   "outputs": [
    {
     "name": "stdout",
     "output_type": "stream",
     "text": [
      "Set is Empty\n"
     ]
    }
   ],
   "source": [
    "# 29. Check if a set is empty.\n",
    "checkEmpty=set();\n",
    "if not checkEmpty:\n",
    "    print(\"Set is Empty\");\n",
    "else:\n",
    "    print(\"Set is not Empty\");\n"
   ]
  },
  {
   "cell_type": "code",
   "execution_count": 34,
   "id": "ee6b2c12-db02-451d-aa87-8431e5ab50d3",
   "metadata": {},
   "outputs": [
    {
     "name": "stdout",
     "output_type": "stream",
     "text": [
      "Nested Set :  {frozenset({1, 2, 3, 4, 5}), frozenset({6, 7, 8, 9, 10})}\n"
     ]
    }
   ],
   "source": [
    "# 30. Create a nested set (hint: use frozenset).\n",
    "first={1,2,3,4,5}\n",
    "second={6,7,8,9,10}\n",
    "firstFrozen=frozenset(first);\n",
    "secondFrozen=frozenset(second);\n",
    "nestedSet={firstFrozen,secondFrozen};\n",
    "print(\"Nested Set : \",nestedSet)"
   ]
  },
  {
   "cell_type": "code",
   "execution_count": 39,
   "id": "b76762ef-a43f-47ba-9611-21a35f94c85b",
   "metadata": {},
   "outputs": [
    {
     "name": "stdout",
     "output_type": "stream",
     "text": [
      "Before Discard :  {1, 2, 3, 4, 5}\n",
      "After Discard :  {3, 4, 5}\n"
     ]
    }
   ],
   "source": [
    "# 31. Remove an element from a set using the discard method.\n",
    "first={1,2,3,4,5}\n",
    "print(\"Before Discard : \",first)\n",
    "first.discard(1)\n",
    "first.discard(2)\n",
    "print(\"After Discard : \",first)"
   ]
  },
  {
   "cell_type": "code",
   "execution_count": 49,
   "id": "88168c3c-e8b2-46f9-969c-ffa1b0957a22",
   "metadata": {},
   "outputs": [
    {
     "name": "stdout",
     "output_type": "stream",
     "text": [
      "Difference :  {8, 6, 7}\n",
      "Intersection :  {1, 2, 3, 4, 5}\n",
      "Union :  {1, 2, 3, 4, 5, 6, 7, 8}\n",
      "isSubset :  True\n",
      "isDisjoint :  False\n",
      "isUpperSet :  True\n"
     ]
    }
   ],
   "source": [
    "# 32. Compare two sets.\n",
    "FirstSet = {1, 2, 3, 4, 5}\n",
    "SecondSet = {4, 5, 6, 7, 8,1,2,3}\n",
    "\n",
    "print(\"Difference : \",SecondSet.difference(FirstSet))\n",
    "print(\"Intersection : \",SecondSet.intersection(FirstSet));\n",
    "print(\"Union : \",SecondSet.union(FirstSet));\n",
    "print(\"isSubset : \",FirstSet.issubset(SecondSet))\n",
    "print(\"isDisjoint : \",FirstSet.isdisjoint(SecondSet));\n",
    "print(\"isUpperSet : \",SecondSet.issuperset(FirstSet));\n"
   ]
  },
  {
   "cell_type": "code",
   "execution_count": 51,
   "id": "3eeba1a8-e72f-4564-931a-6654b1b01014",
   "metadata": {},
   "outputs": [
    {
     "name": "stdout",
     "output_type": "stream",
     "text": [
      "Before Converting :  MARUTI\n",
      "After Converting in set :  {'M', 'T', 'R', 'I', 'A', 'U'}\n"
     ]
    }
   ],
   "source": [
    "# 33. Create a set from a string.\n",
    "string=\"MARUTI\"\n",
    "print(\"Before Converting : \",string)\n",
    "strToset=set(string)\n",
    "print(\"After Converting in set : \",strToset)"
   ]
  },
  {
   "cell_type": "code",
   "execution_count": 55,
   "id": "5a0aa069-8896-4951-b806-fbcb5855fe21",
   "metadata": {},
   "outputs": [
    {
     "name": "stdout",
     "output_type": "stream",
     "text": [
      "SET of Integer :  {333, 222, 111}\n"
     ]
    }
   ],
   "source": [
    "# 34. Convert a set of strings to a set of integers.\n",
    "setOfString={\"111\",\"222\",\"333\"}\n",
    "print(\"SET of Integer : \",set(int(ele) for ele in setOfString));"
   ]
  },
  {
   "cell_type": "code",
   "execution_count": 56,
   "id": "f3e4db7d-cb53-4a2c-a583-845ac6074d0b",
   "metadata": {},
   "outputs": [
    {
     "name": "stdout",
     "output_type": "stream",
     "text": [
      "SET of String :  {'111', '333', '222'}\n"
     ]
    }
   ],
   "source": [
    "#35. Convert a set of integers to a set of strings.\n",
    "print(\"SET of String : \",set(str(ele) for ele in setOfInteger));"
   ]
  },
  {
   "cell_type": "code",
   "execution_count": 58,
   "id": "68b559f7-b62d-4d98-910d-2487120f40f2",
   "metadata": {},
   "outputs": [
    {
     "name": "stdout",
     "output_type": "stream",
     "text": [
      "Tuple to SET :  {1, 2, 3, 4, 5}\n"
     ]
    }
   ],
   "source": [
    "# 36. Create a set from a tuple.\n",
    "newTuple=(1,2,3,4,5);\n",
    "print(\"Tuple to SET : \",set(newTuple))"
   ]
  },
  {
   "cell_type": "code",
   "execution_count": 60,
   "id": "02e64dd1-3a62-4aec-ae38-911a57087431",
   "metadata": {},
   "outputs": [
    {
     "name": "stdout",
     "output_type": "stream",
     "text": [
      "SET to Tuple :  (1, 2, 3, 4, 5)\n"
     ]
    }
   ],
   "source": [
    "# 37. Convert a set to a tuple.\n",
    "newSet={1, 2, 3, 4, 5};\n",
    "print(\"SET to Tuple : \",tuple(newSet));"
   ]
  },
  {
   "cell_type": "code",
   "execution_count": 61,
   "id": "e18183b1-20b3-4401-9dcb-534b1dbfb25c",
   "metadata": {},
   "outputs": [
    {
     "name": "stdout",
     "output_type": "stream",
     "text": [
      "Maximum Value is :  10\n"
     ]
    }
   ],
   "source": [
    "# 38. Find the maximum value in a set.\n",
    "newSet={1, 2, 3, 4, 5,6,7,8,9,10};\n",
    "max_val=0;\n",
    "for ele in newSet:\n",
    "    if(ele>max_val):\n",
    "        max_val=ele;\n",
    "print(\"Maximum Value is : \",max_val);"
   ]
  },
  {
   "cell_type": "code",
   "execution_count": 63,
   "id": "3ed0768f-1a42-4b70-ae79-5787402f149e",
   "metadata": {},
   "outputs": [
    {
     "name": "stdout",
     "output_type": "stream",
     "text": [
      "Maximum Value is :  1\n"
     ]
    }
   ],
   "source": [
    "# 39. Find the minimum value in a set.\n",
    "newSet={1, 2, 3, 4, 5,6,7,8,9,10};\n",
    "min_val=float('inf');\n",
    "for ele in newSet:\n",
    "    if(ele<min_val):\n",
    "        min_val=ele;\n",
    "print(\"Maximum Value is : \",min_val);"
   ]
  },
  {
   "cell_type": "code",
   "execution_count": 5,
   "id": "1342c4cf-4530-4de3-a149-a784d233c5f9",
   "metadata": {},
   "outputs": [
    {
     "name": "stdin",
     "output_type": "stream",
     "text": [
      "How Many numbers you Want to insert in SET :  5\n",
      "Enter set Value 1\n",
      "Enter set Value 2\n",
      "Enter set Value 3\n",
      "Enter set Value 4\n",
      "Enter set Value 5\n"
     ]
    },
    {
     "name": "stdout",
     "output_type": "stream",
     "text": [
      "User Created Set is :  {1, 2, 3, 4, 5}\n"
     ]
    }
   ],
   "source": [
    "# 40. Create a set from user input.\n",
    "userSet=set();\n",
    "sizeOfSet=int(input(\"How Many numbers you Want to insert in SET : \"))\n",
    "while sizeOfSet>0:\n",
    "    userSet.add(int(input(\"Enter set Value\")));\n",
    "    sizeOfSet-=1;\n",
    "print(\"User Created Set is : \",userSet);"
   ]
  },
  {
   "cell_type": "code",
   "execution_count": 8,
   "id": "4a928523-4048-4f9a-a1d3-dbe8119ac6d5",
   "metadata": {},
   "outputs": [
    {
     "name": "stdout",
     "output_type": "stream",
     "text": [
      "Intersection of Two Set is not Empty\n"
     ]
    }
   ],
   "source": [
    "# 41. Check if the intersection of two sets is empty.\n",
    "firstSet={1,2,3,4,5}\n",
    "secondSet={4,5,6,7,8,9,10}\n",
    "intersection_result=firstSet.intersection(secondSet)\n",
    "if not intersection_result:\n",
    "    print(\"Intersection of Two Set is Empty\");\n",
    "else:\n",
    "    print(\"Intersection of Two Set is not Empty\");"
   ]
  },
  {
   "cell_type": "code",
   "execution_count": 9,
   "id": "1df8a9b1-fe88-429e-abff-decf250a0fa2",
   "metadata": {},
   "outputs": [
    {
     "name": "stdout",
     "output_type": "stream",
     "text": [
      "Fibonacci Series :  {0, 1, 2, 3, 5}\n"
     ]
    }
   ],
   "source": [
    "# 42. Create a set of the first 5 Fibonacci numbers.\n",
    "fib_set=set();\n",
    "a,b=0,1;\n",
    "for _ in range(6):\n",
    "    fib_set.add(a);\n",
    "    a,b=b,a+b;\n",
    "print(\"Fibonacci Series : \",fib_set);"
   ]
  },
  {
   "cell_type": "code",
   "execution_count": 14,
   "id": "894b7555-747d-4c7a-8b1e-dc657ccb1e41",
   "metadata": {},
   "outputs": [
    {
     "name": "stdout",
     "output_type": "stream",
     "text": [
      "21\n",
      "80\n",
      "84\n",
      "87\n",
      "58\n",
      "68\n"
     ]
    }
   ],
   "source": [
    "import random      # Practice for _ in loop\n",
    "for _ in range(6):\n",
    "    print(random.randint(1,100))\n"
   ]
  },
  {
   "cell_type": "code",
   "execution_count": 15,
   "id": "1137187b-9c90-4d79-a02d-f12b935bf347",
   "metadata": {},
   "outputs": [
    {
     "name": "stdout",
     "output_type": "stream",
     "text": [
      "Before Removing list is :  [1, 1, 2, 2, 3, 3, 4, 4, 5, 5, 6, 6, 7, 7, 1, 1, 2, 2, 3, 3, 4, 4, 4, 5, 5]\n",
      "After Removing duplicate using set is :  {1, 2, 3, 4, 5, 6, 7}\n"
     ]
    }
   ],
   "source": [
    "# 43. Remove duplicates from a list using sets.\n",
    "duplicate_list=[1,1,2,2,3,3,4,4,5,5,6,6,7,7,1,1,2,2,3,3,4,4,4,5,5];\n",
    "print(\"Before Removing list is : \",duplicate_list);\n",
    "print(\"After Removing duplicate using set is : \",set(duplicate_list));"
   ]
  },
  {
   "cell_type": "code",
   "execution_count": 28,
   "id": "2df0c663-a713-4867-8a61-20fdbd1374cb",
   "metadata": {},
   "outputs": [
    {
     "name": "stdout",
     "output_type": "stream",
     "text": [
      "set1==set2 :  True\n"
     ]
    }
   ],
   "source": [
    "# 44. Check if two sets have the same elements, regardless of their count.\n",
    "set1={1, 2, 3, 2, 1}\n",
    "set2={3, 1, 2}\n",
    "sortList1=sorted(list(set1))\n",
    "sortList2=sorted(list(set2))\n",
    "result=sortList1==sortList2\n",
    "print(\"set1==set2 : \",result)"
   ]
  },
  {
   "cell_type": "code",
   "execution_count": 36,
   "id": "d295f142-bbb0-473d-826f-bdaf54acff5c",
   "metadata": {},
   "outputs": [
    {
     "name": "stdout",
     "output_type": "stream",
     "text": [
      "{0, 1, 4, 9, 16}\n"
     ]
    }
   ],
   "source": [
    "# 45. Create a set of the first `n` powers of 2\n",
    "newSet = set(ele**2 for ele in range(5))\n",
    "print(newSet)"
   ]
  },
  {
   "cell_type": "code",
   "execution_count": 38,
   "id": "4c56f8cf-8745-455c-ad02-acdcf15d5519",
   "metadata": {},
   "outputs": [
    {
     "name": "stdout",
     "output_type": "stream",
     "text": [
      "Common elements are:  {9, 12, 7}\n"
     ]
    }
   ],
   "source": [
    "# 46. Find the common elements between a set and a list.\n",
    "my_set = {3, 7, 9, 12, 15}\n",
    "my_list = [7, 12, 5, 9]\n",
    "listToset=set(my_list)\n",
    "print(\"Common elements are: \",my_set.intersection(listToset))\n"
   ]
  },
  {
   "cell_type": "code",
   "execution_count": 48,
   "id": "6024d8ac-62ea-4d38-8f51-ce9116d51f05",
   "metadata": {},
   "outputs": [
    {
     "name": "stdout",
     "output_type": "stream",
     "text": [
      "N trangular number : {1, 3, 36, 6, 10, 45, 15, 21, 28}\n"
     ]
    }
   ],
   "source": [
    "# 47. Create a set of the first `n` triangular numbers.\n",
    "trangular=set()\n",
    "for ele in range(1,10):\n",
    "    trangular.add(int(ele*(ele+1)/2))\n",
    "print(\"N trangular number :\",trangular)"
   ]
  },
  {
   "cell_type": "code",
   "execution_count": 49,
   "id": "74ee9ee5-7e18-4aa0-a643-4574bd98c1b2",
   "metadata": {},
   "outputs": [
    {
     "name": "stdout",
     "output_type": "stream",
     "text": [
      "is Subset : True\n"
     ]
    }
   ],
   "source": [
    "# 48. Check if a set contains another set as a subset.\n",
    "my_set = {3, 7, 9, 12, 15}\n",
    "my_list = {3,7,9}\n",
    "print(\"is Subset :\",my_list.issubset(my_set));"
   ]
  },
  {
   "cell_type": "code",
   "execution_count": 52,
   "id": "9306e424-caaf-45a9-b795-138ec78fda7f",
   "metadata": {},
   "outputs": [
    {
     "name": "stdout",
     "output_type": "stream",
     "text": [
      "0's and 1's set are :  {0, 1}\n"
     ]
    }
   ],
   "source": [
    "# 49. Create a set of alternating 1s and 0s of length `n`.\n",
    "flag=True\n",
    "newSet=set()\n",
    "n=5\n",
    "while n>0:\n",
    "    if flag:\n",
    "        newSet.add(1)\n",
    "        flag=False;\n",
    "        n-=1;\n",
    "    else:\n",
    "        newSet.add(0)\n",
    "        flag=True;\n",
    "        n-=1;\n",
    "print(\"0's and 1's set are : \",newSet);"
   ]
  },
  {
   "cell_type": "code",
   "execution_count": 57,
   "id": "f1c16b98-f101-4be7-8a18-a7496f7e7a1f",
   "metadata": {},
   "outputs": [
    {
     "name": "stdout",
     "output_type": "stream",
     "text": [
      "Merged List is :  {1, 2, 3, 4, 5, 6, 7, 8, 9, 10, 11, 12, 13}\n"
     ]
    }
   ],
   "source": [
    "# 50. Merge multiple sets into one.\n",
    "set1={1,2,3,4,5}\n",
    "set2={6,7,8,9,10}\n",
    "set3={11,12,13,1,2,3}\n",
    "result=set1.union(set2).union(set3)\n",
    "print(\"Merged List is : \",result)"
   ]
  },
  {
   "cell_type": "code",
   "execution_count": null,
   "id": "418ddd5d-aaad-4052-b6f8-5f88b9b21499",
   "metadata": {},
   "outputs": [],
   "source": []
  }
 ],
 "metadata": {
  "kernelspec": {
   "display_name": "Python 3 (ipykernel)",
   "language": "python",
   "name": "python3"
  },
  "language_info": {
   "codemirror_mode": {
    "name": "ipython",
    "version": 3
   },
   "file_extension": ".py",
   "mimetype": "text/x-python",
   "name": "python",
   "nbconvert_exporter": "python",
   "pygments_lexer": "ipython3",
   "version": "3.10.8"
  }
 },
 "nbformat": 4,
 "nbformat_minor": 5
}
