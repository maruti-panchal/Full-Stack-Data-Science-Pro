{
 "cells": [
  {
   "cell_type": "markdown",
   "id": "cdffce84-05c0-4a34-8360-a5e207ca11dc",
   "metadata": {},
   "source": [
    "TOPIC: Python Basics Variable"
   ]
  },
  {
   "cell_type": "markdown",
   "id": "8c39d0de-6c1b-4223-8c95-e833bfa72159",
   "metadata": {},
   "source": [
    "1. Declare two variables, `x` and `y`, and assign them integer values. Swap the values of these variables without using any temporary variable."
   ]
  },
  {
   "cell_type": "code",
   "execution_count": 4,
   "id": "2aa07df9-ae77-4ff8-b750-8ff23a227f75",
   "metadata": {},
   "outputs": [
    {
     "name": "stdout",
     "output_type": "stream",
     "text": [
      "Before Swap 10 20\n",
      "After Swap 20 10\n"
     ]
    }
   ],
   "source": [
    "a=10\n",
    "b=20\n",
    "print(\"Before Swap\",a,b)\n",
    "a,b=b,a\n",
    "print(\"After Swap\",a,b)"
   ]
  },
  {
   "cell_type": "markdown",
   "id": "ad352dd9-18a0-462a-b3a8-e780c405707e",
   "metadata": {},
   "source": [
    "2. Create a program that calculates the area of a rectangle. Take the length and width as inputs from the user and store them in variables. Calculate and display the area."
   ]
  },
  {
   "cell_type": "code",
   "execution_count": 8,
   "id": "615ab460-9faf-45e1-8955-e4ec9f90d973",
   "metadata": {},
   "outputs": [
    {
     "name": "stdout",
     "output_type": "stream",
     "text": [
      "Enter length 20\n",
      "Enter Width 50\n"
     ]
    },
    {
     "name": "stdout",
     "output_type": "stream",
     "text": [
      "<class 'int'>\n",
      "Area of Rectangle is = 1000\n"
     ]
    }
   ],
   "source": [
    "length=int(input(\"Enter length\"))\n",
    "width=int(input(\"Enter Width\"))\n",
    "print(type(length))\n",
    "area_of_rectangle=length*width\n",
    "print(\"Area of Rectangle is =\",area_of_rectangle)"
   ]
  },
  {
   "cell_type": "raw",
   "id": "5aed8de8-157a-4bc3-bf47-4c79337a9760",
   "metadata": {},
   "source": [
    "3. Write a Python program that converts temperatures from Celsius to\n",
    "Fahrenheit. Take the temperature in Celsius as input, store it in a variable,\n",
    "convert it to Fahrenheit, and display the result."
   ]
  },
  {
   "cell_type": "code",
   "execution_count": 9,
   "id": "dbdb97b8-9d18-4fac-95be-9bd3cc6bd874",
   "metadata": {},
   "outputs": [
    {
     "name": "stdout",
     "output_type": "stream",
     "text": [
      "Enter Celsius 47\n"
     ]
    },
    {
     "name": "stdout",
     "output_type": "stream",
     "text": [
      "The converted temprature form Celsius to Fahrenheit is  116.60000000000001\n"
     ]
    }
   ],
   "source": [
    "celsius=int(input(\"Enter Celsius\"))\n",
    "fahrenheit = (celsius * 1.8) + 32\n",
    "print(\"The converted temprature form Celsius to Fahrenheit is \",fahrenheit)"
   ]
  },
  {
   "cell_type": "markdown",
   "id": "9e73ba60-861c-47b4-8a91-97e54783eff9",
   "metadata": {},
   "source": [
    "TOPIC: String Based Questions"
   ]
  },
  {
   "cell_type": "markdown",
   "id": "d9a064a7-2816-4404-a50c-94de62d16421",
   "metadata": {},
   "source": [
    "1. Write a Python program that takes a string as input and prints the length of the string."
   ]
  },
  {
   "cell_type": "code",
   "execution_count": 2,
   "id": "720e779e-fe6e-437f-ba26-6a4b235db54b",
   "metadata": {},
   "outputs": [
    {
     "name": "stdout",
     "output_type": "stream",
     "text": [
      "Enter a String Maruti\n"
     ]
    },
    {
     "name": "stdout",
     "output_type": "stream",
     "text": [
      "6\n"
     ]
    }
   ],
   "source": [
    "str=input(\"Enter a String\")\n",
    "strLength=len(str)\n",
    "print(strLength)\n",
    "\n"
   ]
  },
  {
   "cell_type": "markdown",
   "id": "5d36b591-c5b1-4b0c-89e2-55b36d870f70",
   "metadata": {},
   "source": [
    "2. Create a program that takes a sentence from the user and counts the number of vowels (a, e, i, o, u) in the string."
   ]
  },
  {
   "cell_type": "code",
   "execution_count": 24,
   "id": "d70952fc-b318-404b-91cc-141dd6c7dc70",
   "metadata": {},
   "outputs": [
    {
     "name": "stdout",
     "output_type": "stream",
     "text": [
      "Enter the Sentence:-  A One Stop Tech Solution where all your skills get sharpened and learn from the best tutors around the world that can easily boost your career.\n"
     ]
    },
    {
     "name": "stdout",
     "output_type": "stream",
     "text": [
      "Total Vowels Are :-  42\n"
     ]
    }
   ],
   "source": [
    "sentence=input(\"Enter the Sentence:-\")\n",
    "cnt=0\n",
    "for char in sentence:\n",
    "    if char=='a' or char=='e'or char=='i' or char=='o' or char=='u':\n",
    "        cnt=cnt+1\n",
    "print(\"Total Vowels Are :- \",cnt)\n",
    "    \n",
    "   \n"
   ]
  },
  {
   "cell_type": "markdown",
   "id": "32f53ef7-4e1b-454e-ad11-6e5844d540f2",
   "metadata": {},
   "source": [
    "3. Given a string, reverse the order of characters using string slicing and print the reversed string."
   ]
  },
  {
   "cell_type": "code",
   "execution_count": 25,
   "id": "3e639372-bdfd-4159-9cce-f03d6ad611b0",
   "metadata": {},
   "outputs": [
    {
     "name": "stdout",
     "output_type": "stream",
     "text": [
      "ijolleH\n"
     ]
    }
   ],
   "source": [
    "str=\"Helloji\"\n",
    "print(str[::-1])"
   ]
  },
  {
   "cell_type": "markdown",
   "id": "6e23ed52-c433-4e80-902d-5ef545d1087a",
   "metadata": {},
   "source": [
    "4. Write a program that takes a string as input and checks if it is a palindrome (reads the same forwards and backwards)."
   ]
  },
  {
   "cell_type": "code",
   "execution_count": 28,
   "id": "c21143bd-c4d7-4a32-83f5-e84db62c8f6e",
   "metadata": {},
   "outputs": [
    {
     "name": "stdout",
     "output_type": "stream",
     "text": [
      "Enter a string:  wow\n"
     ]
    },
    {
     "name": "stdout",
     "output_type": "stream",
     "text": [
      "The entered string is a palindrome.\n"
     ]
    }
   ],
   "source": [
    "user_string = input(\"Enter a string: \")\n",
    "modified_string = user_string.replace(\" \", \"\").lower()\n",
    "if modified_string == modified_string[::-1]:\n",
    "    print(\"The entered string is a palindrome.\")\n",
    "else:\n",
    "    print(\"The entered string is not a palindrome.\")\n"
   ]
  },
  {
   "cell_type": "markdown",
   "id": "53188ce8-28ba-4ce7-aea3-122bead9364d",
   "metadata": {},
   "source": [
    "5. Create a program that takes a string as input and removes all the spaces from it. Print the modified string without spaces."
   ]
  },
  {
   "cell_type": "code",
   "execution_count": 29,
   "id": "f85132b9-5a3a-470b-866e-ca4f91aa8f3e",
   "metadata": {},
   "outputs": [
    {
     "name": "stdout",
     "output_type": "stream",
     "text": [
      "Enter a string with spaces:  Create a program that takes a string\n"
     ]
    },
    {
     "name": "stdout",
     "output_type": "stream",
     "text": [
      "Modified String without Spaces: Createaprogramthattakesastring\n"
     ]
    }
   ],
   "source": [
    "user_string_with_spaces = input(\"Enter a string with spaces: \")\n",
    "string_without_spaces = user_string_with_spaces.replace(\" \", \"\")\n",
    "print(\"Modified String without Spaces:\", string_without_spaces)\n"
   ]
  },
  {
   "cell_type": "code",
   "execution_count": null,
   "id": "633a5087-17d1-497c-9aef-a689096ee7cc",
   "metadata": {},
   "outputs": [],
   "source": []
  }
 ],
 "metadata": {
  "kernelspec": {
   "display_name": "Python 3 (ipykernel)",
   "language": "python",
   "name": "python3"
  },
  "language_info": {
   "codemirror_mode": {
    "name": "ipython",
    "version": 3
   },
   "file_extension": ".py",
   "mimetype": "text/x-python",
   "name": "python",
   "nbconvert_exporter": "python",
   "pygments_lexer": "ipython3",
   "version": "3.10.13"
  },
  "toc-autonumbering": true,
  "toc-showmarkdowntxt": true
 },
 "nbformat": 4,
 "nbformat_minor": 5
}
