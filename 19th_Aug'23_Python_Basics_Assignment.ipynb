{
 "cells": [
  {
   "cell_type": "markdown",
   "id": "cdffce84-05c0-4a34-8360-a5e207ca11dc",
   "metadata": {},
   "source": [
    "TOPIC: Python Basics Variable"
   ]
  },
  {
   "cell_type": "raw",
   "id": "6cfc455f-427c-449c-bf59-73c4cefaffa6",
   "metadata": {},
   "source": [
    "1. Declare two variables, `x` and `y`, and assign them integer values. Swap the\n",
    "values of these variables without using any temporary variable."
   ]
  },
  {
   "cell_type": "code",
   "execution_count": 4,
   "id": "2aa07df9-ae77-4ff8-b750-8ff23a227f75",
   "metadata": {},
   "outputs": [
    {
     "name": "stdout",
     "output_type": "stream",
     "text": [
      "Before Swap 10 20\n",
      "After Swap 20 10\n"
     ]
    }
   ],
   "source": [
    "a=10\n",
    "b=20\n",
    "print(\"Before Swap\",a,b)\n",
    "a,b=b,a\n",
    "print(\"After Swap\",a,b)"
   ]
  },
  {
   "cell_type": "raw",
   "id": "7a912966-86c6-4f5f-b37e-d49b539070ba",
   "metadata": {},
   "source": [
    "2. Create a program that calculates the area of a rectangle. Take the length and\n",
    "width as inputs from the user and store them in variables. Calculate and\n",
    "display the area."
   ]
  },
  {
   "cell_type": "code",
   "execution_count": 8,
   "id": "615ab460-9faf-45e1-8955-e4ec9f90d973",
   "metadata": {},
   "outputs": [
    {
     "name": "stdin",
     "output_type": "stream",
     "text": [
      "Enter length 20\n",
      "Enter Width 50\n"
     ]
    },
    {
     "name": "stdout",
     "output_type": "stream",
     "text": [
      "<class 'int'>\n",
      "Area of Rectangle is = 1000\n"
     ]
    }
   ],
   "source": [
    "length=int(input(\"Enter length\"))\n",
    "width=int(input(\"Enter Width\"))\n",
    "print(type(length))\n",
    "area_of_rectangle=length*width\n",
    "print(\"Area of Rectangle is =\",area_of_rectangle)"
   ]
  },
  {
   "cell_type": "raw",
   "id": "5aed8de8-157a-4bc3-bf47-4c79337a9760",
   "metadata": {},
   "source": [
    "3. Write a Python program that converts temperatures from Celsius to\n",
    "Fahrenheit. Take the temperature in Celsius as input, store it in a variable,\n",
    "convert it to Fahrenheit, and display the result."
   ]
  },
  {
   "cell_type": "code",
   "execution_count": 9,
   "id": "dbdb97b8-9d18-4fac-95be-9bd3cc6bd874",
   "metadata": {},
   "outputs": [
    {
     "name": "stdin",
     "output_type": "stream",
     "text": [
      "Enter Celsius 47\n"
     ]
    },
    {
     "name": "stdout",
     "output_type": "stream",
     "text": [
      "The converted temprature form Celsius to Fahrenheit is  116.60000000000001\n"
     ]
    }
   ],
   "source": [
    "celsius=int(input(\"Enter Celsius\"))\n",
    "fahrenheit = (celsius * 1.8) + 32\n",
    "print(\"The converted temprature form Celsius to Fahrenheit is \",fahrenheit)"
   ]
  },
  {
   "cell_type": "markdown",
   "id": "9e73ba60-861c-47b4-8a91-97e54783eff9",
   "metadata": {},
   "source": [
    "TOPIC: String Based Questions"
   ]
  }
 ],
 "metadata": {
  "kernelspec": {
   "display_name": "Python 3 (ipykernel)",
   "language": "python",
   "name": "python3"
  },
  "language_info": {
   "codemirror_mode": {
    "name": "ipython",
    "version": 3
   },
   "file_extension": ".py",
   "mimetype": "text/x-python",
   "name": "python",
   "nbconvert_exporter": "python",
   "pygments_lexer": "ipython3",
   "version": "3.10.8"
  },
  "toc-autonumbering": true,
  "toc-showmarkdowntxt": true
 },
 "nbformat": 4,
 "nbformat_minor": 5
}
