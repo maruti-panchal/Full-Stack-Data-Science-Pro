{
 "cells": [
  {
   "cell_type": "markdown",
   "id": "fa25551b-e3a1-41ab-bec7-6144c5ddeab7",
   "metadata": {},
   "source": [
    "### Basic If-Else Statements:\n"
   ]
  },
  {
   "cell_type": "code",
   "execution_count": 2,
   "id": "2d8f3653-c8c2-45b6-8969-5d7e78064727",
   "metadata": {},
   "outputs": [
    {
     "name": "stdin",
     "output_type": "stream",
     "text": [
      "Enter a number:  19\n"
     ]
    },
    {
     "name": "stdout",
     "output_type": "stream",
     "text": [
      "Positive number\n"
     ]
    }
   ],
   "source": [
    "# 1. Check if a given number is positive or negative:\n",
    "num = float(input(\"Enter a number: \"))\n",
    "if num > 0:\n",
    "    print(\"Positive number\")\n",
    "elif num == 0:\n",
    "    print(\"Zero\")\n",
    "else:\n",
    "    print(\"Negative number\")"
   ]
  },
  {
   "cell_type": "code",
   "execution_count": 3,
   "id": "7171a9bd-fee0-40cd-899e-3a21953c8019",
   "metadata": {},
   "outputs": [
    {
     "name": "stdin",
     "output_type": "stream",
     "text": [
      "Enter your age:  56\n"
     ]
    },
    {
     "name": "stdout",
     "output_type": "stream",
     "text": [
      "You are eligible to vote.\n"
     ]
    }
   ],
   "source": [
    "# 2. Determine if a person is eligible to vote based on their age:\n",
    "age = int(input(\"Enter your age: \"))\n",
    "if age >= 18:\n",
    "    print(\"You are eligible to vote.\")\n",
    "else:\n",
    "    print(\"You are not eligible to vote yet.\")"
   ]
  },
  {
   "cell_type": "code",
   "execution_count": 4,
   "id": "11f90874-6df8-43b3-84f8-b8111232f9b6",
   "metadata": {},
   "outputs": [
    {
     "name": "stdin",
     "output_type": "stream",
     "text": [
      "Enter first number:  34\n",
      "Enter second number:  12\n"
     ]
    },
    {
     "name": "stdout",
     "output_type": "stream",
     "text": [
      "Maximum is: 34.0\n"
     ]
    }
   ],
   "source": [
    "# 3. Find the maximum of two numbers using if-else statements:\n",
    "num1 = float(input(\"Enter first number: \"))\n",
    "num2 = float(input(\"Enter second number: \"))\n",
    "if num1 > num2:\n",
    "    print(\"Maximum is:\", num1)\n",
    "else:\n",
    "    print(\"Maximum is:\", num2)"
   ]
  },
  {
   "cell_type": "code",
   "execution_count": 5,
   "id": "d2ad9da5-6a1e-480e-94f4-47df78910173",
   "metadata": {},
   "outputs": [
    {
     "name": "stdin",
     "output_type": "stream",
     "text": [
      "Enter a year:  2001\n"
     ]
    },
    {
     "name": "stdout",
     "output_type": "stream",
     "text": [
      "2001 is not a leap year\n"
     ]
    }
   ],
   "source": [
    "# 4. Classify a given year as a leap year or not:\n",
    "year = int(input(\"Enter a year: \"))\n",
    "if (year % 4 == 0 and year % 100 != 0) or (year % 400 == 0):\n",
    "    print(year, \"is a leap year\")\n",
    "else:\n",
    "    print(year, \"is not a leap year\")"
   ]
  },
  {
   "cell_type": "code",
   "execution_count": 7,
   "id": "1fdc78b0-b49f-42ea-bd71-dff43d0d84d1",
   "metadata": {},
   "outputs": [
    {
     "name": "stdin",
     "output_type": "stream",
     "text": [
      "Enter a character:  a\n"
     ]
    },
    {
     "name": "stdout",
     "output_type": "stream",
     "text": [
      "a is a vowel.\n"
     ]
    }
   ],
   "source": [
    "# 5. Check whether a character is a vowel or a consonant:\n",
    "char = input(\"Enter a character: \")\n",
    "if char.lower() in ['a', 'e', 'i', 'o', 'u']:\n",
    "    print(char, \"is a vowel.\")\n",
    "else:\n",
    "    print(char, \"is a consonant.\")\n"
   ]
  },
  {
   "cell_type": "code",
   "execution_count": 8,
   "id": "01eeefd4-ebfb-410a-a730-7b2a200d8ab2",
   "metadata": {},
   "outputs": [
    {
     "name": "stdin",
     "output_type": "stream",
     "text": [
      "Enter a number:  3\n"
     ]
    },
    {
     "name": "stdout",
     "output_type": "stream",
     "text": [
      "3 is odd.\n"
     ]
    }
   ],
   "source": [
    "# 6. Determine whether a given number is even or odd:\n",
    "num = int(input(\"Enter a number: \"))\n",
    "if num % 2 == 0:\n",
    "    print(num, \"is even.\")\n",
    "else:\n",
    "    print(num, \"is odd.\")"
   ]
  },
  {
   "cell_type": "code",
   "execution_count": 9,
   "id": "07b6764c-e8ff-4297-9b36-5c9a788e2657",
   "metadata": {},
   "outputs": [
    {
     "name": "stdin",
     "output_type": "stream",
     "text": [
      "Enter a number:  -8\n"
     ]
    },
    {
     "name": "stdout",
     "output_type": "stream",
     "text": [
      "Absolute value: 8.0\n"
     ]
    }
   ],
   "source": [
    "# 7. Calculate the absolute value of a number without using the `abs()` function:\n",
    "num = float(input(\"Enter a number: \"))\n",
    "if num < 0:\n",
    "    print(\"Absolute value:\", -num)\n",
    "else:\n",
    "    print(\"Absolute value:\", num)"
   ]
  },
  {
   "cell_type": "code",
   "execution_count": 11,
   "id": "f5d41be5-729f-4128-ab81-b3e0bb0e5caf",
   "metadata": {},
   "outputs": [
    {
     "name": "stdin",
     "output_type": "stream",
     "text": [
      "Enter first number:  12\n",
      "Enter second number:  234\n",
      "Enter third number:  11111\n"
     ]
    },
    {
     "name": "stdout",
     "output_type": "stream",
     "text": [
      "Largest number is: 11111.0\n"
     ]
    }
   ],
   "source": [
    "# 8. Determine the largest of three given numbers using if-else statements:\n",
    "num1 = float(input(\"Enter first number: \"))\n",
    "num2 = float(input(\"Enter second number: \"))\n",
    "num3 = float(input(\"Enter third number: \"))\n",
    "if num1 >= num2 and num1 >= num3:\n",
    "    print(\"Largest number is:\", num1)\n",
    "elif num2 >= num1 and num2 >= num3:\n",
    "    print(\"Largest number is:\", num2)\n",
    "else:\n",
    "    print(\"Largest number is:\", num3)"
   ]
  },
  {
   "cell_type": "code",
   "execution_count": 12,
   "id": "ea9ea60c-8b59-4e26-b212-037d54675a46",
   "metadata": {},
   "outputs": [
    {
     "name": "stdin",
     "output_type": "stream",
     "text": [
      "Enter a string:  121\n"
     ]
    },
    {
     "name": "stdout",
     "output_type": "stream",
     "text": [
      "Palindrome\n"
     ]
    }
   ],
   "source": [
    "# 9. Check if a given string is a palindrome:\n",
    "string = input(\"Enter a string: \")\n",
    "if string == string[::-1]:\n",
    "    print(\"Palindrome\")\n",
    "else:\n",
    "    print(\"Not a palindrome\")"
   ]
  },
  {
   "cell_type": "code",
   "execution_count": 13,
   "id": "a7fd15df-44ab-4079-9141-2b7777a325d6",
   "metadata": {},
   "outputs": [
    {
     "name": "stdin",
     "output_type": "stream",
     "text": [
      "Enter the student's score:  80\n"
     ]
    },
    {
     "name": "stdout",
     "output_type": "stream",
     "text": [
      "Grade: B\n"
     ]
    }
   ],
   "source": [
    "# 10. Calculate the grade based on a student's score:\n",
    "score = float(input(\"Enter the student's score: \"))\n",
    "if score >= 90:\n",
    "    print(\"Grade: A\")\n",
    "elif score >= 80:\n",
    "    print(\"Grade: B\")\n",
    "elif score >= 70:\n",
    "    print(\"Grade: C\")\n",
    "elif score >= 60:\n",
    "    print(\"Grade: D\")\n",
    "else:\n",
    "    print(\"Grade: F\")"
   ]
  },
  {
   "cell_type": "markdown",
   "id": "733434a1-c846-44fd-93cb-3191739bc11b",
   "metadata": {},
   "source": [
    "### Nested If-Else Statements:\n"
   ]
  },
  {
   "cell_type": "code",
   "execution_count": 14,
   "id": "a049e318-efa0-4c2c-96a4-af86705b1977",
   "metadata": {},
   "outputs": [
    {
     "name": "stdin",
     "output_type": "stream",
     "text": [
      "Enter first number:  34\n",
      "Enter second number:  12\n",
      "Enter third number:  45\n"
     ]
    },
    {
     "name": "stdout",
     "output_type": "stream",
     "text": [
      "Largest number is: 45.0\n"
     ]
    }
   ],
   "source": [
    "# 11. Find the largest among three numbers using nested if-else statements:\n",
    "num1 = float(input(\"Enter first number: \"))\n",
    "num2 = float(input(\"Enter second number: \"))\n",
    "num3 = float(input(\"Enter third number: \"))\n",
    "if num1 >= num2:\n",
    "    if num1 >= num3:\n",
    "        print(\"Largest number is:\", num1)\n",
    "    else:\n",
    "        print(\"Largest number is:\", num3)\n",
    "else:\n",
    "    if num2 >= num3:\n",
    "        print(\"Largest number is:\", num2)\n",
    "    else:\n",
    "        print(\"Largest number is:\", num3)"
   ]
  },
  {
   "cell_type": "code",
   "execution_count": 15,
   "id": "ecb326a2-f9f6-4b70-aa90-dad12a59b7d5",
   "metadata": {},
   "outputs": [
    {
     "name": "stdin",
     "output_type": "stream",
     "text": [
      "Enter length of side 1:  12\n",
      "Enter length of side 2:  12\n",
      "Enter length of side 3:  12\n"
     ]
    },
    {
     "name": "stdout",
     "output_type": "stream",
     "text": [
      "Equilateral triangle\n"
     ]
    }
   ],
   "source": [
    "# 12. Determine if a triangle is equilateral, isosceles, or scalene:\n",
    "side1 = float(input(\"Enter length of side 1: \"))\n",
    "side2 = float(input(\"Enter length of side 2: \"))\n",
    "side3 = float(input(\"Enter length of side 3: \"))\n",
    "if side1 == side2 == side3:\n",
    "    print(\"Equilateral triangle\")\n",
    "elif side1 == side2 or side1 == side3 or side2 == side3:\n",
    "    print(\"Isosceles triangle\")\n",
    "else:\n",
    "    print(\"Scalene triangle\")"
   ]
  },
  {
   "cell_type": "code",
   "execution_count": 16,
   "id": "28623b9d-5122-45bd-a22b-a421889c7f04",
   "metadata": {},
   "outputs": [
    {
     "name": "stdin",
     "output_type": "stream",
     "text": [
      "Enter a year:  1999\n"
     ]
    },
    {
     "name": "stdout",
     "output_type": "stream",
     "text": [
      "1999 is neither a leap year nor a century year\n"
     ]
    }
   ],
   "source": [
    "# 13. Check if a year is a leap year and also if it is a century year:\n",
    "year = int(input(\"Enter a year: \"))\n",
    "if year % 4 == 0:\n",
    "    if year % 100 == 0:\n",
    "        if year % 400 == 0:\n",
    "            print(year, \"is a leap year and a century year\")\n",
    "        else:\n",
    "            print(year, \"is a century year but not a leap year\")\n",
    "    else:\n",
    "        print(year, \"is a leap year and not a century year\")\n",
    "else:\n",
    "    print(year, \"is neither a leap year nor a century year\")"
   ]
  },
  {
   "cell_type": "code",
   "execution_count": 17,
   "id": "77cbbe7d-fbee-4f81-9150-6eb7bcdc8f59",
   "metadata": {},
   "outputs": [
    {
     "name": "stdin",
     "output_type": "stream",
     "text": [
      "Enter a number:  90\n"
     ]
    },
    {
     "name": "stdout",
     "output_type": "stream",
     "text": [
      "Positive number\n"
     ]
    }
   ],
   "source": [
    "# 14. Determine if a number is positive, negative, or zero:\n",
    "num = float(input(\"Enter a number: \"))\n",
    "if num > 0:\n",
    "    print(\"Positive number\")\n",
    "elif num == 0:\n",
    "    print(\"Zero\")\n",
    "else:\n",
    "    print(\"Negative number\")"
   ]
  },
  {
   "cell_type": "code",
   "execution_count": 18,
   "id": "bfd5ad01-f63b-49ec-9e16-e4e3f6f107f1",
   "metadata": {},
   "outputs": [
    {
     "name": "stdin",
     "output_type": "stream",
     "text": [
      "Enter your age:  18\n"
     ]
    },
    {
     "name": "stdout",
     "output_type": "stream",
     "text": [
      "You are a teenager.\n"
     ]
    }
   ],
   "source": [
    "# 15. Check if a person is a teenager (between 13 and 19 years old):\n",
    "age = int(input(\"Enter your age: \"))\n",
    "if 13 <= age <= 19:\n",
    "    print(\"You are a teenager.\")\n",
    "else:\n",
    "    print(\"You are not a teenager.\")"
   ]
  },
  {
   "cell_type": "code",
   "execution_count": 19,
   "id": "bdfcb7ca-e6a1-468b-b9e7-6b33ec0321a2",
   "metadata": {},
   "outputs": [
    {
     "name": "stdin",
     "output_type": "stream",
     "text": [
      "Enter the angle measure in degrees:  45\n"
     ]
    },
    {
     "name": "stdout",
     "output_type": "stream",
     "text": [
      "Acute angle\n"
     ]
    }
   ],
   "source": [
    "# 16. Determine the type of angle based on its measure (acute, obtuse, or right):\n",
    "angle = float(input(\"Enter the angle measure in degrees: \"))\n",
    "if angle < 90:\n",
    "    print(\"Acute angle\")\n",
    "elif angle == 90:\n",
    "    print(\"Right angle\")\n",
    "else:\n",
    "    print(\"Obtuse angle\")"
   ]
  },
  {
   "cell_type": "code",
   "execution_count": 20,
   "id": "5f6d5a83-b64c-4566-9d06-33a5fcba677d",
   "metadata": {},
   "outputs": [
    {
     "name": "stdin",
     "output_type": "stream",
     "text": [
      "Enter coefficient a:  2\n",
      "Enter coefficient b:  2\n",
      "Enter coefficient c:  2\n"
     ]
    },
    {
     "name": "stdout",
     "output_type": "stream",
     "text": [
      "Roots are complex: -0.5 + 0.8660254037844386 i and -0.5 - 0.8660254037844386 i\n"
     ]
    }
   ],
   "source": [
    "# 17. Calculate the roots of a quadratic equation:\n",
    "import math\n",
    "a = float(input(\"Enter coefficient a: \"))\n",
    "b = float(input(\"Enter coefficient b: \"))\n",
    "c = float(input(\"Enter coefficient c: \"))\n",
    "discriminant = b**2 - 4*a*c\n",
    "if discriminant > 0:\n",
    "    root1 = (-b + math.sqrt(discriminant)) / (2*a)\n",
    "    root2 = (-b - math.sqrt(discriminant)) / (2*a)\n",
    "    print(\"Roots are real and distinct:\", root1, \"and\", root2)\n",
    "elif discriminant == 0:\n",
    "    root = -b / (2*a)\n",
    "    print(\"Roots are real and equal:\", root)\n",
    "else:\n",
    "    real_part = -b / (2*a)\n",
    "    imaginary_part = math.sqrt(abs(discriminant)) / (2*a)\n",
    "    print(\"Roots are complex:\", real_part, \"+\", imaginary_part, \"i and\", real_part, \"-\", imaginary_part, \"i\")"
   ]
  },
  {
   "cell_type": "code",
   "execution_count": 21,
   "id": "d76a9ff2-a13f-465d-a282-a4d17af143b6",
   "metadata": {},
   "outputs": [
    {
     "name": "stdin",
     "output_type": "stream",
     "text": [
      "Enter the day number (1 for Monday, 2 for Tuesday, etc.):  2\n"
     ]
    },
    {
     "name": "stdout",
     "output_type": "stream",
     "text": [
      "Tuesday\n"
     ]
    }
   ],
   "source": [
    "# 18. Determine the day of the week based on a user-provided number (1 for Monday, 2 for Tuesday, etc.):\n",
    "day_number = int(input(\"Enter the day number (1 for Monday, 2 for Tuesday, etc.): \"))\n",
    "if day_number == 1:\n",
    "    print(\"Monday\")\n",
    "elif day_number == 2:\n",
    "    print(\"Tuesday\")\n",
    "elif day_number == 3:\n",
    "    print(\"Wednesday\")\n",
    "elif day_number == 4:\n",
    "    print(\"Thursday\")\n",
    "elif day_number == 5:\n",
    "    print(\"Friday\")\n",
    "elif day_number == 6:\n",
    "    print(\"Saturday\")\n",
    "elif day_number == 7:\n",
    "    print(\"Sunday\")\n",
    "else:\n",
    "    print(\"Invalid input\")"
   ]
  },
  {
   "cell_type": "code",
   "execution_count": 22,
   "id": "8646c7e3-0af1-4932-80bd-128f23711bb2",
   "metadata": {},
   "outputs": [
    {
     "name": "stdin",
     "output_type": "stream",
     "text": [
      "Enter a year:  2000\n"
     ]
    },
    {
     "name": "stdout",
     "output_type": "stream",
     "text": [
      "2000 is a leap year and evenly divisible by 400\n"
     ]
    }
   ],
   "source": [
    "# 19. Check if a year is a leap year and also if it is evenly divisible by 400:\n",
    "year = int(input(\"Enter a year: \"))\n",
    "if year % 4 == 0:\n",
    "    if year % 100 == 0:\n",
    "        if year % 400 == 0:\n",
    "            print(year, \"is a leap year and evenly divisible by 400\")\n",
    "        else:\n",
    "            print(year, \"is not evenly divisible by 400 but still a leap year\")\n",
    "    else:\n",
    "        print(year, \"is a leap year but not a century year\")\n",
    "else:\n",
    "    print(year, \"is not a leap year\")"
   ]
  },
  {
   "cell_type": "code",
   "execution_count": 23,
   "id": "5f1e3c24-3e5b-4ada-983c-62be93020262",
   "metadata": {},
   "outputs": [
    {
     "name": "stdin",
     "output_type": "stream",
     "text": [
      "Enter a number:  11\n"
     ]
    },
    {
     "name": "stdout",
     "output_type": "stream",
     "text": [
      "11 is a prime number\n"
     ]
    }
   ],
   "source": [
    "# 20. Check if a given number is prime or not using nested if-else statements:\n",
    "num = int(input(\"Enter a number: \"))\n",
    "if num > 1:\n",
    "    for i in range(2, int(num/2) + 1):\n",
    "        if (num % i) == 0:\n",
    "            print(num, \"is not a prime number\")\n",
    "            break\n",
    "    else:\n",
    "        print(num, \"is a prime number\")\n",
    "else:\n",
    "    print(num, \"is not a prime number\")"
   ]
  },
  {
   "cell_type": "markdown",
   "id": "a5b1e68d-0771-475b-9833-2bd4175b666e",
   "metadata": {},
   "source": [
    "### Elif Statements:"
   ]
  },
  {
   "cell_type": "code",
   "execution_count": 24,
   "id": "301754f0-71b1-43e8-954a-7d1f2f500ab4",
   "metadata": {},
   "outputs": [
    {
     "name": "stdin",
     "output_type": "stream",
     "text": [
      "Enter the student's score:  89\n"
     ]
    },
    {
     "name": "stdout",
     "output_type": "stream",
     "text": [
      "Grade: B\n"
     ]
    }
   ],
   "source": [
    "# 21. Assign grades based on different ranges of scores using elif statements:\n",
    "score = float(input(\"Enter the student's score: \"))\n",
    "if score >= 90:\n",
    "    print(\"Grade: A\")\n",
    "elif score >= 80:\n",
    "    print(\"Grade: B\")\n",
    "elif score >= 70:\n",
    "    print(\"Grade: C\")\n",
    "elif score >= 60:\n",
    "    print(\"Grade: D\")\n",
    "else:\n",
    "    print(\"Grade: F\")"
   ]
  },
  {
   "cell_type": "code",
   "execution_count": 3,
   "id": "5389a0dd-2de7-4229-a621-1b28f065921b",
   "metadata": {},
   "outputs": [
    {
     "name": "stdin",
     "output_type": "stream",
     "text": [
      "Enter angle 1:  60\n",
      "Enter angle 2:  45\n",
      "Enter angle 3:  90\n"
     ]
    },
    {
     "name": "stdout",
     "output_type": "stream",
     "text": [
      "Invalid triangle\n"
     ]
    }
   ],
   "source": [
    "# 22. Determine the type of a triangle based on its angles:\n",
    "angle1 = int(input(\"Enter angle 1: \"))\n",
    "angle2 = int(input(\"Enter angle 2: \"))\n",
    "angle3 = int(input(\"Enter angle 3: \"))\n",
    "if angle1 + angle2 + angle3 == 180:\n",
    "    if angle1 == angle2 == angle3:\n",
    "        print(\"Equilateral triangle\")\n",
    "    elif angle1 == angle2 or angle1 == angle3 or angle2 == angle3:\n",
    "        print(\"Isosceles triangle\")\n",
    "    else:\n",
    "        print(\"Scalene triangle\")\n",
    "else:\n",
    "    print(\"Invalid triangle\")"
   ]
  },
  {
   "cell_type": "code",
   "execution_count": 4,
   "id": "307dd8a2-9859-4b7d-aaa0-0f7c2d868f10",
   "metadata": {},
   "outputs": [
    {
     "name": "stdin",
     "output_type": "stream",
     "text": [
      "Enter weight in kilograms:  34\n",
      "Enter height in meters:  10\n"
     ]
    },
    {
     "name": "stdout",
     "output_type": "stream",
     "text": [
      "BMI: 0.34\n",
      "Underweight\n"
     ]
    }
   ],
   "source": [
    "# 23. Categorize a given person's BMI into underweight, normal, overweight, or obese:\n",
    "weight = float(input(\"Enter weight in kilograms: \"))\n",
    "height = float(input(\"Enter height in meters: \"))\n",
    "bmi = weight / (height ** 2)\n",
    "print(\"BMI:\", bmi)\n",
    "if bmi < 18.5:\n",
    "    print(\"Underweight\")\n",
    "elif 18.5 <= bmi < 25:\n",
    "    print(\"Normal\")\n",
    "elif 25 <= bmi < 30:\n",
    "    print(\"Overweight\")\n",
    "else:\n",
    "    print(\"Obese\")"
   ]
  },
  {
   "cell_type": "code",
   "execution_count": 5,
   "id": "392feb67-28de-4f5c-a9c4-54f0bee762ea",
   "metadata": {},
   "outputs": [
    {
     "name": "stdin",
     "output_type": "stream",
     "text": [
      "Enter a number:  0\n"
     ]
    },
    {
     "name": "stdout",
     "output_type": "stream",
     "text": [
      "Zero\n"
     ]
    }
   ],
   "source": [
    "# 24. Determine whether a given number is positive, negative, or zero using elif statements:\n",
    "num = float(input(\"Enter a number: \"))\n",
    "if num > 0:\n",
    "    print(\"Positive number\")\n",
    "elif num == 0:\n",
    "    print(\"Zero\")\n",
    "else:\n",
    "    print(\"Negative number\")"
   ]
  },
  {
   "cell_type": "code",
   "execution_count": 6,
   "id": "ab1a9618-b64a-411d-ac25-8780499c4532",
   "metadata": {},
   "outputs": [
    {
     "name": "stdin",
     "output_type": "stream",
     "text": [
      "Enter a character:  i\n"
     ]
    },
    {
     "name": "stdout",
     "output_type": "stream",
     "text": [
      "Lowercase character\n"
     ]
    }
   ],
   "source": [
    "# 25. Determine the type of a character (uppercase, lowercase, or special):\n",
    "char = input(\"Enter a character: \")\n",
    "if char.isupper():\n",
    "    print(\"Uppercase character\")\n",
    "elif char.islower():\n",
    "    print(\"Lowercase character\")\n",
    "else:\n",
    "    print(\"Special character\")"
   ]
  },
  {
   "cell_type": "code",
   "execution_count": 7,
   "id": "28bb84f8-6ae0-487d-8dd9-500c723f6775",
   "metadata": {},
   "outputs": [
    {
     "name": "stdin",
     "output_type": "stream",
     "text": [
      "Enter purchase amount:  300\n"
     ]
    },
    {
     "name": "stdout",
     "output_type": "stream",
     "text": [
      "Discounted price: 300.0\n"
     ]
    }
   ],
   "source": [
    "# 26. Calculate the discounted price based on different purchase amounts using elif statements:\n",
    "purchase_amount = float(input(\"Enter purchase amount: \"))\n",
    "if purchase_amount > 1000:\n",
    "    discount = 0.1 * purchase_amount\n",
    "elif purchase_amount > 500:\n",
    "    discount = 0.05 * purchase_amount\n",
    "else:\n",
    "    discount = 0\n",
    "final_amount = purchase_amount - discount\n",
    "print(\"Discounted price:\", final_amount)"
   ]
  },
  {
   "cell_type": "code",
   "execution_count": 8,
   "id": "3b97c0a1-0899-4417-8648-21b4b27cc347",
   "metadata": {},
   "outputs": [
    {
     "name": "stdin",
     "output_type": "stream",
     "text": [
      "Enter units consumed:  300\n"
     ]
    },
    {
     "name": "stdout",
     "output_type": "stream",
     "text": [
      "Electricity bill: 1350\n"
     ]
    }
   ],
   "source": [
    "# 27. Calculate the electricity bill based on different consumption slabs using elif statements:\n",
    "units = int(input(\"Enter units consumed: \"))\n",
    "if units <= 50:\n",
    "    bill = units * 3\n",
    "elif units <= 150:\n",
    "    bill = 50 * 3 + (units - 50) * 4\n",
    "elif units <= 250:\n",
    "    bill = 50 * 3 + 100 * 4 + (units - 150) * 5\n",
    "else:\n",
    "    bill = 50 * 3 + 100 * 4 + 100 * 5 + (units - 250) * 6\n",
    "print(\"Electricity bill:\", bill)"
   ]
  },
  {
   "cell_type": "code",
   "execution_count": 1,
   "id": "054177cf-6f4b-497b-8395-0da453276da2",
   "metadata": {},
   "outputs": [
    {
     "name": "stdin",
     "output_type": "stream",
     "text": [
      "Enter angle 1:  45\n",
      "Enter angle 2:  45\n",
      "Enter angle 3:  45\n",
      "Enter angle 4:  45\n"
     ]
    },
    {
     "name": "stdout",
     "output_type": "stream",
     "text": [
      "Rhombus\n"
     ]
    }
   ],
   "source": [
    "# 28. Determine the type of quadrilateral based on its angles and sides using elif statements:\n",
    "angle1 = int(input(\"Enter angle 1: \"))\n",
    "angle2 = int(input(\"Enter angle 2: \"))\n",
    "angle3 = int(input(\"Enter angle 3: \"))\n",
    "angle4 = int(input(\"Enter angle 4: \"))\n",
    "if angle1 == angle2 == angle3 == angle4 == 90:\n",
    "    print(\"Rectangle\")\n",
    "elif angle1 == angle2 == angle3 == angle4:\n",
    "    print(\"Rhombus\")\n",
    "else:\n",
    "    print(\"Quadrilateral\")"
   ]
  },
  {
   "cell_type": "code",
   "execution_count": 2,
   "id": "ddb31427-9ef7-43a5-a138-e4397f53077d",
   "metadata": {},
   "outputs": [
    {
     "name": "stdin",
     "output_type": "stream",
     "text": [
      "Enter month (1-12):  5\n"
     ]
    },
    {
     "name": "stdout",
     "output_type": "stream",
     "text": [
      "Spring\n"
     ]
    }
   ],
   "source": [
    "# 29. Determine the season based on a user-provided month using elif statements:\n",
    "month = int(input(\"Enter month (1-12): \"))\n",
    "if month in [12, 1, 2]:\n",
    "    print(\"Winter\")\n",
    "elif month in [3, 4, 5]:\n",
    "    print(\"Spring\")\n",
    "elif month in [6, 7, 8]:\n",
    "    print(\"Summer\")\n",
    "elif month in [9, 10, 11]:\n",
    "    print(\"Autumn\")"
   ]
  },
  {
   "cell_type": "code",
   "execution_count": 3,
   "id": "4c8817fc-5c81-4dd6-a113-6b603356fa06",
   "metadata": {},
   "outputs": [
    {
     "name": "stdin",
     "output_type": "stream",
     "text": [
      "Enter year:  1884\n",
      "Enter month (1-12):  5\n"
     ]
    },
    {
     "name": "stdout",
     "output_type": "stream",
     "text": [
      "Leap year\n",
      "31 days\n"
     ]
    }
   ],
   "source": [
    "# 30. Determine the type of a year (leap or common) and month (30 or 31 days) using elif statements:\n",
    "year = int(input(\"Enter year: \"))\n",
    "month = int(input(\"Enter month (1-12): \"))\n",
    "if (year % 4 == 0 and year % 100 != 0) or (year % 400 == 0):\n",
    "    print(\"Leap year\")\n",
    "else:\n",
    "    print(\"Common year\")\n",
    "if month in [1, 3, 5, 7, 8, 10, 12]:\n",
    "    print(\"31 days\")\n",
    "elif month in [4, 6, 9, 11]:\n",
    "    print(\"30 days\")\n",
    "elif month == 2:\n",
    "    if (year % 4 == 0 and year % 100 != 0) or (year % 400 == 0):\n",
    "        print(\"29 days\")\n",
    "    else:\n",
    "        print(\"28 days\")"
   ]
  },
  {
   "cell_type": "code",
   "execution_count": null,
   "id": "268f6b46-58bb-4c30-9431-0ecc14e6a0b8",
   "metadata": {},
   "outputs": [],
   "source": [
    "### Basic Level:"
   ]
  },
  {
   "cell_type": "code",
   "execution_count": 4,
   "id": "13aa02cc-eec6-4bd3-b7e1-d6bed2b9bd22",
   "metadata": {},
   "outputs": [
    {
     "name": "stdin",
     "output_type": "stream",
     "text": [
      "Enter a number:  -8\n"
     ]
    },
    {
     "name": "stdout",
     "output_type": "stream",
     "text": [
      "Negative number\n"
     ]
    }
   ],
   "source": [
    "# 1. Check if a given number is positive, negative, or zero:\n",
    "num = float(input(\"Enter a number: \"))\n",
    "if num > 0:\n",
    "    print(\"Positive number\")\n",
    "elif num == 0:\n",
    "    print(\"Zero\")\n",
    "else:\n",
    "    print(\"Negative number\")"
   ]
  },
  {
   "cell_type": "code",
   "execution_count": 5,
   "id": "f9456c24-e217-4003-befd-a6dc6fe92ace",
   "metadata": {},
   "outputs": [
    {
     "name": "stdin",
     "output_type": "stream",
     "text": [
      "Enter your age:  69\n"
     ]
    },
    {
     "name": "stdout",
     "output_type": "stream",
     "text": [
      "You are eligible to vote.\n"
     ]
    }
   ],
   "source": [
    "# 2. Determine if a person is eligible to vote based on their age:\n",
    "age = int(input(\"Enter your age: \"))\n",
    "if age >= 18:\n",
    "    print(\"You are eligible to vote.\")\n",
    "else:\n",
    "    print(\"You are not eligible to vote yet.\")"
   ]
  },
  {
   "cell_type": "code",
   "execution_count": 6,
   "id": "523999bd-4970-448b-9298-72e102b1ff6c",
   "metadata": {},
   "outputs": [
    {
     "name": "stdin",
     "output_type": "stream",
     "text": [
      "Enter first number:  5\n",
      "Enter second number:  9\n"
     ]
    },
    {
     "name": "stdout",
     "output_type": "stream",
     "text": [
      "Maximum: 9.0\n"
     ]
    }
   ],
   "source": [
    "# 3. Find the maximum of two given numbers using conditional statements:\n",
    "num1 = float(input(\"Enter first number: \"))\n",
    "num2 = float(input(\"Enter second number: \"))\n",
    "if num1 > num2:\n",
    "    print(\"Maximum:\", num1)\n",
    "else:\n",
    "    print(\"Maximum:\", num2)\n"
   ]
  },
  {
   "cell_type": "code",
   "execution_count": 7,
   "id": "8225b9b0-c0c3-4cf1-8079-900ff62c47fa",
   "metadata": {},
   "outputs": [
    {
     "name": "stdin",
     "output_type": "stream",
     "text": [
      "Enter the student's score:  69\n"
     ]
    },
    {
     "name": "stdout",
     "output_type": "stream",
     "text": [
      "Grade: D\n"
     ]
    }
   ],
   "source": [
    "# 4. Calculate the grade of a student based on their exam score:\n",
    "score = float(input(\"Enter the student's score: \"))\n",
    "if score >= 90:\n",
    "    print(\"Grade: A\")\n",
    "elif score >= 80:\n",
    "    print(\"Grade: B\")\n",
    "elif score >= 70:\n",
    "    print(\"Grade: C\")\n",
    "elif score >= 60:\n",
    "    print(\"Grade: D\")\n",
    "else:\n",
    "    print(\"Grade: F\")"
   ]
  },
  {
   "cell_type": "code",
   "execution_count": 8,
   "id": "5f996a93-2729-410d-b502-f463f4146c59",
   "metadata": {},
   "outputs": [
    {
     "name": "stdin",
     "output_type": "stream",
     "text": [
      "Enter a year:  1984\n"
     ]
    },
    {
     "name": "stdout",
     "output_type": "stream",
     "text": [
      "1984 is a leap year\n"
     ]
    }
   ],
   "source": [
    "# 5. Check if a year is a leap year or not:\n",
    "year = int(input(\"Enter a year: \"))\n",
    "if (year % 4 == 0 and year % 100 != 0) or (year % 400 == 0):\n",
    "    print(year, \"is a leap year\")\n",
    "else:\n",
    "    print(year, \"is not a leap year\")"
   ]
  },
  {
   "cell_type": "code",
   "execution_count": 10,
   "id": "f857a075-e066-43a6-8e9f-e6fb60baa662",
   "metadata": {},
   "outputs": [
    {
     "name": "stdin",
     "output_type": "stream",
     "text": [
      "Enter length of side 1:  45\n",
      "Enter length of side 2:  4\n",
      "Enter length of side 3:  45\n"
     ]
    },
    {
     "name": "stdout",
     "output_type": "stream",
     "text": [
      "Isosceles triangle\n"
     ]
    }
   ],
   "source": [
    "# 6. Classify a triangle based on its sides' lengths:\n",
    "side1 = float(input(\"Enter length of side 1: \"))\n",
    "side2 = float(input(\"Enter length of side 2: \"))\n",
    "side3 = float(input(\"Enter length of side 3: \"))\n",
    "if side1 == side2 == side3:\n",
    "    print(\"Equilateral triangle\")\n",
    "elif side1 == side2 or side1 == side3 or side2 == side3:\n",
    "    print(\"Isosceles triangle\")\n",
    "else:\n",
    "    print(\"Scalene triangle\")"
   ]
  },
  {
   "cell_type": "code",
   "execution_count": 11,
   "id": "dd1e097c-735f-4800-8bd3-796486cc15eb",
   "metadata": {},
   "outputs": [
    {
     "name": "stdin",
     "output_type": "stream",
     "text": [
      "Enter first number:  1\n",
      "Enter second number:  2\n",
      "Enter third number:  3\n"
     ]
    },
    {
     "name": "stdout",
     "output_type": "stream",
     "text": [
      "Largest number: 3.0\n"
     ]
    }
   ],
   "source": [
    "# 7. Determine the largest of three given numbers:\n",
    "num1 = float(input(\"Enter first number: \"))\n",
    "num2 = float(input(\"Enter second number: \"))\n",
    "num3 = float(input(\"Enter third number: \"))\n",
    "if num1 >= num2 and num1 >= num3:\n",
    "    print(\"Largest number:\", num1)\n",
    "elif num2 >= num1 and num2 >= num3:\n",
    "    print(\"Largest number:\", num2)\n",
    "else:\n",
    "    print(\"Largest number:\", num3)"
   ]
  },
  {
   "cell_type": "code",
   "execution_count": 12,
   "id": "4bf808e2-893d-4b3c-8bb2-2ffb8840eb2a",
   "metadata": {},
   "outputs": [
    {
     "name": "stdin",
     "output_type": "stream",
     "text": [
      "Enter a character:  6\n"
     ]
    },
    {
     "name": "stdout",
     "output_type": "stream",
     "text": [
      "Consonant\n"
     ]
    }
   ],
   "source": [
    "# 8. Check whether a character is a vowel or a consonant:\n",
    "char = input(\"Enter a character: \")\n",
    "if char.lower() in ['a', 'e', 'i', 'o', 'u']:\n",
    "    print(\"Vowel\")\n",
    "else:\n",
    "    print(\"Consonant\")\n"
   ]
  },
  {
   "cell_type": "code",
   "execution_count": 13,
   "id": "e16f7f17-6953-4ce7-932e-9e1e25402b58",
   "metadata": {},
   "outputs": [
    {
     "name": "stdin",
     "output_type": "stream",
     "text": [
      "Enter total cost of items:  2000\n"
     ]
    },
    {
     "name": "stdout",
     "output_type": "stream",
     "text": [
      "Final cost after discount: 1800.0\n"
     ]
    }
   ],
   "source": [
    "# 9. Calculate the total cost of a shopping cart based on discounts:\n",
    "total_cost = float(input(\"Enter total cost of items: \"))\n",
    "if total_cost >= 100:\n",
    "    discount = total_cost * 0.1\n",
    "else:\n",
    "    discount = 0\n",
    "final_cost = total_cost - discount\n",
    "print(\"Final cost after discount:\", final_cost)"
   ]
  },
  {
   "cell_type": "code",
   "execution_count": 14,
   "id": "9af5252b-db68-4f87-9e51-844959feb599",
   "metadata": {},
   "outputs": [
    {
     "name": "stdin",
     "output_type": "stream",
     "text": [
      "Enter a number:  4\n"
     ]
    },
    {
     "name": "stdout",
     "output_type": "stream",
     "text": [
      "Even\n"
     ]
    }
   ],
   "source": [
    "# 10. Check if a given number is even or odd:\n",
    "num = int(input(\"Enter a number: \"))\n",
    "if num % 2 == 0:\n",
    "    print(\"Even\")\n",
    "else:\n",
    "    print(\"Odd\")"
   ]
  },
  {
   "cell_type": "markdown",
   "id": "13ba55cd-689e-401b-b8b1-41e0987e7d98",
   "metadata": {},
   "source": [
    "### Intermediate Level:"
   ]
  },
  {
   "cell_type": "code",
   "execution_count": 15,
   "id": "3d6b34c2-7ff6-404d-8158-d831b848f750",
   "metadata": {},
   "outputs": [
    {
     "name": "stdin",
     "output_type": "stream",
     "text": [
      "Enter coefficient a:  2\n",
      "Enter coefficient b:  4\n",
      "Enter coefficient c:  6\n"
     ]
    },
    {
     "name": "stdout",
     "output_type": "stream",
     "text": [
      "Roots: ((-1+1.4142135623730951j), (-1-1.4142135623730951j))\n"
     ]
    }
   ],
   "source": [
    "# 11. Calculate the roots of a quadratic equation:\n",
    "import math\n",
    "\n",
    "def quadratic_roots(a, b, c):\n",
    "    discriminant = b**2 - 4*a*c\n",
    "    if discriminant > 0:\n",
    "        root1 = (-b + math.sqrt(discriminant)) / (2*a)\n",
    "        root2 = (-b - math.sqrt(discriminant)) / (2*a)\n",
    "        return root1, root2\n",
    "    elif discriminant == 0:\n",
    "        root = -b / (2*a)\n",
    "        return root, root\n",
    "    else:\n",
    "        real_part = -b / (2*a)\n",
    "        imaginary_part = math.sqrt(abs(discriminant)) / (2*a)\n",
    "        return (real_part + imaginary_part * 1j), (real_part - imaginary_part * 1j)\n",
    "\n",
    "a = float(input(\"Enter coefficient a: \"))\n",
    "b = float(input(\"Enter coefficient b: \"))\n",
    "c = float(input(\"Enter coefficient c: \"))\n",
    "roots = quadratic_roots(a, b, c)\n",
    "print(\"Roots:\", roots)"
   ]
  },
  {
   "cell_type": "code",
   "execution_count": 16,
   "id": "ee3fb9d5-d0a6-430b-8b4e-2ef197d168e4",
   "metadata": {},
   "outputs": [
    {
     "name": "stdin",
     "output_type": "stream",
     "text": [
      "Enter the day number (1-7):  3\n"
     ]
    },
    {
     "name": "stdout",
     "output_type": "stream",
     "text": [
      "Day of the week: Wednesday\n"
     ]
    }
   ],
   "source": [
    "# 12. Determine the day of the week based on the day number (1-7):\n",
    "day_number = int(input(\"Enter the day number (1-7): \"))\n",
    "days = [\"Monday\", \"Tuesday\", \"Wednesday\", \"Thursday\", \"Friday\", \"Saturday\", \"Sunday\"]\n",
    "if 1 <= day_number <= 7:\n",
    "    print(\"Day of the week:\", days[day_number - 1])\n",
    "else:\n",
    "    print(\"Invalid input\")"
   ]
  },
  {
   "cell_type": "code",
   "execution_count": 6,
   "id": "33b47a55-874b-402b-864a-433105946612",
   "metadata": {},
   "outputs": [],
   "source": [
    "# 13. Calculate the factorial of a given number using recursion:\n",
    "def factorial(n):\n",
    "    if n == 0:\n",
    "        return 1\n",
    "    else:\n",
    "        return n * factorial(n-1)"
   ]
  },
  {
   "cell_type": "code",
   "execution_count": 4,
   "id": "807b9246-d973-4e42-9dcc-c684f3393b4b",
   "metadata": {},
   "outputs": [
    {
     "name": "stdin",
     "output_type": "stream",
     "text": [
      "Enter first number:  56\n",
      "Enter second number:  78\n",
      "Enter third number:  12\n"
     ]
    },
    {
     "name": "stdout",
     "output_type": "stream",
     "text": [
      "Largest number: 78.0\n"
     ]
    }
   ],
   "source": [
    "# 14. Find the largest among three numbers without using the `max()` function:\n",
    "num1 = float(input(\"Enter first number: \"))\n",
    "num2 = float(input(\"Enter second number: \"))\n",
    "num3 = float(input(\"Enter third number: \"))\n",
    "if num1 >= num2 and num1 >= num3:\n",
    "    print(\"Largest number:\", num1)\n",
    "elif num2 >= num1 and num2 >= num3:\n",
    "    print(\"Largest number:\", num2)\n",
    "else:\n",
    "    print(\"Largest number:\", num3)"
   ]
  },
  {
   "cell_type": "code",
   "execution_count": 7,
   "id": "0f64675a-5ec3-42dd-a235-6e1d3ca09d74",
   "metadata": {},
   "outputs": [
    {
     "name": "stdout",
     "output_type": "stream",
     "text": [
      "\n",
      "1. Check Balance\n",
      "2. Deposit\n",
      "3. Withdraw\n",
      "4. Exit\n"
     ]
    },
    {
     "name": "stdin",
     "output_type": "stream",
     "text": [
      "Enter choice:  2\n",
      "Enter amount to deposit:  5000\n"
     ]
    },
    {
     "name": "stdout",
     "output_type": "stream",
     "text": [
      "Deposit successful. New balance: 6000.0\n",
      "\n",
      "1. Check Balance\n",
      "2. Deposit\n",
      "3. Withdraw\n",
      "4. Exit\n"
     ]
    },
    {
     "name": "stdin",
     "output_type": "stream",
     "text": [
      "Enter choice:  1\n"
     ]
    },
    {
     "name": "stdout",
     "output_type": "stream",
     "text": [
      "Balance: 6000.0\n",
      "\n",
      "1. Check Balance\n",
      "2. Deposit\n",
      "3. Withdraw\n",
      "4. Exit\n"
     ]
    },
    {
     "name": "stdin",
     "output_type": "stream",
     "text": [
      "Enter choice:  3\n",
      "Enter amount to withdraw:  2000\n"
     ]
    },
    {
     "name": "stdout",
     "output_type": "stream",
     "text": [
      "Withdrawal successful. New balance: 4000.0\n",
      "\n",
      "1. Check Balance\n",
      "2. Deposit\n",
      "3. Withdraw\n",
      "4. Exit\n"
     ]
    },
    {
     "name": "stdin",
     "output_type": "stream",
     "text": [
      "Enter choice:  1\n"
     ]
    },
    {
     "name": "stdout",
     "output_type": "stream",
     "text": [
      "Balance: 4000.0\n",
      "\n",
      "1. Check Balance\n",
      "2. Deposit\n",
      "3. Withdraw\n",
      "4. Exit\n"
     ]
    },
    {
     "name": "stdin",
     "output_type": "stream",
     "text": [
      "Enter choice:  4\n"
     ]
    },
    {
     "name": "stdout",
     "output_type": "stream",
     "text": [
      "Exiting...\n"
     ]
    }
   ],
   "source": [
    "# 15. Simulate a basic ATM transaction menu:\n",
    "balance = 1000\n",
    "while True:\n",
    "    print(\"\\n1. Check Balance\\n2. Deposit\\n3. Withdraw\\n4. Exit\")\n",
    "    choice = int(input(\"Enter choice: \"))\n",
    "    if choice == 1:\n",
    "        print(\"Balance:\", balance)\n",
    "    elif choice == 2:\n",
    "        amount = float(input(\"Enter amount to deposit: \"))\n",
    "        balance += amount\n",
    "        print(\"Deposit successful. New balance:\", balance)\n",
    "    elif choice == 3:\n",
    "        amount = float(input(\"Enter amount to withdraw: \"))\n",
    "        if amount > balance:\n",
    "            print(\"Insufficient funds\")\n",
    "        else:\n",
    "            balance -= amount\n",
    "            print(\"Withdrawal successful. New balance:\", balance)\n",
    "    elif choice == 4:\n",
    "        print(\"Exiting...\")\n",
    "        break\n",
    "    else:\n",
    "        print(\"Invalid choice\")"
   ]
  },
  {
   "cell_type": "code",
   "execution_count": 8,
   "id": "85d22c6c-ab62-44c9-b023-e5844154c2dd",
   "metadata": {},
   "outputs": [
    {
     "name": "stdin",
     "output_type": "stream",
     "text": [
      "Enter a string:  1112111\n"
     ]
    },
    {
     "name": "stdout",
     "output_type": "stream",
     "text": [
      "Palindrome\n"
     ]
    }
   ],
   "source": [
    "# 16. Check if a given string is a palindrome or not:\n",
    "def is_palindrome(string):\n",
    "    return string == string[::-1]\n",
    "\n",
    "string = input(\"Enter a string: \")\n",
    "if is_palindrome(string):\n",
    "    print(\"Palindrome\")\n",
    "else:\n",
    "    print(\"Not a palindrome\")"
   ]
  },
  {
   "cell_type": "code",
   "execution_count": 9,
   "id": "2994ff5b-f17e-459f-89d3-fc8a8518a3c1",
   "metadata": {},
   "outputs": [
    {
     "name": "stdin",
     "output_type": "stream",
     "text": [
      "Enter numbers separated by space:  1 2 3 4 5\n"
     ]
    },
    {
     "name": "stdout",
     "output_type": "stream",
     "text": [
      "Average (excluding smallest and largest): 3.0\n"
     ]
    }
   ],
   "source": [
    "# 17. Calculate the average of a list of numbers, excluding the smallest and largest values:\n",
    "numbers = [float(x) for x in input(\"Enter numbers separated by space: \").split()]\n",
    "if len(numbers) > 2:\n",
    "    numbers.remove(min(numbers))\n",
    "    numbers.remove(max(numbers))\n",
    "    average = sum(numbers) / len(numbers)\n",
    "    print(\"Average (excluding smallest and largest):\", average)\n",
    "else:\n",
    "    print(\"Insufficient numbers\")"
   ]
  },
  {
   "cell_type": "code",
   "execution_count": 10,
   "id": "f168154d-d147-4883-a8eb-f600f17c8044",
   "metadata": {},
   "outputs": [
    {
     "name": "stdin",
     "output_type": "stream",
     "text": [
      "Enter temperature in Celsius:  45\n"
     ]
    },
    {
     "name": "stdout",
     "output_type": "stream",
     "text": [
      "Temperature in Fahrenheit: 113.0\n"
     ]
    }
   ],
   "source": [
    "# 18. Convert a given temperature from Celsius to Fahrenheit:\n",
    "celsius = float(input(\"Enter temperature in Celsius: \"))\n",
    "fahrenheit = (celsius * 9/5) + 32\n",
    "print(\"Temperature in Fahrenheit:\", fahrenheit)"
   ]
  },
  {
   "cell_type": "code",
   "execution_count": 11,
   "id": "3ef4ba2a-c498-4c44-af33-e1185e002205",
   "metadata": {},
   "outputs": [
    {
     "name": "stdout",
     "output_type": "stream",
     "text": [
      "\n",
      "1. Addition\n",
      "2. Subtraction\n",
      "3. Multiplication\n",
      "4. Division\n",
      "5. Exit\n"
     ]
    },
    {
     "name": "stdin",
     "output_type": "stream",
     "text": [
      "Enter choice:  1\n",
      "Enter first number:  2\n",
      "Enter second number:  3\n"
     ]
    },
    {
     "name": "stdout",
     "output_type": "stream",
     "text": [
      "Result: 5.0\n",
      "\n",
      "1. Addition\n",
      "2. Subtraction\n",
      "3. Multiplication\n",
      "4. Division\n",
      "5. Exit\n"
     ]
    },
    {
     "name": "stdin",
     "output_type": "stream",
     "text": [
      "Enter choice:  2\n",
      "Enter first number:  4\n",
      "Enter second number:  5\n"
     ]
    },
    {
     "name": "stdout",
     "output_type": "stream",
     "text": [
      "Result: -1.0\n",
      "\n",
      "1. Addition\n",
      "2. Subtraction\n",
      "3. Multiplication\n",
      "4. Division\n",
      "5. Exit\n"
     ]
    },
    {
     "name": "stdin",
     "output_type": "stream",
     "text": [
      "Enter choice:  4\n",
      "Enter first number:  2\n",
      "Enter second number:  4\n"
     ]
    },
    {
     "name": "stdout",
     "output_type": "stream",
     "text": [
      "Result: 0.5\n",
      "\n",
      "1. Addition\n",
      "2. Subtraction\n",
      "3. Multiplication\n",
      "4. Division\n",
      "5. Exit\n"
     ]
    },
    {
     "name": "stdin",
     "output_type": "stream",
     "text": [
      "Enter choice:  5\n"
     ]
    },
    {
     "name": "stdout",
     "output_type": "stream",
     "text": [
      "Exiting...\n"
     ]
    }
   ],
   "source": [
    "# 19. Simulate a basic calculator for addition, subtraction, multiplication, and division:\n",
    "while True:\n",
    "    print(\"\\n1. Addition\\n2. Subtraction\\n3. Multiplication\\n4. Division\\n5. Exit\")\n",
    "    choice = int(input(\"Enter choice: \"))\n",
    "    if choice == 5:\n",
    "        print(\"Exiting...\")\n",
    "        break\n",
    "    num1 = float(input(\"Enter first number: \"))\n",
    "    num2 = float(input(\"Enter second number: \"))\n",
    "    if choice == 1:\n",
    "        print(\"Result:\", num1 + num2)\n",
    "    elif choice == 2:\n",
    "        print(\"Result:\", num1 - num2)\n",
    "    elif choice == 3:\n",
    "        print(\"Result:\", num1 * num2)\n",
    "    elif choice == 4:\n",
    "        if num2 == 0:\n",
    "            print(\"Division by zero error\")\n",
    "        else:\n",
    "            print(\"Result:\", num1 / num2)\n",
    "    else:\n",
    "        print(\"Invalid choice\")"
   ]
  },
  {
   "cell_type": "code",
   "execution_count": 12,
   "id": "bbe3163e-b533-49c6-86d8-710e3e245139",
   "metadata": {},
   "outputs": [
    {
     "name": "stdin",
     "output_type": "stream",
     "text": [
      "Enter coefficient a:  3\n",
      "Enter coefficient b:  5\n",
      "Enter coefficient c:  6\n",
      "Enter coefficient d:  7\n"
     ]
    },
    {
     "name": "stdout",
     "output_type": "stream",
     "text": [
      "Roots: ((0.3350035248679689+1.0116310000032924j), (-1.8769332410260247-0.26543128721603465j), (-0.124736950508611-0.7461997127872577j))\n"
     ]
    }
   ],
   "source": [
    "import math\n",
    "\n",
    "def cubic_roots(a, b, c, d):\n",
    "    # Calculate discriminant and intermediate values\n",
    "    p = (3*a*c - b**2) / (3*a**2)\n",
    "    q = (2*b**3 - 9*a*b*c + 27*a**2*d) / (27*a**3)\n",
    "    discriminant = q**2/4 + p**3/27\n",
    "\n",
    "    # Case 1: Three real roots\n",
    "    if discriminant > 0:\n",
    "        u = (-q/2 + math.sqrt(discriminant))**(1/3)\n",
    "        v = (-q/2 - math.sqrt(discriminant))**(1/3)\n",
    "        root1 = u + v - b/(3*a)\n",
    "        root2 = -(u + v)/2 - b/(3*a) + (u - v)*math.sqrt(3)/2j\n",
    "        root3 = -(u + v)/2 - b/(3*a) - (u - v)*math.sqrt(3)/2j\n",
    "        return root1, root2, root3\n",
    "    \n",
    "    # Case 2: One real root\n",
    "    elif discriminant == 0:\n",
    "        if q < 0:\n",
    "            root1 = 2*(-q/2)**(1/3) - b/(3*a)\n",
    "            root2 = -(q/2)**(1/3) - b/(3*a)\n",
    "            return root1, root2, root2\n",
    "        else:\n",
    "            root1 = -2*(q/2)**(1/3) - b/(3*a)\n",
    "            root2 = (q/2)**(1/3) - b/(3*a)\n",
    "            return root1, root1, root2\n",
    "\n",
    "    # Case 3: Three real roots (one is real and two are complex)\n",
    "    else:\n",
    "        theta = math.acos(-q/2 * math.sqrt(-27/p**3))\n",
    "        root1 = 2 * math.sqrt(-p/3) * math.cos(theta/3) - b/(3*a)\n",
    "        root2 = 2 * math.sqrt(-p/3) * math.cos((theta + 2*math.pi)/3) - b/(3*a)\n",
    "        root3 = 2 * math.sqrt(-p/3) * math.cos((theta + 4*math.pi)/3) - b/(3*a)\n",
    "        return root1, root2, root3\n",
    "\n",
    "# Example usage:\n",
    "a = float(input(\"Enter coefficient a: \"))\n",
    "b = float(input(\"Enter coefficient b: \"))\n",
    "c = float(input(\"Enter coefficient c: \"))\n",
    "d = float(input(\"Enter coefficient d: \"))\n",
    "roots = cubic_roots(a, b, c, d)\n",
    "print(\"Roots:\", roots)\n"
   ]
  },
  {
   "cell_type": "markdown",
   "id": "1b5a7b08-e1f2-44c6-894e-589c91190d74",
   "metadata": {},
   "source": [
    "### Advanced Level:"
   ]
  },
  {
   "cell_type": "code",
   "execution_count": 13,
   "id": "acc0512a-bcf0-4d91-af10-03d2b0831a86",
   "metadata": {},
   "outputs": [
    {
     "name": "stdin",
     "output_type": "stream",
     "text": [
      "Enter your income:  10000\n"
     ]
    },
    {
     "name": "stdout",
     "output_type": "stream",
     "text": [
      "Income tax: 500.0\n"
     ]
    }
   ],
   "source": [
    "# 21. Calculate income tax based on user's income and tax brackets:\n",
    "def calculate_tax(income):\n",
    "    if income <= 10000:\n",
    "        tax = 0.05 * income\n",
    "    elif income <= 50000:\n",
    "        tax = 0.10 * (income - 10000) + 500\n",
    "    else:\n",
    "        tax = 0.20 * (income - 50000) + 4500\n",
    "    return tax\n",
    "\n",
    "income = float(input(\"Enter your income: \"))\n",
    "tax = calculate_tax(income)\n",
    "print(\"Income tax:\", tax)"
   ]
  },
  {
   "cell_type": "code",
   "execution_count": 14,
   "id": "c56f324b-5981-4b6a-a308-40c142e958f4",
   "metadata": {},
   "outputs": [
    {
     "name": "stdin",
     "output_type": "stream",
     "text": [
      "Enter your choice (rock, paper, scissors):  rock\n"
     ]
    },
    {
     "name": "stdout",
     "output_type": "stream",
     "text": [
      "Computer's choice: paper\n",
      "Computer wins!\n"
     ]
    }
   ],
   "source": [
    "# 22. Simulate a rock-paper-scissors game against the computer:\n",
    "import random\n",
    "\n",
    "choices = ['rock', 'paper', 'scissors']\n",
    "user_choice = input(\"Enter your choice (rock, paper, scissors): \").lower()\n",
    "computer_choice = random.choice(choices)\n",
    "print(\"Computer's choice:\", computer_choice)\n",
    "\n",
    "if user_choice == computer_choice:\n",
    "    print(\"It's a tie!\")\n",
    "elif (user_choice == 'rock' and computer_choice == 'scissors') or \\\n",
    "     (user_choice == 'paper' and computer_choice == 'rock') or \\\n",
    "     (user_choice == 'scissors' and computer_choice == 'paper'):\n",
    "    print(\"You win!\")\n",
    "else:\n",
    "    print(\"Computer wins!\")"
   ]
  },
  {
   "cell_type": "code",
   "execution_count": 15,
   "id": "21acf0d2-ac60-43a4-aa83-f526dba29df7",
   "metadata": {},
   "outputs": [
    {
     "name": "stdin",
     "output_type": "stream",
     "text": [
      "Enter password length:  8\n",
      "Enter password complexity (low, medium, high):  medium\n"
     ]
    },
    {
     "name": "stdout",
     "output_type": "stream",
     "text": [
      "Generated password: xq&P$2=[\n"
     ]
    }
   ],
   "source": [
    "# 23. Generate a random password based on user preferences:\n",
    "import string\n",
    "import random\n",
    "\n",
    "def generate_password(length, complexity):\n",
    "    if complexity == 'low':\n",
    "        characters = string.ascii_letters + string.digits\n",
    "    elif complexity == 'medium':\n",
    "        characters = string.ascii_letters + string.digits + string.punctuation\n",
    "    else:\n",
    "        characters = string.printable\n",
    "    password = ''.join(random.choice(characters) for _ in range(length))\n",
    "    return password\n",
    "\n",
    "length = int(input(\"Enter password length: \"))\n",
    "complexity = input(\"Enter password complexity (low, medium, high): \").lower()\n",
    "password = generate_password(length, complexity)\n",
    "print(\"Generated password:\", password)"
   ]
  },
  {
   "cell_type": "code",
   "execution_count": 16,
   "id": "da92f18d-493f-411b-92aa-4268d27e7438",
   "metadata": {},
   "outputs": [
    {
     "name": "stdout",
     "output_type": "stream",
     "text": [
      "Welcome to the Adventure Game!\n",
      "You find yourself in a forest.\n"
     ]
    },
    {
     "name": "stdin",
     "output_type": "stream",
     "text": [
      "Do you go left or right?  right\n"
     ]
    },
    {
     "name": "stdout",
     "output_type": "stream",
     "text": [
      "You find a treasure chest and open it.\n"
     ]
    }
   ],
   "source": [
    "# 24. Implement a simple text-based adventure game:\n",
    "print(\"Welcome to the Adventure Game!\")\n",
    "print(\"You find yourself in a forest.\")\n",
    "choice = input(\"Do you go left or right? \").lower()\n",
    "if choice == 'left':\n",
    "    print(\"You encounter a bear and run away.\")\n",
    "elif choice == 'right':\n",
    "    print(\"You find a treasure chest and open it.\")\n",
    "else:\n",
    "    print(\"Invalid choice\")"
   ]
  },
  {
   "cell_type": "code",
   "execution_count": 18,
   "id": "df0f6afb-4787-4298-864d-891cf53eac19",
   "metadata": {},
   "outputs": [
    {
     "name": "stdin",
     "output_type": "stream",
     "text": [
      "Enter coefficient a:  3\n",
      "Enter coefficient b:  9\n"
     ]
    },
    {
     "name": "stdout",
     "output_type": "stream",
     "text": [
      "Solution: -3.0\n"
     ]
    }
   ],
   "source": [
    "# 25. Solve a linear equation for x:\n",
    "# ax + b = 0\n",
    "a = float(input(\"Enter coefficient a: \"))\n",
    "b = float(input(\"Enter coefficient b: \"))\n",
    "if a == 0:\n",
    "    if b == 0:\n",
    "        print(\"Infinite solutions\")\n",
    "    else:\n",
    "        print(\"No solution\")\n",
    "else:\n",
    "    x = -b / a\n",
    "    print(\"Solution:\", x)"
   ]
  },
  {
   "cell_type": "code",
   "execution_count": 19,
   "id": "f36f3cfc-6b90-4fce-98c8-3c11eb4bc3dd",
   "metadata": {},
   "outputs": [
    {
     "name": "stdin",
     "output_type": "stream",
     "text": [
      "What is the capital of France?  paris\n",
      "Which planet is known as the Red Planet?  marse\n",
      "What is the largest mammal?  star\n"
     ]
    },
    {
     "name": "stdout",
     "output_type": "stream",
     "text": [
      "Your score: 1\n"
     ]
    }
   ],
   "source": [
    "# 26. Simulate a basic quiz game with multiple-choice questions and scoring:\n",
    "questions = {\n",
    "    \"What is the capital of France?\": \"Paris\",\n",
    "    \"Which planet is known as the Red Planet?\": \"Mars\",\n",
    "    \"What is the largest mammal?\": \"Blue whale\"\n",
    "}\n",
    "score = 0\n",
    "for question, answer in questions.items():\n",
    "    response = input(question + \" \")\n",
    "    if response.lower() == answer.lower():\n",
    "        score += 1\n",
    "print(\"Your score:\", score)"
   ]
  },
  {
   "cell_type": "code",
   "execution_count": 20,
   "id": "52aa74e8-46a7-44d3-a0db-5e200a347e69",
   "metadata": {},
   "outputs": [
    {
     "name": "stdin",
     "output_type": "stream",
     "text": [
      "Enter a year:  11\n"
     ]
    },
    {
     "name": "stdout",
     "output_type": "stream",
     "text": [
      "11 is a prime year\n"
     ]
    }
   ],
   "source": [
    "# 27. Determine whether a given year is a prime number or not:\n",
    "def is_prime(year):\n",
    "    if year < 2:\n",
    "        return False\n",
    "    for i in range(2, int(year**0.5) + 1):\n",
    "        if year % i == 0:\n",
    "            return False\n",
    "    return True\n",
    "\n",
    "year = int(input(\"Enter a year: \"))\n",
    "if is_prime(year):\n",
    "    print(year, \"is a prime year\")\n",
    "else:\n",
    "    print(year, \"is not a prime year\")"
   ]
  },
  {
   "cell_type": "code",
   "execution_count": 21,
   "id": "566cee85-8025-4d3b-aa73-6483ead9026d",
   "metadata": {},
   "outputs": [
    {
     "name": "stdin",
     "output_type": "stream",
     "text": [
      "Enter first number:  8\n",
      "Enter second number:  9\n",
      "Enter third number:  1\n"
     ]
    },
    {
     "name": "stdout",
     "output_type": "stream",
     "text": [
      "Sorted order: 1.0 8.0 9.0\n"
     ]
    }
   ],
   "source": [
    "# 28. Sort three numbers in ascending order using conditional statements:\n",
    "num1 = float(input(\"Enter first number: \"))\n",
    "num2 = float(input(\"Enter second number: \"))\n",
    "num3 = float(input(\"Enter third number: \"))\n",
    "if num1 <= num2 <= num3:\n",
    "    print(\"Sorted order:\", num1, num2, num3)\n",
    "elif num1 <= num3 <= num2:\n",
    "    print(\"Sorted order:\", num1, num3, num2)\n",
    "elif num2 <= num1 <= num3:\n",
    "    print(\"Sorted order:\", num2, num1, num3)\n",
    "elif num2 <= num3 <= num1:\n",
    "    print(\"Sorted order:\", num2, num3, num1)\n",
    "elif num3 <= num1 <= num2:\n",
    "    print(\"Sorted order:\", num3, num1, num2)\n",
    "else:\n",
    "    print(\"Sorted order:\", num3, num2, num1)"
   ]
  },
  {
   "cell_type": "code",
   "execution_count": 23,
   "id": "1e65dee4-b5f3-453a-aa9f-9a3f892a54df",
   "metadata": {},
   "outputs": [
    {
     "name": "stdin",
     "output_type": "stream",
     "text": [
      "Enter coefficient a:  1.2\n",
      "Enter coefficient b:  2.2\n",
      "Enter coefficient c:  3.3\n",
      "Enter coefficient d:  4.4\n",
      "Enter coefficient e:  5.5\n"
     ]
    },
    {
     "name": "stdout",
     "output_type": "stream",
     "text": [
      "Root 1: None\n",
      "Root 2: None\n",
      "Root 3: None\n",
      "Root 4: None\n"
     ]
    }
   ],
   "source": [
    "# 29. Build a program that determines the roots of a quartic equation using numerical methods.\n",
    "def quartic_equation(x, a, b, c, d, e):\n",
    "    return a*x**4 + b*x**3 + c*x**2 + d*x + e\n",
    "\n",
    "\n",
    "def quartic_derivative(x, a, b, c, d):\n",
    "    return 4*a*x**3 + 3*b*x**2 + 2*c*x + d\n",
    "\n",
    "\n",
    "def newton_method(initial_guess, a, b, c, d, e, tolerance=1e-6, max_iterations=1000):\n",
    "    x = initial_guess\n",
    "    for _ in range(max_iterations):\n",
    "        fx = quartic_equation(x, a, b, c, d, e)\n",
    "        if abs(fx) < tolerance:\n",
    "            return x\n",
    "        f_prime_x = quartic_derivative(x, a, b, c, d)\n",
    "        x = x - fx / f_prime_x\n",
    "    return None\n",
    "\n",
    "\n",
    "a = float(input(\"Enter coefficient a: \"))\n",
    "b = float(input(\"Enter coefficient b: \"))\n",
    "c = float(input(\"Enter coefficient c: \"))\n",
    "d = float(input(\"Enter coefficient d: \"))\n",
    "e = float(input(\"Enter coefficient e: \"))\n",
    "\n",
    "\n",
    "root1 = newton_method(1, a, b, c, d, e)\n",
    "root2 = newton_method(-1, a, b, c, d, e)\n",
    "root3 = newton_method(2, a, b, c, d, e)\n",
    "root4 = newton_method(-2, a, b, c, d, e)\n",
    "\n",
    "print(\"Root 1:\", root1)\n",
    "print(\"Root 2:\", root2)\n",
    "print(\"Root 3:\", root3)\n",
    "print(\"Root 4:\", root4)\n"
   ]
  },
  {
   "cell_type": "code",
   "execution_count": 24,
   "id": "236ea8e0-79dc-416c-bfd6-cad08723097c",
   "metadata": {},
   "outputs": [
    {
     "name": "stdin",
     "output_type": "stream",
     "text": [
      "Enter weight in kilograms:  700\n",
      "Enter height in meters:  13\n"
     ]
    },
    {
     "name": "stdout",
     "output_type": "stream",
     "text": [
      "BMI: 4.1420118343195265\n",
      "Underweight\n"
     ]
    }
   ],
   "source": [
    "# 30. Calculate the BMI (Body Mass Index) and provide health recommendations based on it:\n",
    "weight = float(input(\"Enter weight in kilograms: \"))\n",
    "height = float(input(\"Enter height in meters: \"))\n",
    "bmi = weight / (height ** 2)\n",
    "print(\"BMI:\", bmi)\n",
    "if bmi < 18.5:\n",
    "    print(\"Underweight\")\n",
    "elif 18.5 <= bmi < 25:\n",
    "    print(\"Normal weight\")\n",
    "elif 25 <= bmi < 30:\n",
    "    print(\"Overweight\")\n",
    "else:\n",
    "    print(\"Obese\")"
   ]
  },
  {
   "cell_type": "markdown",
   "id": "7f772320-e828-47e5-ac6e-25260e956720",
   "metadata": {},
   "source": [
    "### Challenge Level:"
   ]
  },
  {
   "cell_type": "code",
   "execution_count": 25,
   "id": "deab1d7c-6619-41cf-b557-53817b4aa594",
   "metadata": {},
   "outputs": [
    {
     "name": "stdin",
     "output_type": "stream",
     "text": [
      "Enter password:  maruti\n"
     ]
    },
    {
     "name": "stdout",
     "output_type": "stream",
     "text": [
      "Password is not valid.\n"
     ]
    }
   ],
   "source": [
    "# 31. Validate a password based on complexity rules:\n",
    "def validate_password(password):\n",
    "    if len(password) < 8:\n",
    "        return False\n",
    "    has_upper = any(char.isupper() for char in password)\n",
    "    has_lower = any(char.islower() for char in password)\n",
    "    has_digit = any(char.isdigit() for char in password)\n",
    "    return has_upper and has_lower and has_digit\n",
    "\n",
    "password = input(\"Enter password: \")\n",
    "if validate_password(password):\n",
    "    print(\"Password is valid.\")\n",
    "else:\n",
    "    print(\"Password is not valid.\")"
   ]
  },
  {
   "cell_type": "code",
   "execution_count": 29,
   "id": "7bbc14a7-82a1-4395-97d0-0074d95f8d28",
   "metadata": {},
   "outputs": [
    {
     "name": "stdout",
     "output_type": "stream",
     "text": [
      "Enter matrix A:\n"
     ]
    },
    {
     "name": "stdin",
     "output_type": "stream",
     "text": [
      "Enter number of rows:  3\n",
      "Enter number of columns:  3\n"
     ]
    },
    {
     "name": "stdout",
     "output_type": "stream",
     "text": [
      "Enter the elements of the matrix:\n"
     ]
    },
    {
     "name": "stdin",
     "output_type": "stream",
     "text": [
      " 123456789\n"
     ]
    },
    {
     "name": "stdout",
     "output_type": "stream",
     "text": [
      "Invalid input\n",
      "Enter matrix B:\n"
     ]
    },
    {
     "name": "stdin",
     "output_type": "stream",
     "text": [
      "Enter number of rows:  3 \n",
      "Enter number of columns:  2\n"
     ]
    },
    {
     "name": "stdout",
     "output_type": "stream",
     "text": [
      "Enter the elements of the matrix:\n"
     ]
    },
    {
     "name": "stdin",
     "output_type": "stream",
     "text": [
      " 123456\n"
     ]
    },
    {
     "name": "stdout",
     "output_type": "stream",
     "text": [
      "Invalid input\n"
     ]
    }
   ],
   "source": [
    "# 32. Perform matrix addition and subtraction based on user input:\n",
    "def matrix_addition(matrix1, matrix2):\n",
    "    return [[matrix1[i][j] + matrix2[i][j] for j in range(len(matrix1[0]))] for i in range(len(matrix1))]\n",
    "\n",
    "def matrix_subtraction(matrix1, matrix2):\n",
    "    return [[matrix1[i][j] - matrix2[i][j] for j in range(len(matrix1[0]))] for i in range(len(matrix1))]\n",
    "\n",
    "def input_matrix():\n",
    "    rows = int(input(\"Enter number of rows: \"))\n",
    "    cols = int(input(\"Enter number of columns: \"))\n",
    "    matrix = []\n",
    "    print(\"Enter the elements of the matrix:\")\n",
    "    for i in range(rows):\n",
    "        row = [int(x) for x in input().split()]\n",
    "        if len(row) != cols:\n",
    "            print(\"Invalid input\")\n",
    "            return None\n",
    "        matrix.append(row)\n",
    "    return matrix\n",
    "\n",
    "print(\"Enter matrix A:\")\n",
    "matrix_a = input_matrix()\n",
    "print(\"Enter matrix B:\")\n",
    "matrix_b = input_matrix()\n",
    "if matrix_a and matrix_b:\n",
    "    print(\"Matrix A + Matrix B:\")\n",
    "    print(matrix_addition(matrix_a, matrix_b))\n",
    "    print(\"Matrix A - Matrix B:\")\n",
    "    print(matrix_subtraction(matrix_a, matrix_b))"
   ]
  },
  {
   "cell_type": "code",
   "execution_count": 30,
   "id": "6db039f4-a0fc-4a43-8a06-4832774cbb8e",
   "metadata": {},
   "outputs": [
    {
     "name": "stdin",
     "output_type": "stream",
     "text": [
      "Enter first number:  2\n",
      "Enter second number:  6\n"
     ]
    },
    {
     "name": "stdout",
     "output_type": "stream",
     "text": [
      "GCD: 2\n"
     ]
    }
   ],
   "source": [
    "# 33. Calculate the greatest common divisor (GCD) of two numbers using the Euclidean algorithm:\n",
    "def gcd(a, b):\n",
    "    while b:\n",
    "        a, b = b, a % b\n",
    "    return a\n",
    "\n",
    "num1 = int(input(\"Enter first number: \"))\n",
    "num2 = int(input(\"Enter second number: \"))\n",
    "print(\"GCD:\", gcd(num1, num2))"
   ]
  },
  {
   "cell_type": "code",
   "execution_count": 31,
   "id": "59b54ecf-a044-4839-98ad-e31527cd8b48",
   "metadata": {},
   "outputs": [
    {
     "name": "stdout",
     "output_type": "stream",
     "text": [
      "Matrix A * Matrix B:\n",
      "[58, 64]\n",
      "[139, 154]\n"
     ]
    }
   ],
   "source": [
    "# 34. Perform matrix multiplication using nested loops and conditional statements:\n",
    "def matrix_multiplication(matrix1, matrix2):\n",
    "    if len(matrix1[0]) != len(matrix2):\n",
    "        return None  # Matrix dimensions are not compatible for multiplication\n",
    "    result = [[0 for _ in range(len(matrix2[0]))] for _ in range(len(matrix1))]\n",
    "    for i in range(len(matrix1)):\n",
    "        for j in range(len(matrix2[0])):\n",
    "            for k in range(len(matrix2)):\n",
    "                result[i][j] += matrix1[i][k] * matrix2[k][j]\n",
    "    return result\n",
    "\n",
    "# Example usage:\n",
    "matrix_a = [[1, 2, 3], [4, 5, 6]]\n",
    "matrix_b = [[7, 8], [9, 10], [11, 12]]\n",
    "result = matrix_multiplication(matrix_a, matrix_b)\n",
    "if result:\n",
    "    print(\"Matrix A * Matrix B:\")\n",
    "    for row in result:\n",
    "        print(row)\n",
    "else:\n",
    "    print(\"Matrix dimensions are not compatible for multiplication\")"
   ]
  },
  {
   "cell_type": "code",
   "execution_count": 33,
   "id": "b950362e-c5af-4653-8bed-d192e792af36",
   "metadata": {},
   "outputs": [
    {
     "name": "stdout",
     "output_type": "stream",
     "text": [
      "Let's play Tic-Tac-Toe!\n",
      "  |   |  \n",
      "---------\n",
      "  |   |  \n",
      "---------\n",
      "  |   |  \n",
      "---------\n"
     ]
    },
    {
     "name": "stdin",
     "output_type": "stream",
     "text": [
      "Enter your move (row col):  2\n"
     ]
    },
    {
     "ename": "ValueError",
     "evalue": "not enough values to unpack (expected 2, got 1)",
     "output_type": "error",
     "traceback": [
      "\u001b[0;31m---------------------------------------------------------------------------\u001b[0m",
      "\u001b[0;31mValueError\u001b[0m                                Traceback (most recent call last)",
      "Cell \u001b[0;32mIn[33], line 56\u001b[0m\n\u001b[1;32m     53\u001b[0m         turn \u001b[38;5;241m+\u001b[39m\u001b[38;5;241m=\u001b[39m \u001b[38;5;241m1\u001b[39m\n\u001b[1;32m     55\u001b[0m \u001b[38;5;66;03m# Example usage:\u001b[39;00m\n\u001b[0;32m---> 56\u001b[0m \u001b[43mplay_game\u001b[49m\u001b[43m(\u001b[49m\u001b[43m)\u001b[49m\n",
      "Cell \u001b[0;32mIn[33], line 36\u001b[0m, in \u001b[0;36mplay_game\u001b[0;34m()\u001b[0m\n\u001b[1;32m     34\u001b[0m current_player \u001b[38;5;241m=\u001b[39m players[turn \u001b[38;5;241m%\u001b[39m \u001b[38;5;241m2\u001b[39m]\n\u001b[1;32m     35\u001b[0m \u001b[38;5;28;01mif\u001b[39;00m current_player \u001b[38;5;241m==\u001b[39m \u001b[38;5;124m'\u001b[39m\u001b[38;5;124mX\u001b[39m\u001b[38;5;124m'\u001b[39m:\n\u001b[0;32m---> 36\u001b[0m     row, col \u001b[38;5;241m=\u001b[39m \u001b[38;5;28mmap\u001b[39m(\u001b[38;5;28mint\u001b[39m, \u001b[38;5;28minput\u001b[39m(\u001b[38;5;124m\"\u001b[39m\u001b[38;5;124mEnter your move (row col): \u001b[39m\u001b[38;5;124m\"\u001b[39m)\u001b[38;5;241m.\u001b[39msplit())\n\u001b[1;32m     37\u001b[0m     \u001b[38;5;28;01mif\u001b[39;00m board[row][col] \u001b[38;5;241m!=\u001b[39m \u001b[38;5;124m\"\u001b[39m\u001b[38;5;124m \u001b[39m\u001b[38;5;124m\"\u001b[39m:\n\u001b[1;32m     38\u001b[0m         \u001b[38;5;28mprint\u001b[39m(\u001b[38;5;124m\"\u001b[39m\u001b[38;5;124mInvalid move. Try again.\u001b[39m\u001b[38;5;124m\"\u001b[39m)\n",
      "\u001b[0;31mValueError\u001b[0m: not enough values to unpack (expected 2, got 1)"
     ]
    }
   ],
   "source": [
    "# 35. Simulate a basic text-based tic-tac-toe game against the computer:\n",
    "import random\n",
    "\n",
    "def print_board(board):\n",
    "    for row in board:\n",
    "        print(\" | \".join(row))\n",
    "        print(\"-\" * 9)\n",
    "\n",
    "def check_winner(board, player):\n",
    "    # Check rows, columns, and diagonals for a win\n",
    "    for i in range(3):\n",
    "        if all(cell == player for cell in board[i]) or \\\n",
    "           all(board[j][i] == player for j in range(3)):\n",
    "            return True\n",
    "    if all(board[i][i] == player for i in range(3)) or \\\n",
    "       all(board[i][2-i] == player for i in range(3)):\n",
    "        return True\n",
    "    return False\n",
    "\n",
    "def get_empty_cells(board):\n",
    "    return [(i, j) for i in range(3) for j in range(3) if board[i][j] == \" \"]\n",
    "\n",
    "def computer_move(board):\n",
    "    empty_cells = get_empty_cells(board)\n",
    "    return random.choice(empty_cells)\n",
    "\n",
    "def play_game():\n",
    "    board = [[\" \" for _ in range(3)] for _ in range(3)]\n",
    "    players = ['X', 'O']\n",
    "    turn = 0\n",
    "    print(\"Let's play Tic-Tac-Toe!\")\n",
    "    print_board(board)\n",
    "    while True:\n",
    "        current_player = players[turn % 2]\n",
    "        if current_player == 'X':\n",
    "            row, col = map(int, input(\"Enter your move (row col): \").split())\n",
    "            if board[row][col] != \" \":\n",
    "                print(\"Invalid move. Try again.\")\n",
    "                continue\n",
    "        else:\n",
    "            row, col = computer_move(board)\n",
    "        board[row][col] = current_player\n",
    "        print_board(board)\n",
    "        if check_winner(board, current_player):\n",
    "            if current_player == 'X':\n",
    "                print(\"Congratulations! You win!\")\n",
    "            else:\n",
    "                print(\"Computer wins!\")\n",
    "            break\n",
    "        if all(board[i][j] != \" \" for i in range(3) for j in range(3)):\n",
    "            print(\"It's a tie!\")\n",
    "            break\n",
    "        turn += 1\n",
    "\n",
    "# Example usage:\n",
    "play_game()"
   ]
  },
  {
   "cell_type": "code",
   "execution_count": 34,
   "id": "ce8227e3-1817-4b48-ad9c-3bc5e97815ca",
   "metadata": {},
   "outputs": [
    {
     "name": "stdin",
     "output_type": "stream",
     "text": [
      "Enter the number of Fibonacci terms to generate:  10\n"
     ]
    },
    {
     "name": "stdout",
     "output_type": "stream",
     "text": [
      "Fibonacci sequence: [0, 1, 1, 2, 3, 5, 8, 13, 21, 34]\n"
     ]
    }
   ],
   "source": [
    "# 36. Generate Fibonacci numbers up to a specified term using iterative methods:\n",
    "def generate_fibonacci(n_terms):\n",
    "    fibonacci_sequence = [0, 1]\n",
    "    for i in range(2, n_terms):\n",
    "        fibonacci_sequence.append(fibonacci_sequence[-1] + fibonacci_sequence[-2])\n",
    "    return fibonacci_sequence\n",
    "\n",
    "# Example usage:\n",
    "n_terms = int(input(\"Enter the number of Fibonacci terms to generate: \"))\n",
    "fibonacci_sequence = generate_fibonacci(n_terms)\n",
    "print(\"Fibonacci sequence:\", fibonacci_sequence)"
   ]
  },
  {
   "cell_type": "code",
   "execution_count": 35,
   "id": "786bb325-10be-4a6d-8f53-f4c544834893",
   "metadata": {},
   "outputs": [
    {
     "name": "stdin",
     "output_type": "stream",
     "text": [
      "Enter the number of Fibonacci terms to generate:  20\n"
     ]
    },
    {
     "name": "stdout",
     "output_type": "stream",
     "text": [
      "Fibonacci sequence: [0, 1, 1, 2, 3, 5, 8, 13, 21, 34, 55, 89, 144, 233, 377, 610, 987, 1597, 2584, 4181]\n"
     ]
    }
   ],
   "source": [
    "# 36. Generate Fibonacci numbers up to a specified term using iterative methods:\n",
    "def generate_fibonacci(n):\n",
    "    fibonacci_sequence = [0, 1]\n",
    "    for i in range(2, n):\n",
    "        fibonacci_sequence.append(fibonacci_sequence[-1] + fibonacci_sequence[-2])\n",
    "    return fibonacci_sequence\n",
    "\n",
    "n_terms = int(input(\"Enter the number of Fibonacci terms to generate: \"))\n",
    "print(\"Fibonacci sequence:\", generate_fibonacci(n_terms))"
   ]
  },
  {
   "cell_type": "code",
   "execution_count": 36,
   "id": "d560e4b7-5886-4122-bbd8-9eb9c99ecdd6",
   "metadata": {},
   "outputs": [
    {
     "name": "stdin",
     "output_type": "stream",
     "text": [
      "Enter the term of the Fibonacci sequence to calculate:  15\n"
     ]
    },
    {
     "name": "stdout",
     "output_type": "stream",
     "text": [
      "Fibonacci term: 610\n"
     ]
    }
   ],
   "source": [
    "# 37. Calculate the nth term of the Fibonacci sequence using memoization:\n",
    "def fibonacci(n, memo={}):\n",
    "    if n in memo:\n",
    "        return memo[n]\n",
    "    if n <= 1:\n",
    "        return n\n",
    "    memo[n] = fibonacci(n-1, memo) + fibonacci(n-2, memo)\n",
    "    return memo[n]\n",
    "\n",
    "term = int(input(\"Enter the term of the Fibonacci sequence to calculate: \"))\n",
    "print(\"Fibonacci term:\", fibonacci(term))"
   ]
  },
  {
   "cell_type": "code",
   "execution_count": 37,
   "id": "1ec56dd1-5b47-4755-a492-f202ec95dd78",
   "metadata": {},
   "outputs": [
    {
     "name": "stdin",
     "output_type": "stream",
     "text": [
      "Enter the year:  1884\n",
      "Enter the month (1-12):  5\n"
     ]
    },
    {
     "name": "stdout",
     "output_type": "stream",
     "text": [
      "             May 1884\n",
      "Mon Tue Wed Thu Fri Sat Sun\n",
      "                 1   2   3   4 \n",
      "  5   6   7   8   9  10  11 \n",
      " 12  13  14  15  16  17  18 \n",
      " 19  20  21  22  23  24  25 \n",
      " 26  27  28  29  30  31      \n"
     ]
    }
   ],
   "source": [
    "# 38. Generate a calendar for a given month and year using conditional statements:\n",
    "import calendar\n",
    "\n",
    "def generate_calendar(year, month):\n",
    "    cal = calendar.monthcalendar(year, month)\n",
    "    print(f\"{' ' * 13}{calendar.month_name[month]} {year}\")\n",
    "    print(\"Mon Tue Wed Thu Fri Sat Sun\")\n",
    "    for week in cal:\n",
    "        for day in week:\n",
    "            if day == 0:\n",
    "                print(\"    \", end=\" \")\n",
    "            else:\n",
    "                print(f\"{day:3}\", end=\" \")\n",
    "        print()\n",
    "\n",
    "# Example usage:\n",
    "year = int(input(\"Enter the year: \"))\n",
    "month = int(input(\"Enter the month (1-12): \"))\n",
    "generate_calendar(year, month)"
   ]
  },
  {
   "cell_type": "code",
   "execution_count": 38,
   "id": "195cfde4-7438-4328-b92f-046d6e0adb5d",
   "metadata": {},
   "outputs": [
    {
     "name": "stdout",
     "output_type": "stream",
     "text": [
      "Your cards: [7, 10], current score: 17\n",
      "Computer's first card: 6\n"
     ]
    },
    {
     "name": "stdin",
     "output_type": "stream",
     "text": [
      "Type 'hit' to get another card, or 'stand' to pass:  hit\n"
     ]
    },
    {
     "name": "stdout",
     "output_type": "stream",
     "text": [
      "Your cards: [7, 10, 6], current score: 23\n",
      "Your final hand: [7, 10, 6], final score: 23\n",
      "Computer's final hand: [6, 9, 1, 8], final score: 24\n",
      "You went over. You lose.\n"
     ]
    }
   ],
   "source": [
    "# 39. Simulate a basic text-based blackjack game against the computer:\n",
    "import random\n",
    "\n",
    "def deal_card():\n",
    "    return random.randint(1, 11)\n",
    "\n",
    "def calculate_score(cards):\n",
    "    if sum(cards) == 21 and len(cards) == 2:\n",
    "        return 0  # Blackjack\n",
    "    if 11 in cards and sum(cards) > 21:\n",
    "        cards.remove(11)\n",
    "        cards.append(1)\n",
    "    return sum(cards)\n",
    "\n",
    "def play_blackjack():\n",
    "    user_cards = [deal_card(), deal_card()]\n",
    "    computer_cards = [deal_card(), deal_card()]\n",
    "    user_score = calculate_score(user_cards)\n",
    "    computer_score = calculate_score(computer_cards)\n",
    "\n",
    "    print(f\"Your cards: {user_cards}, current score: {user_score}\")\n",
    "    print(f\"Computer's first card: {computer_cards[0]}\")\n",
    "\n",
    "    while user_score != 0 and user_score < 21:\n",
    "        action = input(\"Type 'hit' to get another card, or 'stand' to pass: \").lower()\n",
    "        if action == 'hit':\n",
    "            user_cards.append(deal_card())\n",
    "            user_score = calculate_score(user_cards)\n",
    "            print(f\"Your cards: {user_cards}, current score: {user_score}\")\n",
    "        elif action == 'stand':\n",
    "            break\n",
    "\n",
    "    while computer_score != 0 and computer_score < 17:\n",
    "        computer_cards.append(deal_card())\n",
    "        computer_score = calculate_score(computer_cards)\n",
    "\n",
    "    print(f\"Your final hand: {user_cards}, final score: {user_score}\")\n",
    "    print(f\"Computer's final hand: {computer_cards}, final score: {computer_score}\")\n",
    "\n",
    "    if user_score > 21:\n",
    "        print(\"You went over. You lose.\")\n",
    "    elif computer_score > 21 or user_score > computer_score:\n",
    "        print(\"You win!\")\n",
    "    elif user_score < computer_score:\n",
    "        print(\"You lose.\")\n",
    "    else:\n",
    "        print(\"It's a draw.\")\n",
    "\n",
    "# Example usage:\n",
    "play_blackjack()"
   ]
  },
  {
   "cell_type": "code",
   "execution_count": 39,
   "id": "d3e0f819-5e82-4d44-8df6-03f9d1f18cfb",
   "metadata": {},
   "outputs": [
    {
     "name": "stdin",
     "output_type": "stream",
     "text": [
      "Enter a number to find its prime factors:  45\n"
     ]
    },
    {
     "name": "stdout",
     "output_type": "stream",
     "text": [
      "Prime factors: [3, 3, 5]\n"
     ]
    }
   ],
   "source": [
    "# 40. Generate the prime factors of a given number using trial division:\n",
    "def prime_factors(n):\n",
    "    factors = []\n",
    "    divisor = 2\n",
    "    while n > 1:\n",
    "        while n % divisor == 0:\n",
    "            factors.append(divisor)\n",
    "            n //= divisor\n",
    "        divisor += 1\n",
    "    return factors\n",
    "\n",
    "number = int(input(\"Enter a number to find its prime factors: \"))\n",
    "print(\"Prime factors:\", prime_factors(number))"
   ]
  },
  {
   "cell_type": "code",
   "execution_count": null,
   "id": "a4f6f369-be30-42ad-877b-3280058decb0",
   "metadata": {},
   "outputs": [],
   "source": []
  }
 ],
 "metadata": {
  "kernelspec": {
   "display_name": "Python 3 (ipykernel)",
   "language": "python",
   "name": "python3"
  },
  "language_info": {
   "codemirror_mode": {
    "name": "ipython",
    "version": 3
   },
   "file_extension": ".py",
   "mimetype": "text/x-python",
   "name": "python",
   "nbconvert_exporter": "python",
   "pygments_lexer": "ipython3",
   "version": "3.10.8"
  }
 },
 "nbformat": 4,
 "nbformat_minor": 5
}
