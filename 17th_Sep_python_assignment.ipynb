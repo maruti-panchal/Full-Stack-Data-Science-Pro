{
 "cells": [
  {
   "cell_type": "markdown",
   "id": "934b07cf-c4e7-4fe2-8f11-0c349b71efe7",
   "metadata": {},
   "source": [
    "### For Loop :-\n"
   ]
  },
  {
   "cell_type": "code",
   "execution_count": 1,
   "id": "67f6a80f-52a4-467c-9720-cefcb9837f2d",
   "metadata": {},
   "outputs": [
    {
     "name": "stdout",
     "output_type": "stream",
     "text": [
      "1\n",
      "2\n",
      "3\n",
      "4\n",
      "5\n",
      "6\n",
      "7\n",
      "8\n",
      "9\n",
      "10\n"
     ]
    }
   ],
   "source": [
    "# 1. Write a Python program to print numbers from 1 to 10 using a for loop.\n",
    "for i in range(1, 11):\n",
    "    print(i)"
   ]
  },
  {
   "cell_type": "code",
   "execution_count": 2,
   "id": "771f85ad-042f-4346-8606-fc04406c9b4d",
   "metadata": {},
   "outputs": [
    {
     "data": {
      "text/plain": [
       "\"\\nIn Python, a for loop is used to iterate over a sequence (such as a list, tuple, string, or range),\\nexecuting a block of code for each item in the sequence. The loop terminates when it has iterated\\nover all items in the sequence.\\n\\nOn the other hand, a while loop repeatedly executes a block of code as long as a specified condition\\nis true. The loop continues to execute until the condition becomes false. Unlike a for loop, a while\\nloop doesn't require a sequence; it relies solely on the condition provided.\\n\""
      ]
     },
     "execution_count": 2,
     "metadata": {},
     "output_type": "execute_result"
    }
   ],
   "source": [
    "# 2. Explain the difference between a for loop and a while loop in Python.\n",
    "\"\"\"\n",
    "In Python, a for loop is used to iterate over a sequence (such as a list, tuple, string, or range),\n",
    "executing a block of code for each item in the sequence. The loop terminates when it has iterated\n",
    "over all items in the sequence.\n",
    "\n",
    "On the other hand, a while loop repeatedly executes a block of code as long as a specified condition\n",
    "is true. The loop continues to execute until the condition becomes false. Unlike a for loop, a while\n",
    "loop doesn't require a sequence; it relies solely on the condition provided.\n",
    "\"\"\""
   ]
  },
  {
   "cell_type": "code",
   "execution_count": 3,
   "id": "1471e98e-e4db-4546-821a-416888291a1d",
   "metadata": {},
   "outputs": [
    {
     "name": "stdout",
     "output_type": "stream",
     "text": [
      "Sum of numbers from 1 to 100: 5050\n"
     ]
    }
   ],
   "source": [
    "# 3. Write a Python program to calculate the sum of all numbers from 1 to 100 using a for loop.\n",
    "total = 0\n",
    "for i in range(1, 101):\n",
    "    total += i\n",
    "print(\"Sum of numbers from 1 to 100:\", total)"
   ]
  },
  {
   "cell_type": "code",
   "execution_count": null,
   "id": "1107434e-2b22-4869-9a4f-09771a180778",
   "metadata": {},
   "outputs": [],
   "source": [
    "# 4. How do you iterate through a list using a for loop in Python?\n",
    "\"\"\"\n",
    "In Python, you can iterate through a list using a for loop by specifying the list as the iterable\n",
    "object in the for loop header. The loop will iterate over each element in the list, executing the\n",
    "block of code within the loop for each element.\n",
    "\"\"\""
   ]
  },
  {
   "cell_type": "code",
   "execution_count": 4,
   "id": "7146f8a9-48a9-4fca-a770-11844f563cd0",
   "metadata": {},
   "outputs": [
    {
     "name": "stdout",
     "output_type": "stream",
     "text": [
      "Product of elements in the list: 120\n"
     ]
    }
   ],
   "source": [
    "# 5. Write a Python program to find the product of all elements in a list using a for loop.\n",
    "numbers = [1, 2, 3, 4, 5]\n",
    "product = 1\n",
    "for num in numbers:\n",
    "    product *= num\n",
    "print(\"Product of elements in the list:\", product)"
   ]
  },
  {
   "cell_type": "code",
   "execution_count": 5,
   "id": "0b183b7c-67bf-4606-a7c4-4cd2d4c5f19d",
   "metadata": {},
   "outputs": [
    {
     "name": "stdout",
     "output_type": "stream",
     "text": [
      "2\n",
      "4\n",
      "6\n",
      "8\n",
      "10\n",
      "12\n",
      "14\n",
      "16\n",
      "18\n",
      "20\n"
     ]
    }
   ],
   "source": [
    "# 6. Create a Python program that prints all even numbers from 1 to 20 using a for loop.\n",
    "for i in range(2, 21, 2):\n",
    "    print(i)"
   ]
  },
  {
   "cell_type": "code",
   "execution_count": 6,
   "id": "82a2b842-4a3a-4e27-bca9-1e5caf0fcaa4",
   "metadata": {},
   "outputs": [
    {
     "name": "stdin",
     "output_type": "stream",
     "text": [
      "Enter a number:  10\n"
     ]
    },
    {
     "name": "stdout",
     "output_type": "stream",
     "text": [
      "Factorial of 10 : 3628800\n"
     ]
    }
   ],
   "source": [
    "# 7. Write a Python program that calculates the factorial of a number using a for loop.\n",
    "num = int(input(\"Enter a number: \"))\n",
    "factorial = 1\n",
    "for i in range(1, num + 1):\n",
    "    factorial *= i\n",
    "print(\"Factorial of\", num, \":\", factorial)"
   ]
  },
  {
   "cell_type": "code",
   "execution_count": 7,
   "id": "e4cd6c29-0410-4e4b-99a2-83d078786311",
   "metadata": {},
   "outputs": [
    {
     "data": {
      "text/plain": [
       "'\\nIn Python, you can iterate through the characters of a string using a for loop by treating the\\nstring as an iterable object. The loop will iterate over each character in the string, executing\\nthe block of code within the loop for each character.\\n'"
      ]
     },
     "execution_count": 7,
     "metadata": {},
     "output_type": "execute_result"
    }
   ],
   "source": [
    "# 8. How can you iterate through the characters of a string using a for loop in Python?\n",
    "\"\"\"\n",
    "In Python, you can iterate through the characters of a string using a for loop by treating the\n",
    "string as an iterable object. The loop will iterate over each character in the string, executing\n",
    "the block of code within the loop for each character.\n",
    "\"\"\""
   ]
  },
  {
   "cell_type": "code",
   "execution_count": 8,
   "id": "47412b2b-6b56-424d-80f1-ca4367e29329",
   "metadata": {},
   "outputs": [
    {
     "name": "stdout",
     "output_type": "stream",
     "text": [
      "Largest number in the list: 8\n"
     ]
    }
   ],
   "source": [
    "# 9. Write a Python program to find the largest number in a list using a for loop.\n",
    "numbers = [5, 3, 8, 2, 7]\n",
    "largest = numbers[0]\n",
    "for num in numbers:\n",
    "    if num > largest:\n",
    "        largest = num\n",
    "print(\"Largest number in the list:\", largest)"
   ]
  },
  {
   "cell_type": "code",
   "execution_count": 9,
   "id": "bd93aa42-fdf5-4089-8770-68b5d780495f",
   "metadata": {},
   "outputs": [
    {
     "name": "stdin",
     "output_type": "stream",
     "text": [
      "Enter the limit for Fibonacci sequence:  50\n"
     ]
    },
    {
     "name": "stdout",
     "output_type": "stream",
     "text": [
      "Fibonacci sequence up to 50 : [0, 1, 1, 2, 3, 5, 8, 13, 21, 34]\n"
     ]
    }
   ],
   "source": [
    "# 10. Create a Python program that prints the Fibonacci sequence up to a specified limit using a for loop.\n",
    "limit = int(input(\"Enter the limit for Fibonacci sequence: \"))\n",
    "fibonacci_sequence = [0, 1]\n",
    "for i in range(2, limit):\n",
    "    next_fibonacci = fibonacci_sequence[-1] + fibonacci_sequence[-2]\n",
    "    if next_fibonacci > limit:\n",
    "        break\n",
    "    fibonacci_sequence.append(next_fibonacci)\n",
    "print(\"Fibonacci sequence up to\", limit, \":\", fibonacci_sequence)"
   ]
  },
  {
   "cell_type": "code",
   "execution_count": 12,
   "id": "def65ccd-1ae3-431b-ba78-992f2ba06f3e",
   "metadata": {},
   "outputs": [
    {
     "name": "stdin",
     "output_type": "stream",
     "text": [
      "Enter a string:  maruti\n"
     ]
    },
    {
     "name": "stdout",
     "output_type": "stream",
     "text": [
      "Number of vowels in the string: 3\n"
     ]
    }
   ],
   "source": [
    "# 11. Write a Python program to count the number of vowels in a given string using a for loop.\n",
    "def count_vowels(string):\n",
    "    vowels = \"aeiouAEIOU\"\n",
    "    count = 0\n",
    "    for char in string:\n",
    "        if char in vowels:\n",
    "            count += 1\n",
    "    return count\n",
    "string = input(\"Enter a string: \")\n",
    "print(\"Number of vowels in the string:\", count_vowels(string))"
   ]
  },
  {
   "cell_type": "code",
   "execution_count": 17,
   "id": "880c83e0-0c2f-4e12-b997-d2018ddf3811",
   "metadata": {},
   "outputs": [
    {
     "name": "stdin",
     "output_type": "stream",
     "text": [
      "Enter a number:  2\n"
     ]
    },
    {
     "name": "stdout",
     "output_type": "stream",
     "text": [
      "2 x 1 = 2\n",
      "2 x 2 = 4\n",
      "2 x 3 = 6\n",
      "2 x 4 = 8\n",
      "2 x 5 = 10\n",
      "2 x 6 = 12\n",
      "2 x 7 = 14\n",
      "2 x 8 = 16\n",
      "2 x 9 = 18\n",
      "2 x 10 = 20\n"
     ]
    }
   ],
   "source": [
    "# 12. Create a Python program that generates a multiplication table for a given number using a for loop.\n",
    "def multiplication_table(number):\n",
    "    for i in range(1, 11):\n",
    "        print(f\"{number} x {i} = {number * i}\")\n",
    "\n",
    "\n",
    "number = int(input(\"Enter a number: \"))\n",
    "multiplication_table(number)"
   ]
  },
  {
   "cell_type": "code",
   "execution_count": 16,
   "id": "58a15489-a70b-423f-846f-204b7680bf4e",
   "metadata": {},
   "outputs": [
    {
     "name": "stdout",
     "output_type": "stream",
     "text": [
      "Original list: [1, 2, 3, 4, 5]\n",
      "Reversed list: [5, 4, 3, 2, 1]\n"
     ]
    }
   ],
   "source": [
    "# 13. Write a Python program to reverse a list using a for loop.\n",
    "def reverse_list(lst):\n",
    "    reversed_lst = []\n",
    "    for i in range(len(lst) - 1, -1, -1):\n",
    "        reversed_lst.append(lst[i])\n",
    "    return reversed_lst\n",
    "\n",
    "\n",
    "lst = [1, 2, 3, 4, 5]\n",
    "print(\"Original list:\", lst)\n",
    "print(\"Reversed list:\", reverse_list(lst))"
   ]
  },
  {
   "cell_type": "code",
   "execution_count": 18,
   "id": "39d3d7ed-db60-4c51-93cc-e66c7f2a762d",
   "metadata": {},
   "outputs": [
    {
     "name": "stdout",
     "output_type": "stream",
     "text": [
      "Common elements between the lists: [4, 5]\n"
     ]
    }
   ],
   "source": [
    "# 14. Write a Python program to find the common elements between two lists using a for loop.\n",
    "def find_common_elements(list1, list2):\n",
    "    common_elements = []\n",
    "    for element in list1:\n",
    "        if element in list2:\n",
    "            common_elements.append(element)\n",
    "    return common_elements\n",
    "\n",
    "\n",
    "list1 = [1, 2, 3, 4, 5]\n",
    "list2 = [4, 5, 6, 7, 8]\n",
    "print(\"Common elements between the lists:\", find_common_elements(list1, list2))"
   ]
  },
  {
   "cell_type": "code",
   "execution_count": null,
   "id": "884344e6-99b0-41d2-a0ad-73121fdeca65",
   "metadata": {},
   "outputs": [],
   "source": [
    "# 15. Explain how to use a for loop to iterate through the keys and values of a dictionary in Python.\n",
    "\"\"\"\n",
    "In Python, you can use the items() method of a dictionary to iterate through its key-value pairs.\n",
    "In a for loop, you can unpack each key-value pair as a tuple and then access the key and value\n",
    "individually within the loop.\n",
    "Example:\n",
    "dictionary = {'a': 1, 'b': 2, 'c': 3}\n",
    "for key, value in dictionary.items():\n",
    "    print(key, value)\n",
    "\"\"\""
   ]
  },
  {
   "cell_type": "code",
   "execution_count": 20,
   "id": "e3495f47-bf86-4491-911a-7a762b06d43f",
   "metadata": {},
   "outputs": [
    {
     "name": "stdin",
     "output_type": "stream",
     "text": [
      "Enter the first number:  32\n",
      "Enter the second number:  12\n"
     ]
    },
    {
     "name": "stdout",
     "output_type": "stream",
     "text": [
      "GCD of 32 and 12 : 4\n"
     ]
    }
   ],
   "source": [
    "# 16. Write a Python program to find the GCD (Greatest Common Divisor) of two numbers using a for loop.\n",
    "def gcd(num1, num2):\n",
    "    for i in range(min(num1, num2), 0, -1):\n",
    "        if num1 % i == 0 and num2 % i == 0:\n",
    "            return i\n",
    "\n",
    "num1 = int(input(\"Enter the first number: \"))\n",
    "num2 = int(input(\"Enter the second number: \"))\n",
    "print(\"GCD of\", num1, \"and\", num2, \":\", gcd(num1, num2))"
   ]
  },
  {
   "cell_type": "code",
   "execution_count": 21,
   "id": "1ab2c894-b864-4473-9d7a-0d6df7a49c3e",
   "metadata": {},
   "outputs": [
    {
     "name": "stdin",
     "output_type": "stream",
     "text": [
      "Enter a string:  level\n"
     ]
    },
    {
     "name": "stdout",
     "output_type": "stream",
     "text": [
      "The string is a palindrome.\n"
     ]
    }
   ],
   "source": [
    "# 17. Create a Python program that checks if a string is a palindrome using a for loop.\n",
    "def is_palindrome(string):\n",
    "    for i in range(len(string) // 2):\n",
    "        if string[i] != string[-(i + 1)]:\n",
    "            return False\n",
    "    return True\n",
    "\n",
    "string = input(\"Enter a string: \")\n",
    "if is_palindrome(string):\n",
    "    print(\"The string is a palindrome.\")\n",
    "else:\n",
    "    print(\"The string is not a palindrome.\")"
   ]
  },
  {
   "cell_type": "code",
   "execution_count": 22,
   "id": "11b193d0-538f-4021-b77e-11afe25167f9",
   "metadata": {},
   "outputs": [
    {
     "name": "stdout",
     "output_type": "stream",
     "text": [
      "Original list: [1, 2, 3, 2, 4, 5, 1, 6]\n",
      "List after removing duplicates: [1, 2, 3, 4, 5, 6]\n"
     ]
    }
   ],
   "source": [
    "# 18. Write a Python program to remove duplicates from a list using a for loop.\n",
    "def remove_duplicates(lst):\n",
    "    unique_elements = []\n",
    "    for element in lst:\n",
    "        if element not in unique_elements:\n",
    "            unique_elements.append(element)\n",
    "    return unique_elements\n",
    "\n",
    "\n",
    "lst = [1, 2, 3, 2, 4, 5, 1, 6]\n",
    "print(\"Original list:\", lst)\n",
    "print(\"List after removing duplicates:\", remove_duplicates(lst))"
   ]
  },
  {
   "cell_type": "code",
   "execution_count": 25,
   "id": "0caff7dc-4427-46fd-8f78-47d725f65bcb",
   "metadata": {},
   "outputs": [
    {
     "name": "stdin",
     "output_type": "stream",
     "text": [
      "Enter a sentence:  hello how are you\n"
     ]
    },
    {
     "name": "stdout",
     "output_type": "stream",
     "text": [
      "Number of words in the sentence: 4\n"
     ]
    }
   ],
   "source": [
    "# 19. Create a Python program that counts the number of words in a sentence using a for loop.\n",
    "def count_words(sentence):\n",
    "    words = sentence.split()\n",
    "    return len(words)\n",
    "\n",
    "sentence = input(\"Enter a sentence: \")\n",
    "print(\"Number of words in the sentence:\", count_words(sentence))\n"
   ]
  },
  {
   "cell_type": "code",
   "execution_count": 26,
   "id": "efd91ea3-014c-422f-9a6c-ed2005721038",
   "metadata": {},
   "outputs": [
    {
     "name": "stdout",
     "output_type": "stream",
     "text": [
      "Sum of all odd numbers from 1 to 50: 625\n"
     ]
    }
   ],
   "source": [
    "\n",
    "# 20. Write a Python program to find the sum of all odd numbers from 1 to 50 using a for loop.\n",
    "def sum_odd_numbers():\n",
    "    total = 0\n",
    "    for i in range(1, 51, 2):\n",
    "        total += i\n",
    "    return total\n",
    "\n",
    "print(\"Sum of all odd numbers from 1 to 50:\", sum_odd_numbers())"
   ]
  },
  {
   "cell_type": "code",
   "execution_count": 27,
   "id": "07e56c6e-ed99-40ac-8747-959b8da5b29d",
   "metadata": {},
   "outputs": [
    {
     "name": "stdin",
     "output_type": "stream",
     "text": [
      "Enter a year:  1884\n"
     ]
    },
    {
     "name": "stdout",
     "output_type": "stream",
     "text": [
      "1884 is a leap year.\n"
     ]
    }
   ],
   "source": [
    "# 21. Write a Python program that checks if a given year is a leap year using a for loop.\n",
    "def is_leap_year(year):\n",
    "    if (year % 4 == 0 and year % 100 != 0) or (year % 400 == 0):\n",
    "        return True\n",
    "    else:\n",
    "        return False\n",
    "\n",
    "year = int(input(\"Enter a year: \"))\n",
    "if is_leap_year(year):\n",
    "    print(year, \"is a leap year.\")\n",
    "else:\n",
    "    print(year, \"is not a leap year.\")"
   ]
  },
  {
   "cell_type": "code",
   "execution_count": 28,
   "id": "43e5e283-6b7e-4a24-8f0a-ae28ce7feebb",
   "metadata": {},
   "outputs": [
    {
     "name": "stdin",
     "output_type": "stream",
     "text": [
      "Enter a number:  12\n"
     ]
    },
    {
     "name": "stdout",
     "output_type": "stream",
     "text": [
      "Square root of 12.0 : 3.4641016151377544\n"
     ]
    }
   ],
   "source": [
    "# 22. Create a Python program that calculates the square root of a number using a for loop.\n",
    "def square_root(num):\n",
    "    if num < 0:\n",
    "        return \"Cannot calculate square root of a negative number.\"\n",
    "    guess = num / 2\n",
    "    for _ in range(10):  # Number of iterations\n",
    "        guess = (guess + num / guess) / 2\n",
    "    return guess\n",
    "\n",
    "\n",
    "num = float(input(\"Enter a number: \"))\n",
    "print(\"Square root of\", num, \":\", square_root(num))\n",
    "\n"
   ]
  },
  {
   "cell_type": "code",
   "execution_count": 30,
   "id": "24825360-7d62-461f-8d6c-4b1419a15360",
   "metadata": {},
   "outputs": [
    {
     "name": "stdin",
     "output_type": "stream",
     "text": [
      "Enter the first number:  121\n",
      "Enter the second number:  232\n"
     ]
    },
    {
     "name": "stdout",
     "output_type": "stream",
     "text": [
      "LCM of 121 and 232 : 28072\n"
     ]
    }
   ],
   "source": [
    "# 23. Write a Python program to find the LCM (Least Common Multiple) of two numbers using a for loop.\n",
    "def lcm(num1, num2):\n",
    "    for i in range(max(num1, num2), num1 * num2 + 1):\n",
    "        if i % num1 == 0 and i % num2 == 0:\n",
    "            return i\n",
    "\n",
    "\n",
    "num1 = int(input(\"Enter the first number: \"))\n",
    "num2 = int(input(\"Enter the second number: \"))\n",
    "print(\"LCM of\", num1, \"and\", num2, \":\", lcm(num1, num2))"
   ]
  },
  {
   "cell_type": "markdown",
   "id": "a17af6e9-ff51-43bb-989c-485a2636b88e",
   "metadata": {},
   "source": [
    "### if else"
   ]
  },
  {
   "cell_type": "code",
   "execution_count": 40,
   "id": "137acefd-48b7-4844-b28a-052146d0c26c",
   "metadata": {},
   "outputs": [
    {
     "name": "stdin",
     "output_type": "stream",
     "text": [
      "Enter a number:  -9\n"
     ]
    },
    {
     "name": "stdout",
     "output_type": "stream",
     "text": [
      "The number is negative.\n"
     ]
    }
   ],
   "source": [
    "# 17. Write a Python program to check if a number is positive, negative, or zero using an if-else statement.\n",
    "def check_number(number):\n",
    "    if number > 0:\n",
    "        print(\"The number is positive.\")\n",
    "    elif number < 0:\n",
    "        print(\"The number is negative.\")\n",
    "    else:\n",
    "        print(\"The number is zero.\")\n",
    "\n",
    "num = float(input(\"Enter a number: \"))\n",
    "check_number(num)\n"
   ]
  },
  {
   "cell_type": "code",
   "execution_count": null,
   "id": "04ae6331-891c-4e7b-b464-5241d3b10d97",
   "metadata": {},
   "outputs": [],
   "source": [
    "# 18. Create a Python program that checks if a given number is even or odd using an if-else statement.\n",
    "def check_even_odd(number):\n",
    "    if number % 2 == 0:\n",
    "        print(\"The number is even.\")\n",
    "    else:\n",
    "        print(\"The number is odd.\")\n",
    "\n",
    "num = int(input(\"Enter a number: \"))\n",
    "check_even_odd(num)"
   ]
  },
  {
   "cell_type": "code",
   "execution_count": 32,
   "id": "72623e7c-8a62-4ea2-802e-24b86dd2ee2c",
   "metadata": {},
   "outputs": [
    {
     "name": "stdin",
     "output_type": "stream",
     "text": [
      "Enter a number:  1\n"
     ]
    },
    {
     "name": "stdout",
     "output_type": "stream",
     "text": [
      "The number is positive.\n",
      "The number is positive but not even.\n"
     ]
    }
   ],
   "source": [
    "# 19. How can you use nested if-else statements in Python, and provide an example?\n",
    "\"\"\"\n",
    "Nested if-else statements in Python allow you to have if-else statements inside other if or else blocks.\n",
    "This is useful for implementing multiple levels of conditions.\"\"\"\n",
    "\n",
    "\n",
    "num = int(input(\"Enter a number: \"))\n",
    "if num > 0:\n",
    "    print(\"The number is positive.\")\n",
    "    if num % 2 == 0:\n",
    "        print(\"The number is also even.\")\n",
    "    else:\n",
    "        print(\"The number is positive but not even.\")\n",
    "elif num < 0:\n",
    "    print(\"The number is negative.\")\n",
    "else:\n",
    "    print(\"The number is zero.\")\n"
   ]
  },
  {
   "cell_type": "code",
   "execution_count": 33,
   "id": "87b93363-2b83-472f-bcc7-6f2001c854a1",
   "metadata": {},
   "outputs": [
    {
     "name": "stdin",
     "output_type": "stream",
     "text": [
      "Enter the first number:  34\n",
      "Enter the second number:  1\n",
      "Enter the third number:  78\n"
     ]
    },
    {
     "name": "stdout",
     "output_type": "stream",
     "text": [
      "Largest number: 78.0\n"
     ]
    }
   ],
   "source": [
    "# 20. Write a Python program to determine the largest of three numbers using if-else.\n",
    "def find_largest(num1, num2, num3):\n",
    "    if num1 >= num2 and num1 >= num3:\n",
    "        return num1\n",
    "    elif num2 >= num1 and num2 >= num3:\n",
    "        return num2\n",
    "    else:\n",
    "        return num3\n",
    "\n",
    "\n",
    "num1 = float(input(\"Enter the first number: \"))\n",
    "num2 = float(input(\"Enter the second number: \"))\n",
    "num3 = float(input(\"Enter the third number: \"))\n",
    "print(\"Largest number:\", find_largest(num1, num2, num3))\n"
   ]
  },
  {
   "cell_type": "code",
   "execution_count": 34,
   "id": "84f3da24-bb98-460e-960b-a72b6f7fce64",
   "metadata": {},
   "outputs": [
    {
     "name": "stdin",
     "output_type": "stream",
     "text": [
      "Enter a number:  -7\n"
     ]
    },
    {
     "name": "stdout",
     "output_type": "stream",
     "text": [
      "Absolute value: 7.0\n"
     ]
    }
   ],
   "source": [
    "# 21. Write a Python program that calculates the absolute value of a number using if-else.\n",
    "def absolute_value(number):\n",
    "    if number >= 0:\n",
    "        return number\n",
    "    else:\n",
    "        return -number\n",
    "\n",
    "num = float(input(\"Enter a number: \"))\n",
    "print(\"Absolute value:\", absolute_value(num))"
   ]
  },
  {
   "cell_type": "code",
   "execution_count": 35,
   "id": "c515d1dc-20bc-49eb-8918-447ee17a46b5",
   "metadata": {},
   "outputs": [
    {
     "name": "stdin",
     "output_type": "stream",
     "text": [
      "Enter a character:  u\n"
     ]
    },
    {
     "name": "stdout",
     "output_type": "stream",
     "text": [
      "The character is a vowel.\n"
     ]
    }
   ],
   "source": [
    "# 22. Create a Python program that checks if a given character is a vowel or consonant using if-else.\n",
    "def check_vowel_consonant(char):\n",
    "    if char.lower() in 'aeiou':\n",
    "        print(\"The character is a vowel.\")\n",
    "    else:\n",
    "        print(\"The character is a consonant.\")\n",
    "\n",
    "\n",
    "character = input(\"Enter a character: \")\n",
    "if len(character) == 1 and character.isalpha():\n",
    "    check_vowel_consonant(character)\n",
    "else:\n",
    "    print(\"Please enter a valid single character.\")"
   ]
  },
  {
   "cell_type": "code",
   "execution_count": 36,
   "id": "f4d8881b-c527-4739-a4d1-358ec883281a",
   "metadata": {},
   "outputs": [
    {
     "name": "stdin",
     "output_type": "stream",
     "text": [
      "Enter your age:  34\n"
     ]
    },
    {
     "name": "stdout",
     "output_type": "stream",
     "text": [
      "You are eligible to vote.\n"
     ]
    }
   ],
   "source": [
    "# 23. Write a Python program to determine if a user is eligible to vote based on their age using if-else.\n",
    "def check_voting_eligibility(age):\n",
    "    if age >= 18:\n",
    "        print(\"You are eligible to vote.\")\n",
    "    else:\n",
    "        print(\"You are not eligible to vote yet.\")\n",
    "\n",
    "age = int(input(\"Enter your age: \"))\n",
    "check_voting_eligibility(age)"
   ]
  },
  {
   "cell_type": "code",
   "execution_count": 37,
   "id": "957e7927-def1-48df-ab04-4c925e864502",
   "metadata": {},
   "outputs": [
    {
     "name": "stdin",
     "output_type": "stream",
     "text": [
      "Enter the purchase amount:  3000\n"
     ]
    },
    {
     "name": "stdout",
     "output_type": "stream",
     "text": [
      "Discount amount: 300.0\n"
     ]
    }
   ],
   "source": [
    "\n",
    "# 24. Create a Python program that calculates the discount amount based on the purchase amount using if-else.\n",
    "def calculate_discount(purchase_amount):\n",
    "    if purchase_amount >= 100:\n",
    "        discount = 0.1 * purchase_amount\n",
    "    else:\n",
    "        discount = 0\n",
    "    return discount\n",
    "\n",
    "amount = float(input(\"Enter the purchase amount: \"))\n",
    "print(\"Discount amount:\", calculate_discount(amount))"
   ]
  },
  {
   "cell_type": "code",
   "execution_count": 38,
   "id": "6d226f4c-2530-4a43-b826-2a8570510a92",
   "metadata": {},
   "outputs": [
    {
     "name": "stdin",
     "output_type": "stream",
     "text": [
      "Enter a number:  23\n",
      "Enter the lower bound of the range:  21\n",
      "Enter the upper bound of the range:  23\n"
     ]
    },
    {
     "name": "stdout",
     "output_type": "stream",
     "text": [
      "The number is within the specified range.\n"
     ]
    }
   ],
   "source": [
    "\n",
    "# 25. Write a Python program to check if a number is within a specified range using if-else.\n",
    "def check_number_range(number, lower_bound, upper_bound):\n",
    "    if lower_bound <= number <= upper_bound:\n",
    "        print(\"The number is within the specified range.\")\n",
    "    else:\n",
    "        print(\"The number is not within the specified range.\")\n",
    "\n",
    "num = float(input(\"Enter a number: \"))\n",
    "lower = float(input(\"Enter the lower bound of the range: \"))\n",
    "upper = float(input(\"Enter the upper bound of the range: \"))\n",
    "check_number_range(num, lower, upper)"
   ]
  },
  {
   "cell_type": "code",
   "execution_count": 39,
   "id": "71d5d6fd-f5a6-41dd-8d97-36721cfdbebe",
   "metadata": {},
   "outputs": [
    {
     "name": "stdin",
     "output_type": "stream",
     "text": [
      "Enter the student's score:  90\n"
     ]
    },
    {
     "name": "stdout",
     "output_type": "stream",
     "text": [
      "Grade: A\n"
     ]
    }
   ],
   "source": [
    "# 26. Create a Python program that determines the grade of a student based on their score using if-else.\n",
    "def calculate_grade(score):\n",
    "    if score >= 90:\n",
    "        return 'A'\n",
    "    elif score >= 80:\n",
    "        return 'B'\n",
    "    elif score >= 70:\n",
    "        return 'C'\n",
    "    elif score >= 60:\n",
    "        return 'D'\n",
    "    else:\n",
    "        return 'F'\n",
    "\n",
    "marks = float(input(\"Enter the student's score: \"))\n",
    "print(\"Grade:\", calculate_grade(marks))"
   ]
  },
  {
   "cell_type": "code",
   "execution_count": 41,
   "id": "ab7d0d9a-1a55-4537-b259-25b36bdc6862",
   "metadata": {},
   "outputs": [
    {
     "name": "stdin",
     "output_type": "stream",
     "text": [
      "Enter a string:  maruti\n"
     ]
    },
    {
     "name": "stdout",
     "output_type": "stream",
     "text": [
      "The string is not empty.\n"
     ]
    }
   ],
   "source": [
    "# 27. Write a Python program to check if a string is empty or not using if-else.\n",
    "def check_empty_string(string):\n",
    "    if string:\n",
    "        print(\"The string is not empty.\")\n",
    "    else:\n",
    "        print(\"The string is empty.\")\n",
    "\n",
    "input_string = input(\"Enter a string: \")\n",
    "check_empty_string(input_string)"
   ]
  },
  {
   "cell_type": "code",
   "execution_count": 42,
   "id": "ad6468d6-4216-4051-80f4-e0b2edb8e1b8",
   "metadata": {},
   "outputs": [
    {
     "name": "stdin",
     "output_type": "stream",
     "text": [
      "Enter length of side 1:  30\n",
      "Enter length of side 2:  30\n",
      "Enter length of side 3:  30\n"
     ]
    },
    {
     "name": "stdout",
     "output_type": "stream",
     "text": [
      "Triangle type: Equilateral Triangle\n"
     ]
    }
   ],
   "source": [
    "# 28. Create a Python program that identifies the type of a triangle based on input values using if-else.\n",
    "def triangle_type(side1, side2, side3):\n",
    "    if side1 == side2 == side3:\n",
    "        return \"Equilateral Triangle\"\n",
    "    elif side1 == side2 or side1 == side3 or side2 == side3:\n",
    "        return \"Isosceles Triangle\"\n",
    "    else:\n",
    "        return \"Scalene Triangle\"\n",
    "\n",
    "a = float(input(\"Enter length of side 1: \"))\n",
    "b = float(input(\"Enter length of side 2: \"))\n",
    "c = float(input(\"Enter length of side 3: \"))\n",
    "print(\"Triangle type:\", triangle_type(a, b, c))"
   ]
  },
  {
   "cell_type": "code",
   "execution_count": 43,
   "id": "363a8ff6-1c3a-48cc-a48c-880436d8ec4f",
   "metadata": {},
   "outputs": [
    {
     "name": "stdin",
     "output_type": "stream",
     "text": [
      "Enter the day number (1-7):  4\n"
     ]
    },
    {
     "name": "stdout",
     "output_type": "stream",
     "text": [
      "Day of the week: Thursday\n"
     ]
    }
   ],
   "source": [
    "# 29. Write a Python program to determine the day of the week based on a user-provided number using if-else.\n",
    "def determine_day_of_week(day_number):\n",
    "    if day_number == 1:\n",
    "        return \"Monday\"\n",
    "    elif day_number == 2:\n",
    "        return \"Tuesday\"\n",
    "    elif day_number == 3:\n",
    "        return \"Wednesday\"\n",
    "    elif day_number == 4:\n",
    "        return \"Thursday\"\n",
    "    elif day_number == 5:\n",
    "        return \"Friday\"\n",
    "    elif day_number == 6:\n",
    "        return \"Saturday\"\n",
    "    elif day_number == 7:\n",
    "        return \"Sunday\"\n",
    "    else:\n",
    "        return \"Invalid day number\"\n",
    "\n",
    "day_num = int(input(\"Enter the day number (1-7): \"))\n",
    "print(\"Day of the week:\", determine_day_of_week(day_num))"
   ]
  },
  {
   "cell_type": "code",
   "execution_count": 44,
   "id": "37712821-4409-4975-90ae-6f0916a3ef8a",
   "metadata": {},
   "outputs": [
    {
     "name": "stdin",
     "output_type": "stream",
     "text": [
      "Enter a year:  1884\n"
     ]
    },
    {
     "name": "stdout",
     "output_type": "stream",
     "text": [
      "1884 is a leap year.\n"
     ]
    }
   ],
   "source": [
    "# 30. Create a Python program that checks if a given year is a leap year using both if-else and a function.\n",
    "def is_leap_year(year):\n",
    "    if (year % 4 == 0 and year % 100 != 0) or (year % 400 == 0):\n",
    "        return True\n",
    "    else:\n",
    "        return False\n",
    "\n",
    "year = int(input(\"Enter a year: \"))\n",
    "if is_leap_year(year):\n",
    "    print(year, \"is a leap year.\")\n",
    "else:\n",
    "    print(year, \"is not a leap year.\")"
   ]
  },
  {
   "cell_type": "code",
   "execution_count": null,
   "id": "430a2699-2327-4cf5-8117-68ef5b484677",
   "metadata": {},
   "outputs": [],
   "source": [
    "# 31. How do you use the \"assert\" statement in Python to add debugging checks within if-else blocks?\n",
    "\"\"\"\n",
    "The \"assert\" statement in Python is used to assert that a certain condition is true. If the condition\n",
    "evaluates to False, an AssertionError is raised, halting the program's execution.\n",
    "\n",
    "Example:\n",
    "num = 10\n",
    "assert num >= 0, \"Number must be non-negative\"\n",
    "\n",
    "In if-else blocks, you can use assert to add debugging checks by asserting conditions that you expect\n",
    "to be true. If the condition fails, the program will halt with an error message, helping you identify\n",
    "the issue.\n",
    "\"\"\""
   ]
  },
  {
   "cell_type": "code",
   "execution_count": 45,
   "id": "0cc064a7-9560-4d71-8c7d-77660dfd2368",
   "metadata": {},
   "outputs": [
    {
     "name": "stdin",
     "output_type": "stream",
     "text": [
      "Enter your age:  55\n"
     ]
    },
    {
     "name": "stdout",
     "output_type": "stream",
     "text": [
      "You are not eligible for a senior citizen discount.\n"
     ]
    }
   ],
   "source": [
    "# 32. Create a Python program that determines the eligibility of a person for a senior citizen discount based on age using if-else.\n",
    "def check_senior_citizen(age):\n",
    "    if age >= 60:\n",
    "        print(\"You are eligible for a senior citizen discount.\")\n",
    "    else:\n",
    "        print(\"You are not eligible for a senior citizen discount.\")\n",
    "\n",
    "person_age = int(input(\"Enter your age: \"))\n",
    "check_senior_citizen(person_age)"
   ]
  },
  {
   "cell_type": "code",
   "execution_count": 46,
   "id": "31bd7c8d-ae37-41d6-a77f-1244c4266df5",
   "metadata": {},
   "outputs": [
    {
     "name": "stdin",
     "output_type": "stream",
     "text": [
      "Enter a character:  a\n"
     ]
    },
    {
     "name": "stdout",
     "output_type": "stream",
     "text": [
      "Character category: Lowercase\n"
     ]
    }
   ],
   "source": [
    "# 33. Write a Python program to categorize a given character as uppercase, lowercase, or neither using if-else.\n",
    "def categorize_character(char):\n",
    "    if char.isupper():\n",
    "        return \"Uppercase\"\n",
    "    elif char.islower():\n",
    "        return \"Lowercase\"\n",
    "    else:\n",
    "        return \"Neither\"\n",
    "\n",
    "input_char = input(\"Enter a character: \")\n",
    "print(\"Character category:\", categorize_character(input_char))"
   ]
  },
  {
   "cell_type": "code",
   "execution_count": null,
   "id": "23b05f08-976c-4fb2-ac05-63234938e1e2",
   "metadata": {},
   "outputs": [],
   "source": [
    "# 34. Write a Python program to determine the roots of a quadratic equation using if-else.\n",
    "import math\n",
    "\n",
    "def quadratic_roots(a, b, c):\n",
    "    discriminant = b**2 - 4*a*c\n",
    "    if discriminant > 0:\n",
    "        root1 = (-b + math.sqrt(discriminant)) / (2*a)\n",
    "        root2 = (-b - math.sqrt(discriminant)) / (2*a)\n",
    "        return root1, root2\n",
    "    elif discriminant == 0:\n",
    "        root = -b / (2*a)\n",
    "        return root, root\n",
    "    else:\n",
    "        return \"No real roots\"\n",
    "\n",
    "coefficients = tuple(map(float, input(\"Enter the coefficients (a, b, c): \").split()))\n",
    "print(\"Roots of the quadratic equation:\", quadratic_roots(*coefficients))"
   ]
  },
  {
   "cell_type": "code",
   "execution_count": 51,
   "id": "22fac7ba-a9c5-460a-8167-213378428e77",
   "metadata": {},
   "outputs": [
    {
     "name": "stdin",
     "output_type": "stream",
     "text": [
      "Enter a year:  1884\n"
     ]
    },
    {
     "name": "stdout",
     "output_type": "stream",
     "text": [
      "1884 is not a century year.\n"
     ]
    }
   ],
   "source": [
    "# 35. Create a Python program that checks if a given year is a century year or not using if-else.\n",
    "def is_century_year(year):\n",
    "    if year % 100 == 0:\n",
    "        return True\n",
    "    else:\n",
    "        return False\n",
    "\n",
    "year = int(input(\"Enter a year: \"))\n",
    "if is_century_year(year):\n",
    "    print(year, \"is a century year.\")\n",
    "else:\n",
    "    print(year, \"is not a century year.\")"
   ]
  },
  {
   "cell_type": "code",
   "execution_count": 52,
   "id": "fc102036-adc6-434c-ba5e-2577670cf6c5",
   "metadata": {},
   "outputs": [
    {
     "name": "stdin",
     "output_type": "stream",
     "text": [
      "Enter a number:  81\n"
     ]
    },
    {
     "name": "stdout",
     "output_type": "stream",
     "text": [
      "81 is a perfect square.\n"
     ]
    }
   ],
   "source": [
    "# 36. Write a Python program to determine if a given number is a perfect square using if-else.\n",
    "def is_perfect_square(num):\n",
    "    if num >= 0:\n",
    "        sqrt = int(math.sqrt(num))\n",
    "        return sqrt * sqrt == num\n",
    "    else:\n",
    "        return False\n",
    "\n",
    "number = int(input(\"Enter a number: \"))\n",
    "if is_perfect_square(number):\n",
    "    print(number, \"is a perfect square.\")\n",
    "else:\n",
    "    print(number, \"is not a perfect square.\")"
   ]
  },
  {
   "cell_type": "code",
   "execution_count": null,
   "id": "563bf21c-ef22-490e-b5be-d7df4a1238a5",
   "metadata": {},
   "outputs": [],
   "source": [
    "# 37. Explain the purpose of the \"continue\" and \"break\" statements within if-else loops.\n",
    "\"\"\"\n",
    "- The \"continue\" statement is used to skip the rest of the current iteration of a loop and proceed to\n",
    "  the next iteration. It is typically used to skip certain elements or steps within a loop.\n",
    "\n",
    "- The \"break\" statement is used to terminate the loop prematurely. It immediately exits the loop\n",
    "  without executing any further statements in the loop.\n",
    "\n",
    "Example:\n",
    "for i in range(1, 11):\n",
    "    if i % 2 == 0:\n",
    "        continue  # Skip even numbers\n",
    "    print(i)\n",
    "\n",
    "In this example, the \"continue\" statement skips printing even numbers and proceeds to the next\n",
    "iteration of the loop.\n",
    "\n",
    "for i in range(1, 11):\n",
    "    if i == 5:\n",
    "        break  # Exit loop when i equals 5\n",
    "    print(i)\n",
    "\n",
    "In this example, the \"break\" statement terminates the loop when i equals 5, so only numbers 1 to 4\n",
    "are printed.\n",
    "\"\"\""
   ]
  },
  {
   "cell_type": "code",
   "execution_count": 53,
   "id": "51b9a0c8-2313-425d-88a3-1e4f8226040b",
   "metadata": {},
   "outputs": [
    {
     "name": "stdin",
     "output_type": "stream",
     "text": [
      "Enter your weight in kilograms:  89\n",
      "Enter your height in meters:  5\n"
     ]
    },
    {
     "name": "stdout",
     "output_type": "stream",
     "text": [
      "BMI Category: Underweight\n"
     ]
    }
   ],
   "source": [
    "# 38. Create a Python program that calculates the BMI (Body Mass Index) of a person based on their weight and height using if-else.\n",
    "def calculate_bmi(weight, height):\n",
    "    bmi = weight / (height ** 2)\n",
    "    if bmi < 18.5:\n",
    "        return \"Underweight\"\n",
    "    elif bmi < 25:\n",
    "        return \"Normal weight\"\n",
    "    elif bmi < 30:\n",
    "        return \"Overweight\"\n",
    "    else:\n",
    "        return \"Obese\"\n",
    "\n",
    "\n",
    "weight = float(input(\"Enter your weight in kilograms: \"))\n",
    "height = float(input(\"Enter your height in meters: \"))\n",
    "print(\"BMI Category:\", calculate_bmi(weight, height))"
   ]
  },
  {
   "cell_type": "code",
   "execution_count": null,
   "id": "3fd93237-b6af-447a-9e54-42dde71e6806",
   "metadata": {},
   "outputs": [],
   "source": [
    "# 39. How can you use the \"filter()\" function with if-else statements to filter elements from a list?\n",
    "\"\"\"\n",
    "The \"filter()\" function in Python is used to filter elements from an iterable based on a specified\n",
    "function. It takes two arguments: the function that determines whether an element should be included\n",
    "in the result, and the iterable to filter.\n",
    "\n",
    "You can use if-else statements in the filtering function to conditionally include or exclude elements\n",
    "from the result.\n",
    "\n",
    "Example:\n",
    "def is_positive(num):\n",
    "    return num > 0\n",
    "\n",
    "numbers = [-1, 2, -3, 4, -5]\n",
    "positive_numbers = filter(is_positive, numbers)\n",
    "print(list(positive_numbers))  # Output: [2, 4]\n",
    "\n",
    "In this example, the function is_positive filters out positive numbers from the list.\n",
    "\"\"\"\n"
   ]
  },
  {
   "cell_type": "code",
   "execution_count": 54,
   "id": "fb109ba9-b27a-4d61-a313-066298fc0730",
   "metadata": {},
   "outputs": [
    {
     "name": "stdin",
     "output_type": "stream",
     "text": [
      "Enter a number:  11\n"
     ]
    },
    {
     "name": "stdout",
     "output_type": "stream",
     "text": [
      "11 is a prime number.\n"
     ]
    }
   ],
   "source": [
    "# 40. Write a Python program to determine if a given number is prime or not using if-else.\n",
    "def is_prime(num):\n",
    "    if num <= 1:\n",
    "        return False\n",
    "    for i in range(2, int(num**0.5) + 1):\n",
    "        if num % i == 0:\n",
    "            return False\n",
    "    return True\n",
    "\n",
    "number = int(input(\"Enter a number: \"))\n",
    "if is_prime(number):\n",
    "    print(number, \"is a prime number.\")\n",
    "else:\n",
    "    print(number, \"is not a prime number.\")"
   ]
  },
  {
   "cell_type": "markdown",
   "id": "1ab1d820-3445-48c6-a1b3-0b3e79b84ace",
   "metadata": {},
   "source": [
    "### Map :-\n"
   ]
  },
  {
   "cell_type": "code",
   "execution_count": 55,
   "id": "601d930e-ba03-4bea-8c45-f686fe2f5bce",
   "metadata": {},
   "outputs": [
    {
     "name": "stdout",
     "output_type": "stream",
     "text": [
      "[1, 4, 9, 16, 25]\n"
     ]
    }
   ],
   "source": [
    "# 41. Explain the purpose of the `map()` function in Python and provide an example of how it can be used to apply a function to each element of an iterable.\n",
    "\"\"\"\n",
    "The `map()` function in Python is used to apply a specified function to each item in an iterable (such as a list)\n",
    "and returns a new iterable with the results. It takes two arguments: the function to apply and the iterable to\n",
    "apply it to.\"\"\"\n",
    "\n",
    "\n",
    "def square(x):\n",
    "    return x * x\n",
    "\n",
    "numbers = [1, 2, 3, 4, 5]\n",
    "squared_numbers = map(square, numbers)\n",
    "print(list(squared_numbers))  \n"
   ]
  },
  {
   "cell_type": "code",
   "execution_count": 56,
   "id": "2b08a9e0-ede2-4ba4-8287-66ad3a3a50ef",
   "metadata": {},
   "outputs": [
    {
     "name": "stdout",
     "output_type": "stream",
     "text": [
      "[1, 4, 9, 16, 25]\n"
     ]
    }
   ],
   "source": [
    "# 42. Write a Python program that uses the `map()` function to square each element of a list of numbers.\n",
    "numbers = [1, 2, 3, 4, 5]\n",
    "\n",
    "squared_numbers = map(lambda x: x * x, numbers)\n",
    "print(list(squared_numbers))  "
   ]
  },
  {
   "cell_type": "code",
   "execution_count": null,
   "id": "5139280a-cfc0-4f5c-b939-2f329ba9e466",
   "metadata": {},
   "outputs": [],
   "source": [
    "# 43. How does the `map()` function differ from a list comprehension in Python, and when would you choose one over the other?\n",
    "\"\"\"\n",
    "- The `map()` function and list comprehensions both provide ways to transform elements in an iterable using a function.\n",
    "  However, they differ in syntax and sometimes readability.\n",
    "- `map()` applies a function to each element of an iterable and returns an iterator, while list comprehensions create\n",
    "  a new list by applying an expression to each element of an iterable.\n",
    "- List comprehensions are often more concise and readable, especially for simple transformations, while `map()` is\n",
    "  useful when applying a function to multiple iterables simultaneously or when working with functions that are\n",
    "  already defined and need to be reused.\n",
    "- The choice between `map()` and list comprehensions often comes down to personal preference and readability.\n",
    "\"\"\""
   ]
  },
  {
   "cell_type": "code",
   "execution_count": 57,
   "id": "5b1be3fd-fefe-43a3-8b64-0a7236c8e92e",
   "metadata": {},
   "outputs": [
    {
     "name": "stdout",
     "output_type": "stream",
     "text": [
      "['ALICE', 'BOB', 'CHARLIE']\n"
     ]
    }
   ],
   "source": [
    "# 44. Create a Python program that uses the `map()` function to convert a list of names to uppercase.\n",
    "names = ['Alice', 'Bob', 'Charlie']\n",
    "\n",
    "uppercase_names = map(str.upper, names)\n",
    "print(list(uppercase_names))  "
   ]
  },
  {
   "cell_type": "code",
   "execution_count": 58,
   "id": "9b466cfa-e88c-44f7-a3f3-73888ca28b07",
   "metadata": {},
   "outputs": [
    {
     "name": "stdout",
     "output_type": "stream",
     "text": [
      "[5, 6, 6]\n"
     ]
    }
   ],
   "source": [
    "# 45. Write a Python program that uses the `map()` function to calculate the length of each word in a list of strings.\n",
    "words = ['apple', 'banana', 'orange']\n",
    "\n",
    "word_lengths = map(len, words)\n",
    "print(list(word_lengths)) "
   ]
  },
  {
   "cell_type": "code",
   "execution_count": 59,
   "id": "1179519f-9c7b-48a1-983e-bc492705aaa9",
   "metadata": {},
   "outputs": [
    {
     "name": "stdout",
     "output_type": "stream",
     "text": [
      "[5, 7, 9]\n"
     ]
    }
   ],
   "source": [
    "# 46. How can you use the `map()` function to apply a custom function to elements of multiple lists simultaneously in Python?\n",
    "\"\"\"\n",
    "To apply a custom function to elements of multiple lists simultaneously using `map()`, you can define a function\n",
    "that takes multiple arguments and use `map()` to pass corresponding elements from each list as arguments to the function.\"\"\"\n",
    "\n",
    "def add(x, y):\n",
    "    return x + y\n",
    "\n",
    "list1 = [1, 2, 3]\n",
    "list2 = [4, 5, 6]\n",
    "\n",
    "result = map(add, list1, list2)\n",
    "print(list(result)) \n"
   ]
  },
  {
   "cell_type": "code",
   "execution_count": 60,
   "id": "6574fd1b-2f79-4037-aae6-8950748d5bae",
   "metadata": {},
   "outputs": [
    {
     "name": "stdout",
     "output_type": "stream",
     "text": [
      "[32.0, 68.0, 86.0, 104.0]\n"
     ]
    }
   ],
   "source": [
    "# 47. Create a Python program that uses `map()` to convert a list of temperatures from Celsius to Fahrenheit.\n",
    "temperatures_celsius = [0, 20, 30, 40]\n",
    "\n",
    "temperatures_fahrenheit = map(lambda c: c * 9/5 + 32, temperatures_celsius)\n",
    "print(list(temperatures_fahrenheit))  "
   ]
  },
  {
   "cell_type": "code",
   "execution_count": 61,
   "id": "5c56c638-a8ca-490f-803c-83ea9b24625b",
   "metadata": {},
   "outputs": [
    {
     "name": "stdout",
     "output_type": "stream",
     "text": [
      "[3, 2, 2, 5]\n"
     ]
    }
   ],
   "source": [
    "# 48. Write a Python program that uses the `map()` function to round each element of a list of floating-point numbers to the nearest integer.\n",
    "float_numbers = [3.14, 2.5, 1.7, 4.9]\n",
    "\n",
    "rounded_numbers = map(round, float_numbers)\n",
    "print(list(rounded_numbers))  "
   ]
  },
  {
   "cell_type": "markdown",
   "id": "30eeebba-9244-44ca-a870-9e2cc9d3b835",
   "metadata": {},
   "source": [
    "### Reduce :-\n"
   ]
  },
  {
   "cell_type": "code",
   "execution_count": 62,
   "id": "0fc00523-e197-4106-a219-1d5627360ac4",
   "metadata": {},
   "outputs": [
    {
     "name": "stdout",
     "output_type": "stream",
     "text": [
      "120\n"
     ]
    }
   ],
   "source": [
    "# 49. What is the `reduce()` function in Python, and what module should you import to use it? Provide an example of its basic usage.\n",
    "\"\"\"\n",
    "The `reduce()` function in Python is used to apply a specified function (usually a binary function) to the elements\n",
    "of an iterable to reduce them to a single value. It continuously applies the function to pairs of elements until\n",
    "the iterable is exhausted.\n",
    "\n",
    "To use the `reduce()` function, you need to import it from the `functools` module.\"\"\"\n",
    "\n",
    "from functools import reduce\n",
    "\n",
    "numbers = [1, 2, 3, 4, 5]\n",
    "product = reduce(lambda x, y: x * y, numbers)\n",
    "print(product)  # Output: 120 (1 * 2 * 3 * 4 * 5)\n"
   ]
  },
  {
   "cell_type": "code",
   "execution_count": 63,
   "id": "d16a3287-b976-4d67-8084-b1a9ef5d0e49",
   "metadata": {},
   "outputs": [
    {
     "name": "stdout",
     "output_type": "stream",
     "text": [
      "Product: 120\n"
     ]
    }
   ],
   "source": [
    "# 50. Write a Python program that uses the `reduce()` function to find the product of all elements in a list.\n",
    "from functools import reduce\n",
    "\n",
    "numbers = [1, 2, 3, 4, 5]\n",
    "\n",
    "product = reduce(lambda x, y: x * y, numbers)\n",
    "print(\"Product:\", product) "
   ]
  },
  {
   "cell_type": "code",
   "execution_count": 64,
   "id": "8a4a8644-3581-4ee6-b2f0-cdd9ae2211c8",
   "metadata": {},
   "outputs": [
    {
     "name": "stdout",
     "output_type": "stream",
     "text": [
      "Maximum number: 9\n"
     ]
    }
   ],
   "source": [
    "# 51. Create a Python program that uses `reduce()` to find the maximum element in a list of numbers.\n",
    "numbers = [4, 7, 2, 9, 5]\n",
    "\n",
    "max_number = reduce(lambda x, y: x if x > y else y, numbers)\n",
    "print(\"Maximum number:\", max_number) "
   ]
  },
  {
   "cell_type": "code",
   "execution_count": 65,
   "id": "ab00360a-1698-47ec-976b-7fd24e9818af",
   "metadata": {},
   "outputs": [
    {
     "name": "stdout",
     "output_type": "stream",
     "text": [
      "Concatenated string: helloworldpython\n"
     ]
    }
   ],
   "source": [
    "# 52. How can you use the `reduce()` function to concatenate a list of strings into a single string?\n",
    "from functools import reduce\n",
    "\n",
    "strings = ['hello', 'world', 'python']\n",
    "\n",
    "concatenated_string = reduce(lambda x, y: x + y, strings)\n",
    "print(\"Concatenated string:\", concatenated_string)  "
   ]
  },
  {
   "cell_type": "code",
   "execution_count": 66,
   "id": "8b2d31e4-344e-4921-a9a6-bc47cd58bc56",
   "metadata": {},
   "outputs": [
    {
     "name": "stdin",
     "output_type": "stream",
     "text": [
      "Enter a number:  10\n"
     ]
    },
    {
     "name": "stdout",
     "output_type": "stream",
     "text": [
      "Factorial: 3628800\n"
     ]
    }
   ],
   "source": [
    "# 53. Write a Python program that calculates the factorial of a number using the `reduce()` function.\n",
    "from functools import reduce\n",
    "\n",
    "def factorial(n):\n",
    "    if n == 0:\n",
    "        return 1\n",
    "    return reduce(lambda x, y: x * y, range(1, n+1))\n",
    "\n",
    "number = int(input(\"Enter a number: \"))\n",
    "print(\"Factorial:\", factorial(number))"
   ]
  },
  {
   "cell_type": "code",
   "execution_count": 67,
   "id": "1ed8012b-037b-4900-9909-dd287ba0f52c",
   "metadata": {},
   "outputs": [
    {
     "name": "stdout",
     "output_type": "stream",
     "text": [
      "GCD: 12\n"
     ]
    }
   ],
   "source": [
    "# 54. Create a Python program that uses `reduce()` to find the GCD (Greatest Common Divisor) of a list of numbers.\n",
    "from functools import reduce\n",
    "import math\n",
    "\n",
    "numbers = [24, 36, 48, 60]\n",
    "\n",
    "gcd = reduce(math.gcd, numbers)\n",
    "print(\"GCD:\", gcd) "
   ]
  },
  {
   "cell_type": "code",
   "execution_count": 69,
   "id": "eab517ed-727d-4b14-9706-6e8a6dc738ed",
   "metadata": {},
   "outputs": [
    {
     "name": "stdin",
     "output_type": "stream",
     "text": [
      "Enter a number:  2345\n"
     ]
    },
    {
     "name": "stdout",
     "output_type": "stream",
     "text": [
      "Sum of digits: 14\n"
     ]
    }
   ],
   "source": [
    "# 55. Write a Python program that uses the `reduce()` function to find the sum of the digits of a given number.\n",
    "from functools import reduce\n",
    "\n",
    "def sum_of_digits(number):\n",
    "    return reduce(lambda x, y: int(x) + int(y), str(number), 0)\n",
    "\n",
    "number = int(input(\"Enter a number: \"))\n",
    "print(\"Sum of digits:\", sum_of_digits(number))"
   ]
  },
  {
   "cell_type": "markdown",
   "id": "d5734827-1afe-4767-9ce4-f8572833d8fa",
   "metadata": {},
   "source": [
    "### Filter :-\n"
   ]
  },
  {
   "cell_type": "code",
   "execution_count": 71,
   "id": "a3795b4c-b28a-478f-ba46-d3ee3716e6d5",
   "metadata": {},
   "outputs": [
    {
     "name": "stdout",
     "output_type": "stream",
     "text": [
      "[2, 4, 6, 8, 10]\n"
     ]
    }
   ],
   "source": [
    "# 56. Explain the purpose of the `filter()` function in Python and provide an example of how it can be used to filter elements from an iterable.\n",
    "\"\"\"\n",
    "The `filter()` function in Python is used to filter elements from an iterable (such as a list) based on a specified function.\n",
    "It takes two arguments: the function that determines whether an element should be included in the result, and the iterable to filter.\"\"\"\n",
    "\n",
    "def is_even(num):\n",
    "    return num % 2 == 0\n",
    "\n",
    "numbers = [1, 2, 3, 4, 5, 6, 7, 8, 9, 10]\n",
    "even_numbers = filter(is_even, numbers)\n",
    "print(list(even_numbers)) \n"
   ]
  },
  {
   "cell_type": "code",
   "execution_count": 72,
   "id": "8d149924-7330-45a4-8fc6-426cf2f0d9b0",
   "metadata": {},
   "outputs": [
    {
     "name": "stdout",
     "output_type": "stream",
     "text": [
      "Even numbers: [2, 4, 6, 8, 10]\n"
     ]
    }
   ],
   "source": [
    "# 57. Write a Python program that uses the `filter()` function to select even numbers from a list of integers.\n",
    "numbers = [1, 2, 3, 4, 5, 6, 7, 8, 9, 10]\n",
    "\n",
    "\n",
    "even_numbers = filter(lambda x: x % 2 == 0, numbers)\n",
    "print(\"Even numbers:\", list(even_numbers)) "
   ]
  },
  {
   "cell_type": "code",
   "execution_count": 73,
   "id": "d623ee00-dd91-40a2-90df-0e866314b1cc",
   "metadata": {},
   "outputs": [
    {
     "name": "stdout",
     "output_type": "stream",
     "text": [
      "Names starting with 'A': ['Alice']\n"
     ]
    }
   ],
   "source": [
    "# 58. Create a Python program that uses the `filter()` function to select names that start with a specific letter from a list of strings.\n",
    "names = ['Alice', 'Bob', 'Charlie', 'David', 'Eve']\n",
    "\n",
    "filtered_names = filter(lambda name: name.startswith('A'), names)\n",
    "print(\"Names starting with 'A':\", list(filtered_names)) "
   ]
  },
  {
   "cell_type": "code",
   "execution_count": 74,
   "id": "4bf4a5fe-f2d5-4131-bf70-01ecc8bc4d37",
   "metadata": {},
   "outputs": [
    {
     "name": "stdout",
     "output_type": "stream",
     "text": [
      "Prime numbers: [2, 3, 5, 7]\n"
     ]
    }
   ],
   "source": [
    "# 59. Write a Python program that uses the `filter()` function to select prime numbers from a list of integers.\n",
    "def is_prime(num):\n",
    "    if num < 2:\n",
    "        return False\n",
    "    for i in range(2, int(num**0.5) + 1):\n",
    "        if num % i == 0:\n",
    "            return False\n",
    "    return True\n",
    "\n",
    "numbers = [2, 3, 4, 5, 6, 7, 8, 9, 10]\n",
    "\n",
    "prime_numbers = filter(is_prime, numbers)\n",
    "print(\"Prime numbers:\", list(prime_numbers))"
   ]
  },
  {
   "cell_type": "code",
   "execution_count": 75,
   "id": "370629df-dbb0-4d90-aaee-32aa0a5d7e3c",
   "metadata": {},
   "outputs": [
    {
     "name": "stdout",
     "output_type": "stream",
     "text": [
      "Filtered values: [1, 2, 3, 4, 5]\n"
     ]
    }
   ],
   "source": [
    "# 60. How can you use the `filter()` function to remove None values from a list in Python?\n",
    "values = [1, None, 2, None, 3, None, 4, None, 5]\n",
    "\n",
    "filtered_values = filter(lambda x: x is not None, values)\n",
    "print(\"Filtered values:\", list(filtered_values))  "
   ]
  },
  {
   "cell_type": "code",
   "execution_count": 76,
   "id": "9b8d4836-b10d-4f97-b1cb-5df71dc1b623",
   "metadata": {},
   "outputs": [
    {
     "name": "stdout",
     "output_type": "stream",
     "text": [
      "Words longer than 5 characters: ['banana', 'orange']\n"
     ]
    }
   ],
   "source": [
    "# 61. Create a Python program that uses `filter()` to select words longer than a certain length from a list of strings.\n",
    "words = ['apple', 'banana', 'orange', 'kiwi', 'pear']\n",
    "\n",
    "filtered_words = filter(lambda word: len(word) > 5, words)\n",
    "print(\"Words longer than 5 characters:\", list(filtered_words)) "
   ]
  },
  {
   "cell_type": "code",
   "execution_count": 77,
   "id": "58044804-e573-44d6-98c9-0e986e9492a8",
   "metadata": {},
   "outputs": [
    {
     "name": "stdout",
     "output_type": "stream",
     "text": [
      "Values greater than 3 : [4, 5]\n"
     ]
    }
   ],
   "source": [
    "# 62. Write a Python program that uses the `filter()` function to select elements greater than a specified threshold from a list of values.\n",
    "threshold = 3\n",
    "values = [1, 2, 3, 4, 5]\n",
    "\n",
    "filtered_values = filter(lambda x: x > threshold, values)\n",
    "print(\"Values greater than\", threshold, \":\", list(filtered_values))"
   ]
  },
  {
   "cell_type": "markdown",
   "id": "39487533-e02b-45dc-93d6-a26e6312291c",
   "metadata": {},
   "source": [
    "### Recursion:-\n"
   ]
  },
  {
   "cell_type": "code",
   "execution_count": null,
   "id": "229a9c46-3cd6-4feb-9b24-aab6129ec73a",
   "metadata": {},
   "outputs": [],
   "source": [
    "# 63. Explain the concept of recursion in Python. How does it differ from iteration?\n",
    "\"\"\"\n",
    "Recursion in Python is a programming technique where a function calls itself to solve smaller instances of the same problem.\n",
    "It involves breaking down a problem into smaller subproblems and solving each subproblem recursively until a base case is reached.\n",
    "Recursion is typically used when a problem can be divided into smaller identical subproblems or when the problem can be\n",
    "solved by solving smaller instances of the same problem.\n",
    "\n",
    "Recursion differs from iteration in that iteration involves executing a set of instructions repeatedly until a certain\n",
    "condition is met, while recursion involves breaking down a problem into smaller subproblems and solving each subproblem\n",
    "recursively until a base case is reached.\n",
    "\"\"\""
   ]
  },
  {
   "cell_type": "code",
   "execution_count": 79,
   "id": "2cad313a-26fd-4fe4-b20c-2e86ee0d9d34",
   "metadata": {},
   "outputs": [
    {
     "name": "stdin",
     "output_type": "stream",
     "text": [
      "Enter a number:  7\n"
     ]
    },
    {
     "name": "stdout",
     "output_type": "stream",
     "text": [
      "Factorial: 5040\n"
     ]
    }
   ],
   "source": [
    "# 64. Write a Python program to calculate the factorial of a number using recursion.\n",
    "def factorial(n):\n",
    "    if n == 0:\n",
    "        return 1\n",
    "    return n * factorial(n - 1)\n",
    "\n",
    "number = int(input(\"Enter a number: \"))\n",
    "print(\"Factorial:\", factorial(number))"
   ]
  },
  {
   "cell_type": "code",
   "execution_count": 80,
   "id": "bd1694fc-fd1c-45a1-af41-f0846a94d5d6",
   "metadata": {},
   "outputs": [
    {
     "name": "stdin",
     "output_type": "stream",
     "text": [
      "Enter the value of n:  10\n"
     ]
    },
    {
     "name": "stdout",
     "output_type": "stream",
     "text": [
      "Fibonacci number at position 10 : 55\n"
     ]
    }
   ],
   "source": [
    "# 65. Create a recursive Python function to find the nth Fibonacci number.\n",
    "def fibonacci(n):\n",
    "    if n <= 1:\n",
    "        return n\n",
    "    return fibonacci(n - 1) + fibonacci(n - 2)\n",
    "\n",
    "n = int(input(\"Enter the value of n: \"))\n",
    "print(\"Fibonacci number at position\", n, \":\", fibonacci(n))"
   ]
  },
  {
   "cell_type": "code",
   "execution_count": 81,
   "id": "66b50a30-a344-4a9f-88e5-b79ada482fd4",
   "metadata": {},
   "outputs": [
    {
     "name": "stdout",
     "output_type": "stream",
     "text": [
      "Sum of elements in the list: 15\n"
     ]
    }
   ],
   "source": [
    "# 66. Write a recursive Python function to calculate the sum of all elements in a list.\n",
    "def list_sum(lst):\n",
    "    if not lst:\n",
    "        return 0\n",
    "    return lst[0] + list_sum(lst[1:])\n",
    "\n",
    "numbers = [1, 2, 3, 4, 5]\n",
    "print(\"Sum of elements in the list:\", list_sum(numbers))"
   ]
  },
  {
   "cell_type": "code",
   "execution_count": null,
   "id": "bd300784-485e-4c9b-a39d-2869e1efee9f",
   "metadata": {},
   "outputs": [],
   "source": [
    "# 67. How can you prevent a recursive function from running indefinitely, causing a stack overflow error?\n",
    "\"\"\"\n",
    "To prevent a recursive function from running indefinitely and causing a stack overflow error, you should ensure\n",
    "that there is a termination condition, also known as a base case, that will be reached eventually.\n",
    "This base case should represent the smallest instance of the problem that can be solved directly without recursion.\n",
    "If the termination condition is not met, the function will continue to call itself indefinitely, resulting in\n",
    "a stack overflow error.\n",
    "\"\"\""
   ]
  },
  {
   "cell_type": "code",
   "execution_count": 82,
   "id": "810383e9-0194-4787-8161-a6ba06e4c44d",
   "metadata": {},
   "outputs": [
    {
     "name": "stdin",
     "output_type": "stream",
     "text": [
      "Enter the first number:  56\n",
      "Enter the second number:  24\n"
     ]
    },
    {
     "name": "stdout",
     "output_type": "stream",
     "text": [
      "GCD: 8\n"
     ]
    }
   ],
   "source": [
    "# 68. Create a recursive Python function to find the greatest common divisor (GCD) of two numbers using the Euclidean algorithm.\n",
    "def gcd(a, b):\n",
    "    if b == 0:\n",
    "        return a\n",
    "    return gcd(b, a % b)\n",
    "\n",
    "num1 = int(input(\"Enter the first number: \"))\n",
    "num2 = int(input(\"Enter the second number: \"))\n",
    "print(\"GCD:\", gcd(num1, num2))"
   ]
  },
  {
   "cell_type": "code",
   "execution_count": 83,
   "id": "41672352-4de3-4642-930a-2828bc6790b4",
   "metadata": {},
   "outputs": [
    {
     "name": "stdin",
     "output_type": "stream",
     "text": [
      "Enter a string:  maruti\n"
     ]
    },
    {
     "name": "stdout",
     "output_type": "stream",
     "text": [
      "Reversed string: ituram\n"
     ]
    }
   ],
   "source": [
    "# 69. Write a recursive Python function to reverse a string.\n",
    "def reverse_string(s):\n",
    "    if len(s) == 0:\n",
    "        return s\n",
    "    return reverse_string(s[1:]) + s[0]\n",
    "\n",
    "string = input(\"Enter a string: \")\n",
    "print(\"Reversed string:\", reverse_string(string))"
   ]
  },
  {
   "cell_type": "code",
   "execution_count": 84,
   "id": "ad7028f7-2925-4995-a9dd-635e0c28a39e",
   "metadata": {},
   "outputs": [
    {
     "name": "stdin",
     "output_type": "stream",
     "text": [
      "Enter the base number:  2\n",
      "Enter the exponent:  2\n"
     ]
    },
    {
     "name": "stdout",
     "output_type": "stream",
     "text": [
      "Result: 4\n"
     ]
    }
   ],
   "source": [
    "# 70. Create a recursive Python function to calculate the power of a number (x^n).\n",
    "def power(x, n):\n",
    "    if n == 0:\n",
    "        return 1\n",
    "    return x * power(x, n - 1)\n",
    "\n",
    "base = int(input(\"Enter the base number: \"))\n",
    "exponent = int(input(\"Enter the exponent: \"))\n",
    "print(\"Result:\", power(base, exponent))"
   ]
  },
  {
   "cell_type": "code",
   "execution_count": 86,
   "id": "4281e427-8c69-4efb-b1bb-1459deb6a3c6",
   "metadata": {},
   "outputs": [
    {
     "name": "stdin",
     "output_type": "stream",
     "text": [
      "Enter a string:  abc\n"
     ]
    },
    {
     "name": "stdout",
     "output_type": "stream",
     "text": [
      "Permutations: ['abc', 'acb', 'bac', 'bca', 'cab', 'cba']\n"
     ]
    }
   ],
   "source": [
    "# 71. Write a recursive Python function to find all permutations of a given string.\n",
    "from itertools import permutations\n",
    "\n",
    "def permute_string(s):\n",
    "    return [''.join(perm) for perm in permutations(s)]\n",
    "\n",
    "string = input(\"Enter a string: \")\n",
    "print(\"Permutations:\", permute_string(string))"
   ]
  },
  {
   "cell_type": "code",
   "execution_count": 87,
   "id": "81f18a7c-e877-4944-87a1-ca33778f0aa6",
   "metadata": {},
   "outputs": [
    {
     "name": "stdin",
     "output_type": "stream",
     "text": [
      "Enter a string:  level\n"
     ]
    },
    {
     "name": "stdout",
     "output_type": "stream",
     "text": [
      "Is palindrome: True\n"
     ]
    }
   ],
   "source": [
    "# 72. Create a recursive Python function to check if a string is a palindrome.\n",
    "def is_palindrome(s):\n",
    "    if len(s) <= 1:\n",
    "        return True\n",
    "    if s[0] != s[-1]:\n",
    "        return False\n",
    "    return is_palindrome(s[1:-1])\n",
    "\n",
    "string = input(\"Enter a string: \")\n",
    "print(\"Is palindrome:\", is_palindrome(string))"
   ]
  },
  {
   "cell_type": "code",
   "execution_count": 88,
   "id": "5fb667b5-d291-488c-9af3-88e67ece9fff",
   "metadata": {},
   "outputs": [
    {
     "name": "stdout",
     "output_type": "stream",
     "text": [
      "Combinations: [(1,), (2,), (3,), (1, 2), (1, 3), (2, 3), (1, 2, 3)]\n"
     ]
    }
   ],
   "source": [
    "# 73. Write a recursive Python function to generate all possible combinations of a list of elements.\n",
    "from itertools import combinations\n",
    "\n",
    "def generate_combinations(lst):\n",
    "    combinations_list = []\n",
    "    for r in range(1, len(lst) + 1):\n",
    "        combinations_list.extend(combinations(lst, r))\n",
    "    return combinations_list\n",
    "\n",
    "elements = [1, 2, 3]\n",
    "print(\"Combinations:\", generate_combinations(elements))"
   ]
  },
  {
   "cell_type": "markdown",
   "id": "0490d275-6dfb-40fa-b6d4-51225fa35367",
   "metadata": {},
   "source": [
    "### Basics of Functions:\n"
   ]
  },
  {
   "cell_type": "code",
   "execution_count": null,
   "id": "2ab7bb5c-dc3c-4609-bb58-70a5be901202",
   "metadata": {},
   "outputs": [],
   "source": [
    "# 74. What is a function in Python, and why is it used?\n",
    "\"\"\"\n",
    "In Python, a function is a block of reusable code that performs a specific task. It allows you to group related code\n",
    "together, making it easier to understand, reuse, and maintain. Functions can accept inputs (arguments), perform\n",
    "operations, and optionally return an output. They provide modularity and abstraction, allowing you to break down\n",
    "complex problems into smaller, manageable parts.\n",
    "\"\"\""
   ]
  },
  {
   "cell_type": "code",
   "execution_count": 89,
   "id": "938d3506-3866-4c04-9e03-90a4352bc729",
   "metadata": {},
   "outputs": [
    {
     "name": "stdout",
     "output_type": "stream",
     "text": [
      "Hello, Alice!\n"
     ]
    }
   ],
   "source": [
    "# 75. How do you define a function in Python? Provide an example.\n",
    "\"\"\"\n",
    "In Python, you define a function using the `def` keyword followed by the function name, parentheses enclosing any\n",
    "parameters (if applicable), and a colon. The function body is then indented and contains the code to be executed when\n",
    "the function is called.\"\"\"\n",
    "\n",
    "\n",
    "def greet(name):\n",
    "    print(\"Hello, \" + name + \"!\")\n",
    "\n",
    "\n",
    "greet(\"Alice\")  \n"
   ]
  },
  {
   "cell_type": "code",
   "execution_count": null,
   "id": "4ede0b3d-0a5e-4b2c-99de-3e35918430ad",
   "metadata": {},
   "outputs": [],
   "source": [
    "# 76. Explain the difference between a function definition and a function call.\n",
    "\"\"\"\n",
    "A function definition is the actual implementation of a function. It specifies the name of the function, the parameters\n",
    "it accepts (if any), and the code to be executed when the function is called. Function definitions are created using\n",
    "the `def` keyword.\n",
    "\n",
    "A function call, on the other hand, is when you actually invoke or use the function in your code. It involves specifying\n",
    "the function name followed by parentheses enclosing any arguments (if required). Function calls execute the code inside\n",
    "the function's definition.\n",
    "\n",
    "In summary, the function definition defines the function, while the function call executes the function's code.\n",
    "\"\"\""
   ]
  },
  {
   "cell_type": "code",
   "execution_count": 90,
   "id": "38e113e5-24e3-4805-892e-609d4b5b1ad0",
   "metadata": {},
   "outputs": [
    {
     "name": "stdout",
     "output_type": "stream",
     "text": [
      "Sum: 8\n"
     ]
    }
   ],
   "source": [
    "# 77. Write a Python program that defines a function to calculate the sum of two numbers and then calls the function.\n",
    "def calculate_sum(a, b):\n",
    "    return a + b\n",
    "\n",
    "\n",
    "result = calculate_sum(3, 5)\n",
    "print(\"Sum:\", result)  "
   ]
  },
  {
   "cell_type": "code",
   "execution_count": null,
   "id": "31f837d5-14cb-4854-bc0e-8e07300e1195",
   "metadata": {},
   "outputs": [],
   "source": [
    "# 78. What is a function signature, and what information does it typically include?\n",
    "\"\"\"\n",
    "A function signature refers to the declaration of a function, which typically includes the function's name, the types\n",
    "and order of its parameters (if any), and optionally its return type. It provides a concise summary of a function's\n",
    "interface, allowing users to understand how to call the function and what to expect in return.\n",
    "\n",
    "For example, the function signature of a function named `add` that takes two integer parameters and returns an integer\n",
    "would be: `add(int, int) -> int`.\n",
    "\"\"\""
   ]
  },
  {
   "cell_type": "code",
   "execution_count": 91,
   "id": "e20f8c6f-ab87-4bb8-ac75-db4eb1433c9a",
   "metadata": {},
   "outputs": [
    {
     "name": "stdout",
     "output_type": "stream",
     "text": [
      "Product: 24\n"
     ]
    }
   ],
   "source": [
    "# 79. Create a Python function that takes two arguments and returns their product.\n",
    "def calculate_product(a, b):\n",
    "    return a * b\n",
    "\n",
    "result = calculate_product(4, 6)\n",
    "print(\"Product:\", result) "
   ]
  },
  {
   "cell_type": "code",
   "execution_count": null,
   "id": "6daa2aef-932e-403d-96ea-c422156e814e",
   "metadata": {},
   "outputs": [],
   "source": [
    "# 80. Explain the concepts of formal parameters and actual arguments in Python functions.\n",
    "\"\"\"\n",
    "In Python functions, formal parameters are the variables declared in the function definition. They represent the input\n",
    "values that the function expects to receive when it is called. Formal parameters act as placeholders for the values\n",
    "that will be passed to the function during the function call.\n",
    "\n",
    "Actual arguments, on the other hand, are the values provided to the function when it is called. These values are passed\n",
    "to the function as arguments and are used to replace the formal parameters within the function's body during execution.\n",
    "Actual arguments can be of different types, such as positional arguments, keyword arguments, default arguments, etc.\n",
    "\"\"\""
   ]
  },
  {
   "cell_type": "code",
   "execution_count": 92,
   "id": "a8258632-fe29-4137-bff6-17071b4fde86",
   "metadata": {},
   "outputs": [
    {
     "name": "stdout",
     "output_type": "stream",
     "text": [
      "Hello, World\n",
      "Hello, Alice\n"
     ]
    }
   ],
   "source": [
    "# 81. Write a Python program that defines a function with default argument values.\n",
    "def greet(name='World'):\n",
    "    print(\"Hello,\", name)\n",
    "\n",
    "\n",
    "greet() \n",
    "greet('Alice') "
   ]
  },
  {
   "cell_type": "code",
   "execution_count": 93,
   "id": "6bbb512c-26b0-4b3c-88ff-4048efc428a6",
   "metadata": {},
   "outputs": [
    {
     "name": "stdout",
     "output_type": "stream",
     "text": [
      "Hello Alice\n"
     ]
    }
   ],
   "source": [
    "# 82. How do you use keyword arguments in Python function calls? Provide an example.\n",
    "\"\"\"\n",
    "In Python function calls, keyword arguments allow you to pass arguments to a function using the parameter names\n",
    "as identifiers. This allows you to specify arguments in any order, making the function call more readable and\n",
    "self-explanatory.\"\"\"\n",
    "\n",
    "\n",
    "def greet(name, greeting):\n",
    "    print(greeting, name)\n",
    "\n",
    "greet(greeting=\"Hello\", name=\"Alice\") \n"
   ]
  },
  {
   "cell_type": "code",
   "execution_count": 94,
   "id": "b28145f6-6d52-47d0-8903-a14e1376565f",
   "metadata": {},
   "outputs": [
    {
     "name": "stdout",
     "output_type": "stream",
     "text": [
      "Sum: 15\n"
     ]
    }
   ],
   "source": [
    "# 83. Create a Python function that accepts a variable number of arguments and calculates their sum.\n",
    "def calculate_sum(*args):\n",
    "    return sum(args)\n",
    "\n",
    "result = calculate_sum(1, 2, 3, 4, 5)\n",
    "print(\"Sum:\", result) "
   ]
  },
  {
   "cell_type": "code",
   "execution_count": null,
   "id": "4052bee6-3ea2-48b0-b400-d5be0dc176fb",
   "metadata": {},
   "outputs": [],
   "source": [
    "# 84. What is the purpose of the `*args` and `**kwargs` syntax in function parameter lists?\n",
    "\"\"\"\n",
    "The `*args` syntax in function parameter lists is used to collect any number of positional arguments into a tuple.\n",
    "It allows a function to accept a variable number of arguments without having to specify them individually.\n",
    "\n",
    "The `**kwargs` syntax, on the other hand, is used to collect any number of keyword arguments into a dictionary.\n",
    "It allows a function to accept a variable number of keyword arguments without having to specify them individually.\n",
    "\n",
    "Together, `*args` and `**kwargs` provide flexibility in defining functions that can accept a variable number\n",
    "of both positional and keyword arguments.\n",
    "\"\"\""
   ]
  },
  {
   "cell_type": "code",
   "execution_count": 95,
   "id": "6bc7ea74-1eb0-4e45-8a4b-e2c7d0e0c239",
   "metadata": {},
   "outputs": [
    {
     "name": "stdout",
     "output_type": "stream",
     "text": [
      "Hello, World\n",
      "Hello, Alice\n"
     ]
    }
   ],
   "source": [
    "\n",
    "# 85. Create a Python program that defines a function with default argument values.\n",
    "def greet(name='World'):\n",
    "    print(\"Hello,\", name)\n",
    "greet() \n",
    "greet('Alice') "
   ]
  },
  {
   "cell_type": "markdown",
   "id": "02c5a10c-1d08-47b0-9597-78d53681106d",
   "metadata": {},
   "source": [
    "### Return Values and Scoping:\n"
   ]
  },
  {
   "cell_type": "code",
   "execution_count": 96,
   "id": "39226e43-c11c-4361-8fde-e9e5a5cf36b6",
   "metadata": {},
   "outputs": [
    {
     "name": "stdout",
     "output_type": "stream",
     "text": [
      "8\n"
     ]
    }
   ],
   "source": [
    "# 86. Describe the role of the `return` statement in Python functions and provide examples.\n",
    "\"\"\"\n",
    "The `return` statement in Python functions is used to exit the function and optionally return a value to the caller.\n",
    "It allows functions to produce output that can be used by other parts of the program.\"\"\"\n",
    "\n",
    "def add(a, b):\n",
    "    return a + b\n",
    "\n",
    "result = add(3, 5)\n",
    "print(result)  \n"
   ]
  },
  {
   "cell_type": "code",
   "execution_count": null,
   "id": "302b7f61-dab5-4149-b872-3e4c97bfc9b4",
   "metadata": {},
   "outputs": [],
   "source": [
    "# 87. Explain the concept of variable scope in Python, including local and global variables.\n",
    "\"\"\"\n",
    "Variable scope refers to the area of a program where a variable can be accessed or referenced. In Python, variables\n",
    "can have different scopes, primarily local and global:\n",
    "\n",
    "- Local variables: Variables defined within a function have local scope. They are accessible only within the function\n",
    "  in which they are defined. Once the function execution is completed, local variables are destroyed and cannot be\n",
    "  accessed from outside the function.\n",
    "\n",
    "- Global variables: Variables defined outside of any function, at the top level of a script or module, have global\n",
    "  scope. They can be accessed from any part of the program, including from within functions. Global variables persist\n",
    "  throughout the entire execution of the program.\n",
    "\"\"\""
   ]
  },
  {
   "cell_type": "code",
   "execution_count": 97,
   "id": "0a22ad94-c966-418a-b0a0-59ca573a83f8",
   "metadata": {},
   "outputs": [
    {
     "name": "stdout",
     "output_type": "stream",
     "text": [
      "Global variable: 10\n",
      "Global variable: 20\n"
     ]
    }
   ],
   "source": [
    "# 88. Write a Python program that demonstrates the use of global variables within functions.\n",
    "global_var = 10\n",
    "\n",
    "def print_global():\n",
    "    print(\"Global variable:\", global_var)\n",
    "\n",
    "def modify_global():\n",
    "    global global_var\n",
    "    global_var = 20\n",
    "\n",
    "print_global() \n",
    "modify_global()\n",
    "print_global()  "
   ]
  },
  {
   "cell_type": "code",
   "execution_count": 98,
   "id": "fa283607-fd84-4ae2-866c-5315d0f3f3f4",
   "metadata": {},
   "outputs": [
    {
     "name": "stdout",
     "output_type": "stream",
     "text": [
      "Factorial of 5: 120\n"
     ]
    }
   ],
   "source": [
    "# 89. Create a Python function that calculates the factorial of a number and returns it.\n",
    "def factorial(n):\n",
    "    if n == 0:\n",
    "        return 1\n",
    "    return n * factorial(n - 1)\n",
    "\n",
    "result = factorial(5)\n",
    "print(\"Factorial of 5:\", result)  "
   ]
  },
  {
   "cell_type": "code",
   "execution_count": 99,
   "id": "8172127a-a878-4828-84ad-cfc8c1ec19d8",
   "metadata": {},
   "outputs": [
    {
     "name": "stdout",
     "output_type": "stream",
     "text": [
      "Global variable: 10\n"
     ]
    }
   ],
   "source": [
    "# 90. How can you access variables defined outside a function from within the function?\n",
    "\"\"\"\n",
    "To access variables defined outside a function from within the function, you can use the `global` keyword to\n",
    "declare the variable as global within the function. This allows you to read and modify the value of the global\n",
    "variable from within the function.\n",
    "\"\"\"\n",
    "\n",
    "global_var = 10\n",
    "\n",
    "def access_global():\n",
    "    print(\"Global variable:\", global_var)\n",
    "\n",
    "\n",
    "access_global() "
   ]
  },
  {
   "cell_type": "markdown",
   "id": "97f58c98-c4ef-4e58-a26a-0e6274e197ac",
   "metadata": {},
   "source": [
    "### Lambda Functions and Higher-Order Functions:\n"
   ]
  },
  {
   "cell_type": "code",
   "execution_count": null,
   "id": "3ebfe20d-6d00-4cea-8c10-3f7223ef980b",
   "metadata": {},
   "outputs": [],
   "source": [
    "# 91. What are lambda functions in Python, and when are they typically used?\n",
    "\"\"\"\n",
    "Lambda functions, also known as anonymous functions, are small, inline functions that are defined without a name.\n",
    "They are created using the `lambda` keyword and can take any number of arguments, but can only contain a single\n",
    "expression. Lambda functions are typically used when you need a simple function for a short period of time, such\n",
    "as when passing a function as an argument to higher-order functions like `map()`, `filter()`, or `sorted()`.\n",
    "\"\"\""
   ]
  },
  {
   "cell_type": "code",
   "execution_count": 100,
   "id": "682471e7-7a50-4e71-a743-b0bf1a3788d6",
   "metadata": {},
   "outputs": [
    {
     "name": "stdout",
     "output_type": "stream",
     "text": [
      "Sorted list: [(3, 1), (2, 2), (1, 3)]\n"
     ]
    }
   ],
   "source": [
    "# 92. Write a Python program that uses lambda functions to sort a list of tuples based on the second element.\n",
    "tuples_list = [(1, 3), (2, 2), (3, 1)]\n",
    "\n",
    "sorted_list = sorted(tuples_list, key=lambda x: x[1])\n",
    "print(\"Sorted list:\", sorted_list) "
   ]
  },
  {
   "cell_type": "code",
   "execution_count": 101,
   "id": "63cc5306-e95d-4c7b-819b-756c1408bb5b",
   "metadata": {},
   "outputs": [
    {
     "name": "stdout",
     "output_type": "stream",
     "text": [
      "Result of addition: 8\n",
      "Result of subtraction: 2\n"
     ]
    }
   ],
   "source": [
    "# 93. Explain the concept of higher-order functions in Python, and provide an example.\n",
    "\"\"\"\n",
    "Higher-order functions in Python are functions that can accept other functions as arguments and/or return functions\n",
    "as output. This allows for more flexible and modular code, as functions can be passed around and manipulated like\n",
    "any other data type.\"\"\"\n",
    "\n",
    "def apply_operation(operation, x, y):\n",
    "    return operation(x, y)\n",
    "\n",
    "def add(x, y):\n",
    "    return x + y\n",
    "\n",
    "def subtract(x, y):\n",
    "    return x - y\n",
    "\n",
    "result_add = apply_operation(add, 5, 3)\n",
    "print(\"Result of addition:\", result_add) \n",
    "\n",
    "result_subtract = apply_operation(subtract, 5, 3)\n",
    "print(\"Result of subtraction:\", result_subtract) \n"
   ]
  },
  {
   "cell_type": "code",
   "execution_count": 102,
   "id": "87060798-0a11-46d0-8e88-80a93c330d47",
   "metadata": {},
   "outputs": [
    {
     "name": "stdout",
     "output_type": "stream",
     "text": [
      "Squared numbers: [1, 4, 9, 16, 25]\n",
      "Cubed numbers: [1, 8, 27, 64, 125]\n"
     ]
    }
   ],
   "source": [
    "# 94. Create a Python function that takes a list of numbers and a function as arguments, applying the function to each element in the list.\n",
    "def apply_function_to_list(numbers, func):\n",
    "    return [func(num) for num in numbers]\n",
    "\n",
    "numbers = [1, 2, 3, 4, 5]\n",
    "squared_numbers = apply_function_to_list(numbers, lambda x: x ** 2)\n",
    "print(\"Squared numbers:\", squared_numbers)  \n",
    "cubed_numbers = apply_function_to_list(numbers, lambda x: x ** 3)\n",
    "print(\"Cubed numbers:\", cubed_numbers)"
   ]
  },
  {
   "cell_type": "markdown",
   "id": "3c07cfbc-c192-41dd-b8a4-ecd21bb5b407",
   "metadata": {},
   "source": [
    "### Built-in Functions:\n"
   ]
  },
  {
   "cell_type": "code",
   "execution_count": null,
   "id": "4974a1e0-4c30-464a-9ce8-643a2f60b7df",
   "metadata": {},
   "outputs": [],
   "source": [
    "# 95. Describe the role of built-in functions like `len()`, `max()`, and `min()` in Python.\n",
    "\"\"\"\n",
    "- `len()`: Returns the length (number of items) of an object. It can be applied to sequences (lists, tuples,\n",
    "  strings, etc.) and collections (dictionaries, sets, etc.).\n",
    "  \n",
    "- `max()`: Returns the maximum value from a sequence or collection. It can accept multiple arguments and\n",
    "  returns the largest of them.\n",
    "\n",
    "- `min()`: Returns the minimum value from a sequence or collection. Similar to `max()`, it can accept\n",
    "  multiple arguments and returns the smallest of them.\n",
    "\"\"\""
   ]
  },
  {
   "cell_type": "code",
   "execution_count": 103,
   "id": "118c8a33-e020-4a69-8e5d-9bb8c52dd528",
   "metadata": {},
   "outputs": [
    {
     "name": "stdout",
     "output_type": "stream",
     "text": [
      "Squared numbers: [1, 4, 9, 16, 25]\n"
     ]
    }
   ],
   "source": [
    "# 96. Write a Python program that uses the `map()` function to apply a function to each element of a list.\n",
    "def square(x):\n",
    "    return x ** 2\n",
    "\n",
    "numbers = [1, 2, 3, 4, 5]\n",
    "squared_numbers = list(map(square, numbers))\n",
    "print(\"Squared numbers:\", squared_numbers)  "
   ]
  },
  {
   "cell_type": "code",
   "execution_count": null,
   "id": "b5fb6208-e436-4953-ab34-55288990e428",
   "metadata": {},
   "outputs": [],
   "source": [
    "# 97. How does the `filter()` function work in Python, and when would you use it?\n",
    "\"\"\"\n",
    "The `filter()` function in Python is used to filter elements from an iterable (e.g., list, tuple) based on\n",
    "a given function or condition. It takes two arguments: the function or condition to apply, and the iterable\n",
    "to filter. The function or condition should return `True` for elements to be included in the output.\n",
    "\n",
    "You would use the `filter()` function when you need to selectively extract elements from a collection based on\n",
    "a specific criterion.\n",
    "\"\"\""
   ]
  },
  {
   "cell_type": "code",
   "execution_count": 104,
   "id": "45ab7750-2f68-4a4e-8f25-4826c624a462",
   "metadata": {},
   "outputs": [
    {
     "name": "stdout",
     "output_type": "stream",
     "text": [
      "Product of all elements: 120\n"
     ]
    }
   ],
   "source": [
    "# 98. Create a Python program that uses the `reduce()` function to find the product of all elements in a list.\n",
    "from functools import reduce\n",
    "\n",
    "def product(x, y):\n",
    "    return x * y\n",
    "\n",
    "numbers = [1, 2, 3, 4, 5]\n",
    "product_result = reduce(product, numbers)\n",
    "print(\"Product of all elements:\", product_result) "
   ]
  },
  {
   "cell_type": "markdown",
   "id": "e60a6d8a-3529-45e2-8642-51081455da40",
   "metadata": {},
   "source": [
    "### Function Documentation and Best Practices:\n"
   ]
  },
  {
   "cell_type": "code",
   "execution_count": null,
   "id": "12c2f218-963d-41d9-a0af-5b2c190db697",
   "metadata": {},
   "outputs": [],
   "source": [
    "# 99. Explain the purpose of docstrings in Python functions and how to write them.\n",
    "\"\"\"\n",
    "Docstrings in Python are used to document functions, modules, classes, or methods. They serve as a form of inline\n",
    "documentation that describes what the function does, its parameters, return values, and any other relevant information.\n",
    "Docstrings are enclosed within triple quotes (either single or double) and can span multiple lines.\n",
    "\n",
    "To write a docstring:\n",
    "1. Start with a summary line that briefly describes the purpose of the function.\n",
    "2. Optionally, include more detailed information about parameters, return values, exceptions, etc.\n",
    "3. Use descriptive language and follow any applicable style guide or conventions.\n",
    "4. Ensure the docstring is properly formatted and easily readable.\n",
    "\"\"\""
   ]
  },
  {
   "cell_type": "code",
   "execution_count": 109,
   "id": "47be9724-fbc2-462e-9be6-033451076305",
   "metadata": {},
   "outputs": [
    {
     "name": "stdout",
     "output_type": "stream",
     "text": [
      "Total sum: 15\n"
     ]
    }
   ],
   "source": [
    "# 100. Describe some best practices for naming functions and variables in Python, including naming conventions and guidelines.\n",
    "\"\"\"\n",
    "- Use descriptive names: Choose names that accurately describe the purpose or functionality of the function or variable.\n",
    "  Avoid generic names like `temp`, `var`, or single-letter names like `x`, `y`.\n",
    "- Follow naming conventions: \n",
    "  - Use lowercase letters and underscores for variable names (e.g., `my_variable`, `total_sum`).\n",
    "  - Use lowercase letters and underscores or lowercase letters with capitalization for function names (e.g., `calculate_sum`, `get_value`).\n",
    "  - Use CamelCase for class names (e.g., `MyClass`, `UserData`).\n",
    "- Be consistent: Stick to a consistent naming style throughout your codebase.\n",
    "- Avoid using reserved keywords: Do not use Python keywords as function or variable names to prevent conflicts.\n",
    "- Use meaningful prefixes or suffixes: Prefixes like `is_` for boolean variables or suffixes like `_list` for list variables can improve readability.\n",
    "- Use nouns for variables and verb phrases for functions: Follow the principle of naming conventions that make your code self-explanatory.\n",
    "- Keep names concise but descriptive: Aim for names that are short enough to be readable but long enough to convey meaning.\n",
    "- Use comments when necessary: If a variable or function name alone cannot fully describe its purpose, consider adding a comment to provide additional context.\n",
    "\"\"\"\n",
    "\n",
    "# Example:\n",
    "def calculate_sum(numbers):\n",
    "    \"\"\"\n",
    "    This function calculates the sum of a list of numbers.\n",
    "\n",
    "    Parameters:\n",
    "    numbers (list): A list of numbers to be summed.\n",
    "\n",
    "    Returns:\n",
    "    int: The sum of the numbers in the list.\n",
    "    \"\"\"\n",
    "    return sum(numbers)\n",
    "\n",
    "\n",
    "total_sum = calculate_sum([1, 2, 3, 4, 5])\n",
    "print(\"Total sum:\", total_sum) "
   ]
  },
  {
   "cell_type": "code",
   "execution_count": null,
   "id": "859456de-c667-4234-b6d8-9c62ed9c5310",
   "metadata": {},
   "outputs": [],
   "source": []
  }
 ],
 "metadata": {
  "kernelspec": {
   "display_name": "Python 3 (ipykernel)",
   "language": "python",
   "name": "python3"
  },
  "language_info": {
   "codemirror_mode": {
    "name": "ipython",
    "version": 3
   },
   "file_extension": ".py",
   "mimetype": "text/x-python",
   "name": "python",
   "nbconvert_exporter": "python",
   "pygments_lexer": "ipython3",
   "version": "3.10.8"
  }
 },
 "nbformat": 4,
 "nbformat_minor": 5
}
